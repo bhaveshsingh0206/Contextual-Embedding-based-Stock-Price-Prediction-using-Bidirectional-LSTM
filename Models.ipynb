{
  "cells": [
    {
      "cell_type": "markdown",
      "metadata": {
        "id": "view-in-github",
        "colab_type": "text"
      },
      "source": [
        "<a href=\"https://colab.research.google.com/github/bhaveshsingh0206/Contextual-Embedding-based-Stock-Price-Prediction-using-Bidirectional-LSTM/blob/main/Models.ipynb\" target=\"_parent\"><img src=\"https://colab.research.google.com/assets/colab-badge.svg\" alt=\"Open In Colab\"/></a>"
      ]
    },
    {
      "cell_type": "code",
      "execution_count": 151,
      "metadata": {
        "colab": {
          "base_uri": "https://localhost:8080/"
        },
        "id": "jfX-Tcu7qaFv",
        "outputId": "f6640887-a9e6-4552-8e20-1085219d8d50"
      },
      "outputs": [
        {
          "output_type": "stream",
          "name": "stdout",
          "text": [
            "Looking in indexes: https://pypi.org/simple, https://us-python.pkg.dev/colab-wheels/public/simple/\n",
            "Collecting sns\n",
            "  Downloading sns-0.1.tar.gz (2.1 kB)\n",
            "Building wheels for collected packages: sns\n",
            "  Building wheel for sns (setup.py) ... \u001b[?25l\u001b[?25hdone\n",
            "  Created wheel for sns: filename=sns-0.1-py3-none-any.whl size=2662 sha256=c9c25add20fa94b35a136dc53a1494b5158d61ec9efd3dca0ded20179d21aba4\n",
            "  Stored in directory: /root/.cache/pip/wheels/94/30/68/c7bbc5257894097a14adf5c7d6e7de56127c9936f27afe2416\n",
            "Successfully built sns\n",
            "Installing collected packages: sns\n",
            "Successfully installed sns-0.1\n"
          ]
        }
      ],
      "source": [
        "!pip install transformers\n",
        "!pip install gensim\n",
        "!pip install sns\n",
        "!pip install torchvision "
      ]
    },
    {
      "cell_type": "code",
      "source": [
        "from google.colab import drive\n",
        "drive.mount('/content/drive')"
      ],
      "metadata": {
        "colab": {
          "base_uri": "https://localhost:8080/"
        },
        "id": "V71BfOKhJub7",
        "outputId": "6d81d79f-619c-4d6d-d7de-d02a463901e6"
      },
      "execution_count": null,
      "outputs": [
        {
          "output_type": "stream",
          "name": "stdout",
          "text": [
            "Mounted at /content/drive\n"
          ]
        }
      ]
    },
    {
      "cell_type": "code",
      "execution_count": 229,
      "metadata": {
        "id": "006NPFERj6kE"
      },
      "outputs": [],
      "source": [
        "import pandas as pd\n",
        "import requests\n"
      ]
    },
    {
      "cell_type": "code",
      "execution_count": null,
      "metadata": {
        "id": "MrN9DBH51Qb4"
      },
      "outputs": [],
      "source": [
        "text=[]\n",
        "sentiment=[]\n",
        "with open('/content/drive/MyDrive/NLP Dataset/FinancialPhraseBank-v1.0 2/Sentences_50Agree.txt', encoding = \"ISO-8859-1\") as f:\n",
        "  lines = f.read().splitlines()\n",
        "  for line in lines:\n",
        "    line=line.rstrip().split('@')\n",
        "    text.append(' '.join(line[:-1]))\n",
        "    sentiment.append(line[-1])"
      ]
    },
    {
      "cell_type": "code",
      "execution_count": null,
      "metadata": {
        "colab": {
          "base_uri": "https://localhost:8080/",
          "height": 206
        },
        "id": "0dJXpVT64gzT",
        "outputId": "3c812bd3-2d4f-46ea-8ffa-01c4d68d9dd8"
      },
      "outputs": [
        {
          "output_type": "execute_result",
          "data": {
            "text/plain": [
              "                                                Text Sentiment\n",
              "0  According to Gran , the company has no plans t...   neutral\n",
              "1  Technopolis plans to develop in stages an area...   neutral\n",
              "2  The international electronic industry company ...  negative\n",
              "3  With the new production plant the company woul...  positive\n",
              "4  According to the company 's updated strategy f...  positive"
            ],
            "text/html": [
              "\n",
              "  <div id=\"df-11593b39-0a2f-4ec2-a721-cb828d000cc6\">\n",
              "    <div class=\"colab-df-container\">\n",
              "      <div>\n",
              "<style scoped>\n",
              "    .dataframe tbody tr th:only-of-type {\n",
              "        vertical-align: middle;\n",
              "    }\n",
              "\n",
              "    .dataframe tbody tr th {\n",
              "        vertical-align: top;\n",
              "    }\n",
              "\n",
              "    .dataframe thead th {\n",
              "        text-align: right;\n",
              "    }\n",
              "</style>\n",
              "<table border=\"1\" class=\"dataframe\">\n",
              "  <thead>\n",
              "    <tr style=\"text-align: right;\">\n",
              "      <th></th>\n",
              "      <th>Text</th>\n",
              "      <th>Sentiment</th>\n",
              "    </tr>\n",
              "  </thead>\n",
              "  <tbody>\n",
              "    <tr>\n",
              "      <th>0</th>\n",
              "      <td>According to Gran , the company has no plans t...</td>\n",
              "      <td>neutral</td>\n",
              "    </tr>\n",
              "    <tr>\n",
              "      <th>1</th>\n",
              "      <td>Technopolis plans to develop in stages an area...</td>\n",
              "      <td>neutral</td>\n",
              "    </tr>\n",
              "    <tr>\n",
              "      <th>2</th>\n",
              "      <td>The international electronic industry company ...</td>\n",
              "      <td>negative</td>\n",
              "    </tr>\n",
              "    <tr>\n",
              "      <th>3</th>\n",
              "      <td>With the new production plant the company woul...</td>\n",
              "      <td>positive</td>\n",
              "    </tr>\n",
              "    <tr>\n",
              "      <th>4</th>\n",
              "      <td>According to the company 's updated strategy f...</td>\n",
              "      <td>positive</td>\n",
              "    </tr>\n",
              "  </tbody>\n",
              "</table>\n",
              "</div>\n",
              "      <button class=\"colab-df-convert\" onclick=\"convertToInteractive('df-11593b39-0a2f-4ec2-a721-cb828d000cc6')\"\n",
              "              title=\"Convert this dataframe to an interactive table.\"\n",
              "              style=\"display:none;\">\n",
              "        \n",
              "  <svg xmlns=\"http://www.w3.org/2000/svg\" height=\"24px\"viewBox=\"0 0 24 24\"\n",
              "       width=\"24px\">\n",
              "    <path d=\"M0 0h24v24H0V0z\" fill=\"none\"/>\n",
              "    <path d=\"M18.56 5.44l.94 2.06.94-2.06 2.06-.94-2.06-.94-.94-2.06-.94 2.06-2.06.94zm-11 1L8.5 8.5l.94-2.06 2.06-.94-2.06-.94L8.5 2.5l-.94 2.06-2.06.94zm10 10l.94 2.06.94-2.06 2.06-.94-2.06-.94-.94-2.06-.94 2.06-2.06.94z\"/><path d=\"M17.41 7.96l-1.37-1.37c-.4-.4-.92-.59-1.43-.59-.52 0-1.04.2-1.43.59L10.3 9.45l-7.72 7.72c-.78.78-.78 2.05 0 2.83L4 21.41c.39.39.9.59 1.41.59.51 0 1.02-.2 1.41-.59l7.78-7.78 2.81-2.81c.8-.78.8-2.07 0-2.86zM5.41 20L4 18.59l7.72-7.72 1.47 1.35L5.41 20z\"/>\n",
              "  </svg>\n",
              "      </button>\n",
              "      \n",
              "  <style>\n",
              "    .colab-df-container {\n",
              "      display:flex;\n",
              "      flex-wrap:wrap;\n",
              "      gap: 12px;\n",
              "    }\n",
              "\n",
              "    .colab-df-convert {\n",
              "      background-color: #E8F0FE;\n",
              "      border: none;\n",
              "      border-radius: 50%;\n",
              "      cursor: pointer;\n",
              "      display: none;\n",
              "      fill: #1967D2;\n",
              "      height: 32px;\n",
              "      padding: 0 0 0 0;\n",
              "      width: 32px;\n",
              "    }\n",
              "\n",
              "    .colab-df-convert:hover {\n",
              "      background-color: #E2EBFA;\n",
              "      box-shadow: 0px 1px 2px rgba(60, 64, 67, 0.3), 0px 1px 3px 1px rgba(60, 64, 67, 0.15);\n",
              "      fill: #174EA6;\n",
              "    }\n",
              "\n",
              "    [theme=dark] .colab-df-convert {\n",
              "      background-color: #3B4455;\n",
              "      fill: #D2E3FC;\n",
              "    }\n",
              "\n",
              "    [theme=dark] .colab-df-convert:hover {\n",
              "      background-color: #434B5C;\n",
              "      box-shadow: 0px 1px 3px 1px rgba(0, 0, 0, 0.15);\n",
              "      filter: drop-shadow(0px 1px 2px rgba(0, 0, 0, 0.3));\n",
              "      fill: #FFFFFF;\n",
              "    }\n",
              "  </style>\n",
              "\n",
              "      <script>\n",
              "        const buttonEl =\n",
              "          document.querySelector('#df-11593b39-0a2f-4ec2-a721-cb828d000cc6 button.colab-df-convert');\n",
              "        buttonEl.style.display =\n",
              "          google.colab.kernel.accessAllowed ? 'block' : 'none';\n",
              "\n",
              "        async function convertToInteractive(key) {\n",
              "          const element = document.querySelector('#df-11593b39-0a2f-4ec2-a721-cb828d000cc6');\n",
              "          const dataTable =\n",
              "            await google.colab.kernel.invokeFunction('convertToInteractive',\n",
              "                                                     [key], {});\n",
              "          if (!dataTable) return;\n",
              "\n",
              "          const docLinkHtml = 'Like what you see? Visit the ' +\n",
              "            '<a target=\"_blank\" href=https://colab.research.google.com/notebooks/data_table.ipynb>data table notebook</a>'\n",
              "            + ' to learn more about interactive tables.';\n",
              "          element.innerHTML = '';\n",
              "          dataTable['output_type'] = 'display_data';\n",
              "          await google.colab.output.renderOutput(dataTable, element);\n",
              "          const docLink = document.createElement('div');\n",
              "          docLink.innerHTML = docLinkHtml;\n",
              "          element.appendChild(docLink);\n",
              "        }\n",
              "      </script>\n",
              "    </div>\n",
              "  </div>\n",
              "  "
            ]
          },
          "metadata": {},
          "execution_count": 98
        }
      ],
      "source": [
        "data = {'Text': text, 'Sentiment': sentiment}  \n",
        "df = pd.DataFrame(data)  \n",
        "df.head()"
      ]
    },
    {
      "cell_type": "code",
      "execution_count": null,
      "metadata": {
        "colab": {
          "base_uri": "https://localhost:8080/"
        },
        "id": "Ao8kXyBVFeiO",
        "outputId": "bd6ad760-1427-4171-d2ae-8ddeb72746c9"
      },
      "outputs": [
        {
          "output_type": "execute_result",
          "data": {
            "text/plain": [
              "Text         0\n",
              "Sentiment    0\n",
              "dtype: int64"
            ]
          },
          "metadata": {},
          "execution_count": 99
        }
      ],
      "source": [
        "df.isna().sum()"
      ]
    },
    {
      "cell_type": "code",
      "execution_count": null,
      "metadata": {
        "colab": {
          "base_uri": "https://localhost:8080/",
          "height": 206
        },
        "id": "ku9-JCvfF1d9",
        "outputId": "dbc52871-5e30-457f-e314-d4d8be7d85d2"
      },
      "outputs": [
        {
          "output_type": "execute_result",
          "data": {
            "text/plain": [
              "                                                Text Sentiment\n",
              "0  According to Gran , the company has no plans t...   neutral\n",
              "1  Technopolis plans to develop in stages an area...   neutral\n",
              "2  The international electronic industry company ...  negative\n",
              "3  With the new production plant the company woul...  positive\n",
              "4  According to the company 's updated strategy f...  positive"
            ],
            "text/html": [
              "\n",
              "  <div id=\"df-1ae73946-a366-4b45-80ae-855b7e26de21\">\n",
              "    <div class=\"colab-df-container\">\n",
              "      <div>\n",
              "<style scoped>\n",
              "    .dataframe tbody tr th:only-of-type {\n",
              "        vertical-align: middle;\n",
              "    }\n",
              "\n",
              "    .dataframe tbody tr th {\n",
              "        vertical-align: top;\n",
              "    }\n",
              "\n",
              "    .dataframe thead th {\n",
              "        text-align: right;\n",
              "    }\n",
              "</style>\n",
              "<table border=\"1\" class=\"dataframe\">\n",
              "  <thead>\n",
              "    <tr style=\"text-align: right;\">\n",
              "      <th></th>\n",
              "      <th>Text</th>\n",
              "      <th>Sentiment</th>\n",
              "    </tr>\n",
              "  </thead>\n",
              "  <tbody>\n",
              "    <tr>\n",
              "      <th>0</th>\n",
              "      <td>According to Gran , the company has no plans t...</td>\n",
              "      <td>neutral</td>\n",
              "    </tr>\n",
              "    <tr>\n",
              "      <th>1</th>\n",
              "      <td>Technopolis plans to develop in stages an area...</td>\n",
              "      <td>neutral</td>\n",
              "    </tr>\n",
              "    <tr>\n",
              "      <th>2</th>\n",
              "      <td>The international electronic industry company ...</td>\n",
              "      <td>negative</td>\n",
              "    </tr>\n",
              "    <tr>\n",
              "      <th>3</th>\n",
              "      <td>With the new production plant the company woul...</td>\n",
              "      <td>positive</td>\n",
              "    </tr>\n",
              "    <tr>\n",
              "      <th>4</th>\n",
              "      <td>According to the company 's updated strategy f...</td>\n",
              "      <td>positive</td>\n",
              "    </tr>\n",
              "  </tbody>\n",
              "</table>\n",
              "</div>\n",
              "      <button class=\"colab-df-convert\" onclick=\"convertToInteractive('df-1ae73946-a366-4b45-80ae-855b7e26de21')\"\n",
              "              title=\"Convert this dataframe to an interactive table.\"\n",
              "              style=\"display:none;\">\n",
              "        \n",
              "  <svg xmlns=\"http://www.w3.org/2000/svg\" height=\"24px\"viewBox=\"0 0 24 24\"\n",
              "       width=\"24px\">\n",
              "    <path d=\"M0 0h24v24H0V0z\" fill=\"none\"/>\n",
              "    <path d=\"M18.56 5.44l.94 2.06.94-2.06 2.06-.94-2.06-.94-.94-2.06-.94 2.06-2.06.94zm-11 1L8.5 8.5l.94-2.06 2.06-.94-2.06-.94L8.5 2.5l-.94 2.06-2.06.94zm10 10l.94 2.06.94-2.06 2.06-.94-2.06-.94-.94-2.06-.94 2.06-2.06.94z\"/><path d=\"M17.41 7.96l-1.37-1.37c-.4-.4-.92-.59-1.43-.59-.52 0-1.04.2-1.43.59L10.3 9.45l-7.72 7.72c-.78.78-.78 2.05 0 2.83L4 21.41c.39.39.9.59 1.41.59.51 0 1.02-.2 1.41-.59l7.78-7.78 2.81-2.81c.8-.78.8-2.07 0-2.86zM5.41 20L4 18.59l7.72-7.72 1.47 1.35L5.41 20z\"/>\n",
              "  </svg>\n",
              "      </button>\n",
              "      \n",
              "  <style>\n",
              "    .colab-df-container {\n",
              "      display:flex;\n",
              "      flex-wrap:wrap;\n",
              "      gap: 12px;\n",
              "    }\n",
              "\n",
              "    .colab-df-convert {\n",
              "      background-color: #E8F0FE;\n",
              "      border: none;\n",
              "      border-radius: 50%;\n",
              "      cursor: pointer;\n",
              "      display: none;\n",
              "      fill: #1967D2;\n",
              "      height: 32px;\n",
              "      padding: 0 0 0 0;\n",
              "      width: 32px;\n",
              "    }\n",
              "\n",
              "    .colab-df-convert:hover {\n",
              "      background-color: #E2EBFA;\n",
              "      box-shadow: 0px 1px 2px rgba(60, 64, 67, 0.3), 0px 1px 3px 1px rgba(60, 64, 67, 0.15);\n",
              "      fill: #174EA6;\n",
              "    }\n",
              "\n",
              "    [theme=dark] .colab-df-convert {\n",
              "      background-color: #3B4455;\n",
              "      fill: #D2E3FC;\n",
              "    }\n",
              "\n",
              "    [theme=dark] .colab-df-convert:hover {\n",
              "      background-color: #434B5C;\n",
              "      box-shadow: 0px 1px 3px 1px rgba(0, 0, 0, 0.15);\n",
              "      filter: drop-shadow(0px 1px 2px rgba(0, 0, 0, 0.3));\n",
              "      fill: #FFFFFF;\n",
              "    }\n",
              "  </style>\n",
              "\n",
              "      <script>\n",
              "        const buttonEl =\n",
              "          document.querySelector('#df-1ae73946-a366-4b45-80ae-855b7e26de21 button.colab-df-convert');\n",
              "        buttonEl.style.display =\n",
              "          google.colab.kernel.accessAllowed ? 'block' : 'none';\n",
              "\n",
              "        async function convertToInteractive(key) {\n",
              "          const element = document.querySelector('#df-1ae73946-a366-4b45-80ae-855b7e26de21');\n",
              "          const dataTable =\n",
              "            await google.colab.kernel.invokeFunction('convertToInteractive',\n",
              "                                                     [key], {});\n",
              "          if (!dataTable) return;\n",
              "\n",
              "          const docLinkHtml = 'Like what you see? Visit the ' +\n",
              "            '<a target=\"_blank\" href=https://colab.research.google.com/notebooks/data_table.ipynb>data table notebook</a>'\n",
              "            + ' to learn more about interactive tables.';\n",
              "          element.innerHTML = '';\n",
              "          dataTable['output_type'] = 'display_data';\n",
              "          await google.colab.output.renderOutput(dataTable, element);\n",
              "          const docLink = document.createElement('div');\n",
              "          docLink.innerHTML = docLinkHtml;\n",
              "          element.appendChild(docLink);\n",
              "        }\n",
              "      </script>\n",
              "    </div>\n",
              "  </div>\n",
              "  "
            ]
          },
          "metadata": {},
          "execution_count": 100
        }
      ],
      "source": [
        "df.head()"
      ]
    },
    {
      "cell_type": "code",
      "execution_count": null,
      "metadata": {
        "colab": {
          "base_uri": "https://localhost:8080/"
        },
        "id": "da89zM7VGCI9",
        "outputId": "c38d9569-6002-454d-c883-ee06128f91be"
      },
      "outputs": [
        {
          "output_type": "execute_result",
          "data": {
            "text/plain": [
              "array(['neutral', 'negative', 'positive'], dtype=object)"
            ]
          },
          "metadata": {},
          "execution_count": 101
        }
      ],
      "source": [
        "df['Sentiment'].unique()"
      ]
    },
    {
      "cell_type": "code",
      "execution_count": null,
      "metadata": {
        "id": "LOma2JV-_JmF"
      },
      "outputs": [],
      "source": [
        "from bs4 import BeautifulSoup\n",
        "import re"
      ]
    },
    {
      "cell_type": "code",
      "execution_count": null,
      "metadata": {
        "id": "Pp9eevAt_DGM"
      },
      "outputs": [],
      "source": [
        "punctuations = '''!()-[]{};:\"\\,<>./?@#%^&*_~'''\n",
        "def cleanText(x):\n",
        "  x = x.lower().strip()\n",
        "  soup = BeautifulSoup(x)\n",
        "  x = soup.get_text()\n",
        "  x = re.sub(r'https?://\\S+', '', x)\n",
        "  x=re.sub(\"\\s\\s+\", \" \", x.strip())\n",
        "  no_punct = \"\"\n",
        "  for char in x:\n",
        "    if char not in punctuations:\n",
        "        no_punct = no_punct + char\n",
        "    else:\n",
        "        no_punct += \" \"\n",
        "  x = no_punct\n",
        "\n",
        "  x=re.sub(\"\\s\\s+\", \" \", x.strip())\n",
        "  if (x==' ' or len(x)==0): \n",
        "    return np.nan\n",
        "  return x"
      ]
    },
    {
      "cell_type": "code",
      "execution_count": null,
      "metadata": {
        "colab": {
          "base_uri": "https://localhost:8080/"
        },
        "id": "B1GkuwkV_FdP",
        "outputId": "eac4312c-059e-450d-a0c9-4f2c33976ae9"
      },
      "outputs": [
        {
          "output_type": "stream",
          "name": "stdout",
          "text": [
            "73\n"
          ]
        }
      ],
      "source": [
        "df['Text']= df['Text'].apply(cleanText)\n",
        "maxLen = 0\n",
        "for l in df['Text']:\n",
        "  maxLen = max(maxLen, len(l.split(' ')))\n",
        "print(maxLen)"
      ]
    },
    {
      "cell_type": "code",
      "execution_count": null,
      "metadata": {
        "id": "Lw6rswl1GRfZ"
      },
      "outputs": [],
      "source": [
        "import torch\n",
        "import numpy as np\n",
        "from transformers import BertTokenizer\n",
        "\n",
        "tokenizer = BertTokenizer.from_pretrained('bert-base-uncased')\n",
        "labels = {'neutral':0,\n",
        "          'negative':1,\n",
        "          'positive':2,\n",
        "          }"
      ]
    },
    {
      "cell_type": "code",
      "execution_count": null,
      "metadata": {
        "id": "coRH6rYXM0sX"
      },
      "outputs": [],
      "source": [
        "def change_label(x):\n",
        "  return labels[x]\n",
        "df['Sentiment_Label']=df['Sentiment'].apply(change_label)"
      ]
    },
    {
      "cell_type": "code",
      "execution_count": null,
      "metadata": {
        "colab": {
          "base_uri": "https://localhost:8080/",
          "height": 206
        },
        "id": "V4nT0KG1T4SG",
        "outputId": "05b0dfe9-7aab-4ca1-cb81-a367675089f2"
      },
      "outputs": [
        {
          "output_type": "execute_result",
          "data": {
            "text/plain": [
              "                                                Text Sentiment  \\\n",
              "0  according to gran the company has no plans to ...   neutral   \n",
              "1  technopolis plans to develop in stages an area...   neutral   \n",
              "2  the international electronic industry company ...  negative   \n",
              "3  with the new production plant the company woul...  positive   \n",
              "4  according to the company 's updated strategy f...  positive   \n",
              "\n",
              "   Sentiment_Label  \n",
              "0                0  \n",
              "1                0  \n",
              "2                1  \n",
              "3                2  \n",
              "4                2  "
            ],
            "text/html": [
              "\n",
              "  <div id=\"df-69bb6d89-4572-4595-9bd5-5b64f6b5fee5\">\n",
              "    <div class=\"colab-df-container\">\n",
              "      <div>\n",
              "<style scoped>\n",
              "    .dataframe tbody tr th:only-of-type {\n",
              "        vertical-align: middle;\n",
              "    }\n",
              "\n",
              "    .dataframe tbody tr th {\n",
              "        vertical-align: top;\n",
              "    }\n",
              "\n",
              "    .dataframe thead th {\n",
              "        text-align: right;\n",
              "    }\n",
              "</style>\n",
              "<table border=\"1\" class=\"dataframe\">\n",
              "  <thead>\n",
              "    <tr style=\"text-align: right;\">\n",
              "      <th></th>\n",
              "      <th>Text</th>\n",
              "      <th>Sentiment</th>\n",
              "      <th>Sentiment_Label</th>\n",
              "    </tr>\n",
              "  </thead>\n",
              "  <tbody>\n",
              "    <tr>\n",
              "      <th>0</th>\n",
              "      <td>according to gran the company has no plans to ...</td>\n",
              "      <td>neutral</td>\n",
              "      <td>0</td>\n",
              "    </tr>\n",
              "    <tr>\n",
              "      <th>1</th>\n",
              "      <td>technopolis plans to develop in stages an area...</td>\n",
              "      <td>neutral</td>\n",
              "      <td>0</td>\n",
              "    </tr>\n",
              "    <tr>\n",
              "      <th>2</th>\n",
              "      <td>the international electronic industry company ...</td>\n",
              "      <td>negative</td>\n",
              "      <td>1</td>\n",
              "    </tr>\n",
              "    <tr>\n",
              "      <th>3</th>\n",
              "      <td>with the new production plant the company woul...</td>\n",
              "      <td>positive</td>\n",
              "      <td>2</td>\n",
              "    </tr>\n",
              "    <tr>\n",
              "      <th>4</th>\n",
              "      <td>according to the company 's updated strategy f...</td>\n",
              "      <td>positive</td>\n",
              "      <td>2</td>\n",
              "    </tr>\n",
              "  </tbody>\n",
              "</table>\n",
              "</div>\n",
              "      <button class=\"colab-df-convert\" onclick=\"convertToInteractive('df-69bb6d89-4572-4595-9bd5-5b64f6b5fee5')\"\n",
              "              title=\"Convert this dataframe to an interactive table.\"\n",
              "              style=\"display:none;\">\n",
              "        \n",
              "  <svg xmlns=\"http://www.w3.org/2000/svg\" height=\"24px\"viewBox=\"0 0 24 24\"\n",
              "       width=\"24px\">\n",
              "    <path d=\"M0 0h24v24H0V0z\" fill=\"none\"/>\n",
              "    <path d=\"M18.56 5.44l.94 2.06.94-2.06 2.06-.94-2.06-.94-.94-2.06-.94 2.06-2.06.94zm-11 1L8.5 8.5l.94-2.06 2.06-.94-2.06-.94L8.5 2.5l-.94 2.06-2.06.94zm10 10l.94 2.06.94-2.06 2.06-.94-2.06-.94-.94-2.06-.94 2.06-2.06.94z\"/><path d=\"M17.41 7.96l-1.37-1.37c-.4-.4-.92-.59-1.43-.59-.52 0-1.04.2-1.43.59L10.3 9.45l-7.72 7.72c-.78.78-.78 2.05 0 2.83L4 21.41c.39.39.9.59 1.41.59.51 0 1.02-.2 1.41-.59l7.78-7.78 2.81-2.81c.8-.78.8-2.07 0-2.86zM5.41 20L4 18.59l7.72-7.72 1.47 1.35L5.41 20z\"/>\n",
              "  </svg>\n",
              "      </button>\n",
              "      \n",
              "  <style>\n",
              "    .colab-df-container {\n",
              "      display:flex;\n",
              "      flex-wrap:wrap;\n",
              "      gap: 12px;\n",
              "    }\n",
              "\n",
              "    .colab-df-convert {\n",
              "      background-color: #E8F0FE;\n",
              "      border: none;\n",
              "      border-radius: 50%;\n",
              "      cursor: pointer;\n",
              "      display: none;\n",
              "      fill: #1967D2;\n",
              "      height: 32px;\n",
              "      padding: 0 0 0 0;\n",
              "      width: 32px;\n",
              "    }\n",
              "\n",
              "    .colab-df-convert:hover {\n",
              "      background-color: #E2EBFA;\n",
              "      box-shadow: 0px 1px 2px rgba(60, 64, 67, 0.3), 0px 1px 3px 1px rgba(60, 64, 67, 0.15);\n",
              "      fill: #174EA6;\n",
              "    }\n",
              "\n",
              "    [theme=dark] .colab-df-convert {\n",
              "      background-color: #3B4455;\n",
              "      fill: #D2E3FC;\n",
              "    }\n",
              "\n",
              "    [theme=dark] .colab-df-convert:hover {\n",
              "      background-color: #434B5C;\n",
              "      box-shadow: 0px 1px 3px 1px rgba(0, 0, 0, 0.15);\n",
              "      filter: drop-shadow(0px 1px 2px rgba(0, 0, 0, 0.3));\n",
              "      fill: #FFFFFF;\n",
              "    }\n",
              "  </style>\n",
              "\n",
              "      <script>\n",
              "        const buttonEl =\n",
              "          document.querySelector('#df-69bb6d89-4572-4595-9bd5-5b64f6b5fee5 button.colab-df-convert');\n",
              "        buttonEl.style.display =\n",
              "          google.colab.kernel.accessAllowed ? 'block' : 'none';\n",
              "\n",
              "        async function convertToInteractive(key) {\n",
              "          const element = document.querySelector('#df-69bb6d89-4572-4595-9bd5-5b64f6b5fee5');\n",
              "          const dataTable =\n",
              "            await google.colab.kernel.invokeFunction('convertToInteractive',\n",
              "                                                     [key], {});\n",
              "          if (!dataTable) return;\n",
              "\n",
              "          const docLinkHtml = 'Like what you see? Visit the ' +\n",
              "            '<a target=\"_blank\" href=https://colab.research.google.com/notebooks/data_table.ipynb>data table notebook</a>'\n",
              "            + ' to learn more about interactive tables.';\n",
              "          element.innerHTML = '';\n",
              "          dataTable['output_type'] = 'display_data';\n",
              "          await google.colab.output.renderOutput(dataTable, element);\n",
              "          const docLink = document.createElement('div');\n",
              "          docLink.innerHTML = docLinkHtml;\n",
              "          element.appendChild(docLink);\n",
              "        }\n",
              "      </script>\n",
              "    </div>\n",
              "  </div>\n",
              "  "
            ]
          },
          "metadata": {},
          "execution_count": 14
        }
      ],
      "source": [
        "# /df.head()"
      ]
    },
    {
      "cell_type": "code",
      "execution_count": null,
      "metadata": {
        "id": "SoyqsSi9Gg27"
      },
      "outputs": [],
      "source": [
        "labels = {'neutral':0,\n",
        "          'negative':1,\n",
        "          'positive':2,\n",
        "          }\n",
        "class Dataset(torch.utils.data.Dataset):\n",
        "    def __init__(self, df):\n",
        "        self.labels = [labels[label] for label in df['Sentiment']]\n",
        "        self.texts = [tokenizer(text, \n",
        "                               padding='max_length', max_length = 512, truncation=True,\n",
        "                            return_tensors=\"pt\") for text in df['Text']]\n",
        "    def classes(self):\n",
        "        return self.labels\n",
        "    def __len__(self):\n",
        "        return len(self.labels)\n",
        "\n",
        "    def get_batch_labels(self, idx):\n",
        "        return np.array(self.labels[idx])\n",
        "\n",
        "    def get_batch_texts(self, idx):\n",
        "        return self.texts[idx]\n",
        "\n",
        "    def __getitem__(self, idx):\n",
        "        batch_texts = self.get_batch_texts(idx)\n",
        "        batch_y = self.get_batch_labels(idx)\n",
        "        return batch_texts, batch_y"
      ]
    },
    {
      "cell_type": "code",
      "execution_count": null,
      "metadata": {
        "colab": {
          "base_uri": "https://localhost:8080/"
        },
        "id": "0jNoUJPBHVAR",
        "outputId": "762f5756-bc2d-462d-b27c-11f3cd928ca7"
      },
      "outputs": [
        {
          "output_type": "stream",
          "name": "stdout",
          "text": [
            "4361 485\n"
          ]
        }
      ],
      "source": [
        "np.random.seed(112)\n",
        "df_train, df_val = np.split(df.sample(frac=1, random_state=42), \n",
        "                                     [int(.9*len(df))])\n",
        "\n",
        "print(len(df_train),len(df_val))"
      ]
    },
    {
      "cell_type": "code",
      "execution_count": null,
      "metadata": {
        "colab": {
          "base_uri": "https://localhost:8080/",
          "height": 206
        },
        "id": "yF-cy398IeGf",
        "outputId": "e1649e34-9d22-467f-8a04-038e4b403f6e"
      },
      "outputs": [
        {
          "output_type": "execute_result",
          "data": {
            "text/plain": [
              "                                                   Text Sentiment  \\\n",
              "3207  the company was supposed to deliver machinery ...   neutral   \n",
              "1684  unc charlotte would also deploy ssh tectia con...   neutral   \n",
              "1044  in 2009 lee man had a combined annual producti...   neutral   \n",
              "4145  `` that 's a very high figure on the european ...   neutral   \n",
              "1538  in finland the corresponding service is alma m...   neutral   \n",
              "\n",
              "      Sentiment_Label  \n",
              "3207                0  \n",
              "1684                0  \n",
              "1044                0  \n",
              "4145                0  \n",
              "1538                0  "
            ],
            "text/html": [
              "\n",
              "  <div id=\"df-ee85f0c0-4af9-4001-841c-140f3ae747a8\">\n",
              "    <div class=\"colab-df-container\">\n",
              "      <div>\n",
              "<style scoped>\n",
              "    .dataframe tbody tr th:only-of-type {\n",
              "        vertical-align: middle;\n",
              "    }\n",
              "\n",
              "    .dataframe tbody tr th {\n",
              "        vertical-align: top;\n",
              "    }\n",
              "\n",
              "    .dataframe thead th {\n",
              "        text-align: right;\n",
              "    }\n",
              "</style>\n",
              "<table border=\"1\" class=\"dataframe\">\n",
              "  <thead>\n",
              "    <tr style=\"text-align: right;\">\n",
              "      <th></th>\n",
              "      <th>Text</th>\n",
              "      <th>Sentiment</th>\n",
              "      <th>Sentiment_Label</th>\n",
              "    </tr>\n",
              "  </thead>\n",
              "  <tbody>\n",
              "    <tr>\n",
              "      <th>3207</th>\n",
              "      <td>the company was supposed to deliver machinery ...</td>\n",
              "      <td>neutral</td>\n",
              "      <td>0</td>\n",
              "    </tr>\n",
              "    <tr>\n",
              "      <th>1684</th>\n",
              "      <td>unc charlotte would also deploy ssh tectia con...</td>\n",
              "      <td>neutral</td>\n",
              "      <td>0</td>\n",
              "    </tr>\n",
              "    <tr>\n",
              "      <th>1044</th>\n",
              "      <td>in 2009 lee man had a combined annual producti...</td>\n",
              "      <td>neutral</td>\n",
              "      <td>0</td>\n",
              "    </tr>\n",
              "    <tr>\n",
              "      <th>4145</th>\n",
              "      <td>`` that 's a very high figure on the european ...</td>\n",
              "      <td>neutral</td>\n",
              "      <td>0</td>\n",
              "    </tr>\n",
              "    <tr>\n",
              "      <th>1538</th>\n",
              "      <td>in finland the corresponding service is alma m...</td>\n",
              "      <td>neutral</td>\n",
              "      <td>0</td>\n",
              "    </tr>\n",
              "  </tbody>\n",
              "</table>\n",
              "</div>\n",
              "      <button class=\"colab-df-convert\" onclick=\"convertToInteractive('df-ee85f0c0-4af9-4001-841c-140f3ae747a8')\"\n",
              "              title=\"Convert this dataframe to an interactive table.\"\n",
              "              style=\"display:none;\">\n",
              "        \n",
              "  <svg xmlns=\"http://www.w3.org/2000/svg\" height=\"24px\"viewBox=\"0 0 24 24\"\n",
              "       width=\"24px\">\n",
              "    <path d=\"M0 0h24v24H0V0z\" fill=\"none\"/>\n",
              "    <path d=\"M18.56 5.44l.94 2.06.94-2.06 2.06-.94-2.06-.94-.94-2.06-.94 2.06-2.06.94zm-11 1L8.5 8.5l.94-2.06 2.06-.94-2.06-.94L8.5 2.5l-.94 2.06-2.06.94zm10 10l.94 2.06.94-2.06 2.06-.94-2.06-.94-.94-2.06-.94 2.06-2.06.94z\"/><path d=\"M17.41 7.96l-1.37-1.37c-.4-.4-.92-.59-1.43-.59-.52 0-1.04.2-1.43.59L10.3 9.45l-7.72 7.72c-.78.78-.78 2.05 0 2.83L4 21.41c.39.39.9.59 1.41.59.51 0 1.02-.2 1.41-.59l7.78-7.78 2.81-2.81c.8-.78.8-2.07 0-2.86zM5.41 20L4 18.59l7.72-7.72 1.47 1.35L5.41 20z\"/>\n",
              "  </svg>\n",
              "      </button>\n",
              "      \n",
              "  <style>\n",
              "    .colab-df-container {\n",
              "      display:flex;\n",
              "      flex-wrap:wrap;\n",
              "      gap: 12px;\n",
              "    }\n",
              "\n",
              "    .colab-df-convert {\n",
              "      background-color: #E8F0FE;\n",
              "      border: none;\n",
              "      border-radius: 50%;\n",
              "      cursor: pointer;\n",
              "      display: none;\n",
              "      fill: #1967D2;\n",
              "      height: 32px;\n",
              "      padding: 0 0 0 0;\n",
              "      width: 32px;\n",
              "    }\n",
              "\n",
              "    .colab-df-convert:hover {\n",
              "      background-color: #E2EBFA;\n",
              "      box-shadow: 0px 1px 2px rgba(60, 64, 67, 0.3), 0px 1px 3px 1px rgba(60, 64, 67, 0.15);\n",
              "      fill: #174EA6;\n",
              "    }\n",
              "\n",
              "    [theme=dark] .colab-df-convert {\n",
              "      background-color: #3B4455;\n",
              "      fill: #D2E3FC;\n",
              "    }\n",
              "\n",
              "    [theme=dark] .colab-df-convert:hover {\n",
              "      background-color: #434B5C;\n",
              "      box-shadow: 0px 1px 3px 1px rgba(0, 0, 0, 0.15);\n",
              "      filter: drop-shadow(0px 1px 2px rgba(0, 0, 0, 0.3));\n",
              "      fill: #FFFFFF;\n",
              "    }\n",
              "  </style>\n",
              "\n",
              "      <script>\n",
              "        const buttonEl =\n",
              "          document.querySelector('#df-ee85f0c0-4af9-4001-841c-140f3ae747a8 button.colab-df-convert');\n",
              "        buttonEl.style.display =\n",
              "          google.colab.kernel.accessAllowed ? 'block' : 'none';\n",
              "\n",
              "        async function convertToInteractive(key) {\n",
              "          const element = document.querySelector('#df-ee85f0c0-4af9-4001-841c-140f3ae747a8');\n",
              "          const dataTable =\n",
              "            await google.colab.kernel.invokeFunction('convertToInteractive',\n",
              "                                                     [key], {});\n",
              "          if (!dataTable) return;\n",
              "\n",
              "          const docLinkHtml = 'Like what you see? Visit the ' +\n",
              "            '<a target=\"_blank\" href=https://colab.research.google.com/notebooks/data_table.ipynb>data table notebook</a>'\n",
              "            + ' to learn more about interactive tables.';\n",
              "          element.innerHTML = '';\n",
              "          dataTable['output_type'] = 'display_data';\n",
              "          await google.colab.output.renderOutput(dataTable, element);\n",
              "          const docLink = document.createElement('div');\n",
              "          docLink.innerHTML = docLinkHtml;\n",
              "          element.appendChild(docLink);\n",
              "        }\n",
              "      </script>\n",
              "    </div>\n",
              "  </div>\n",
              "  "
            ]
          },
          "metadata": {},
          "execution_count": 17
        }
      ],
      "source": [
        "df_train.head()"
      ]
    },
    {
      "cell_type": "code",
      "execution_count": null,
      "metadata": {
        "id": "lVKpAqvZHnjq"
      },
      "outputs": [],
      "source": [
        "from torch import nn\n",
        "from transformers import BertModel\n",
        "\n",
        "class BertClassifier(nn.Module):\n",
        "\n",
        "    def __init__(self, dropout=0.5):\n",
        "        super(BertClassifier, self).__init__()\n",
        "\n",
        "        self.bert = BertModel.from_pretrained('bert-base-uncased')\n",
        "        self.dropout = nn.Dropout(dropout)\n",
        "        self.linear = nn.Linear(768, 3)\n",
        "        self.relu = nn.ReLU()\n",
        "\n",
        "    def forward(self, input_id, mask):\n",
        "        # print(input_id.shape)\n",
        "        _, pooled_output = self.bert(input_ids= input_id, attention_mask=mask, return_dict=False)\n",
        "        dropout_output = self.dropout(pooled_output)\n",
        "        # print(dropout_output.shape)\n",
        "        linear_output = self.linear(dropout_output)\n",
        "        # print(linear_output.shape)\n",
        "        final_layer = self.relu(linear_output)\n",
        "        # print(final_layer.shape)\n",
        "        return final_layer\n",
        "    \n",
        "    def get_vector(self, input_id, mask):\n",
        "      _, pooled_output = self.bert(input_ids= input_id, attention_mask=mask, return_dict=False)\n",
        "      dropout_output = self.dropout(pooled_output)\n",
        "      return dropout_output"
      ]
    },
    {
      "cell_type": "code",
      "execution_count": null,
      "metadata": {
        "id": "BMpf5f6eJVTI"
      },
      "outputs": [],
      "source": [
        "# batch, max_seq_len, dimension"
      ]
    },
    {
      "cell_type": "code",
      "execution_count": null,
      "metadata": {
        "id": "eYy_OThRHwzs"
      },
      "outputs": [],
      "source": [
        "from torch.optim import Adam\n",
        "from tqdm import tqdm\n",
        "\n",
        "def train(model, train_data, val_data, learning_rate, epochs):\n",
        "\n",
        "    train, val = Dataset(train_data), Dataset(val_data)\n",
        "    train_dataloader = torch.utils.data.DataLoader(train, batch_size=2, shuffle=True)\n",
        "    val_dataloader = torch.utils.data.DataLoader(val, batch_size=2)\n",
        "\n",
        "    use_cuda = torch.cuda.is_available()\n",
        "    device = torch.device(\"cuda\" if use_cuda else \"cpu\")\n",
        "\n",
        "    criterion = nn.CrossEntropyLoss()\n",
        "    optimizer = Adam(model.parameters(), lr= learning_rate)\n",
        "\n",
        "    if use_cuda:\n",
        "\n",
        "            model = model.cuda()\n",
        "            criterion = criterion.cuda()\n",
        "\n",
        "    for epoch_num in range(epochs):\n",
        "\n",
        "            total_acc_train = 0\n",
        "            total_loss_train = 0\n",
        "\n",
        "            for train_input, train_label in tqdm(train_dataloader):\n",
        "\n",
        "                train_label = train_label.to(device)\n",
        "                mask = train_input['attention_mask'].to(device)\n",
        "                input_id = train_input['input_ids'].squeeze(1).to(device)\n",
        "\n",
        "                output = model(input_id, mask)\n",
        "                batch_loss = criterion(output, train_label.long())\n",
        "                # break\n",
        "                total_loss_train += batch_loss.item()\n",
        "                \n",
        "                acc = (output.argmax(dim=1) == train_label).sum().item()\n",
        "                total_acc_train += acc\n",
        "\n",
        "                model.zero_grad()\n",
        "                batch_loss.backward()\n",
        "                optimizer.step()\n",
        "            # break\n",
        "            total_acc_val = 0\n",
        "            total_loss_val = 0\n",
        "\n",
        "            with torch.no_grad():\n",
        "\n",
        "                for val_input, val_label in val_dataloader:\n",
        "\n",
        "                    val_label = val_label.to(device)\n",
        "                    mask = val_input['attention_mask'].to(device)\n",
        "                    input_id = val_input['input_ids'].squeeze(1).to(device)\n",
        "\n",
        "                    output = model(input_id, mask)\n",
        "\n",
        "                    batch_loss = criterion(output, val_label.long())\n",
        "                    total_loss_val += batch_loss.item()\n",
        "                    \n",
        "                    acc = (output.argmax(dim=1) == val_label).sum().item()\n",
        "                    total_acc_val += acc\n",
        "            \n",
        "            print(\n",
        "                f'Epochs: {epoch_num + 1} | Train Loss: {total_loss_train / len(train_data): .3f} \\\n",
        "                | Train Accuracy: {total_acc_train / len(train_data): .3f} \\\n",
        "                | Val Loss: {total_loss_val / len(val_data): .3f} \\\n",
        "                | Val Accuracy: {total_acc_val / len(val_data): .3f}')\n",
        "                  "
      ]
    },
    {
      "cell_type": "code",
      "source": [
        "EPOCHS = 5\n",
        "bert_pretrained_model = BertClassifier()                        \n",
        "LR = 1e-6                                                                                                                       \n",
        "train(bert_pretrained_model, df_train, df_val, LR, EPOCHS)"
      ],
      "metadata": {
        "colab": {
          "base_uri": "https://localhost:8080/",
          "height": 295,
          "referenced_widgets": [
            "f11bb273c631409198b4da6070588aa1",
            "5a70f5ac19d140ceab4f4276c12d4da7",
            "e043caf89d16443e963ef2fc71370a89",
            "68d903a019264a5e8d868189f62ab823",
            "230639981f6e4cdebb54c2aca6282ade",
            "912a3dd4f53745d892fe7843a31c81a1",
            "a76b96f3235f49f6baa3e4fc58b4beda",
            "002eb6faa7234ff88be25a7fcb5ea162",
            "b24ee3504ae74b14a9eb0222922c7779",
            "d5cc0b1b60d047e39041ed8678f6fbb8",
            "2437ee83c8404ca58542fbc6ed0f2874"
          ]
        },
        "id": "oSxS2j1Wu6F6",
        "outputId": "1b169165-62ec-4200-a1f2-a07813ca3204"
      },
      "execution_count": null,
      "outputs": [
        {
          "output_type": "display_data",
          "data": {
            "text/plain": [
              "Downloading:   0%|          | 0.00/440M [00:00<?, ?B/s]"
            ],
            "application/vnd.jupyter.widget-view+json": {
              "version_major": 2,
              "version_minor": 0,
              "model_id": "f11bb273c631409198b4da6070588aa1"
            }
          },
          "metadata": {}
        },
        {
          "output_type": "stream",
          "name": "stderr",
          "text": [
            "Some weights of the model checkpoint at bert-base-uncased were not used when initializing BertModel: ['cls.predictions.transform.LayerNorm.bias', 'cls.seq_relationship.bias', 'cls.predictions.transform.LayerNorm.weight', 'cls.predictions.transform.dense.weight', 'cls.predictions.transform.dense.bias', 'cls.seq_relationship.weight', 'cls.predictions.bias', 'cls.predictions.decoder.weight']\n",
            "- This IS expected if you are initializing BertModel from the checkpoint of a model trained on another task or with another architecture (e.g. initializing a BertForSequenceClassification model from a BertForPreTraining model).\n",
            "- This IS NOT expected if you are initializing BertModel from the checkpoint of a model that you expect to be exactly identical (initializing a BertForSequenceClassification model from a BertForSequenceClassification model).\n",
            "100%|██████████| 2181/2181 [07:53<00:00,  4.61it/s]\n"
          ]
        },
        {
          "output_type": "stream",
          "name": "stdout",
          "text": [
            "Epochs: 1 | Train Loss:  0.458                 | Train Accuracy:  0.593                 | Val Loss:  0.392                 | Val Accuracy:  0.660\n"
          ]
        },
        {
          "output_type": "stream",
          "name": "stderr",
          "text": [
            "100%|██████████| 2181/2181 [08:06<00:00,  4.49it/s]\n"
          ]
        },
        {
          "output_type": "stream",
          "name": "stdout",
          "text": [
            "Epochs: 2 | Train Loss:  0.341                 | Train Accuracy:  0.715                 | Val Loss:  0.342                 | Val Accuracy:  0.709\n"
          ]
        },
        {
          "output_type": "stream",
          "name": "stderr",
          "text": [
            "100%|██████████| 2181/2181 [08:05<00:00,  4.49it/s]\n"
          ]
        },
        {
          "output_type": "stream",
          "name": "stdout",
          "text": [
            "Epochs: 3 | Train Loss:  0.261                 | Train Accuracy:  0.787                 | Val Loss:  0.299                 | Val Accuracy:  0.730\n"
          ]
        },
        {
          "output_type": "stream",
          "name": "stderr",
          "text": [
            "100%|██████████| 2181/2181 [08:05<00:00,  4.49it/s]\n"
          ]
        },
        {
          "output_type": "stream",
          "name": "stdout",
          "text": [
            "Epochs: 4 | Train Loss:  0.167                 | Train Accuracy:  0.893                 | Val Loss:  0.225                 | Val Accuracy:  0.843\n"
          ]
        },
        {
          "output_type": "stream",
          "name": "stderr",
          "text": [
            "100%|██████████| 2181/2181 [08:05<00:00,  4.49it/s]\n"
          ]
        },
        {
          "output_type": "stream",
          "name": "stdout",
          "text": [
            "Epochs: 5 | Train Loss:  0.100                 | Train Accuracy:  0.948                 | Val Loss:  0.228                 | Val Accuracy:  0.839\n"
          ]
        }
      ]
    },
    {
      "cell_type": "code",
      "source": [
        "# Save Bert Model\n",
        "# torch.save(bert_pretrained_model.state_dict(), '/content/drive/MyDrive/NLP Dataset/model/bert_pretrained_model.pt')\n",
        "bert_pretrained_model = BertClassifier()\n",
        "bert_pretrained_model.load_state_dict(torch.load('/content/drive/MyDrive/NLP Dataset/model/bert_pretrained_model.pt'))"
      ],
      "metadata": {
        "colab": {
          "base_uri": "https://localhost:8080/"
        },
        "id": "4KpN9YyLuMNe",
        "outputId": "0fcf4855-709b-47d9-a319-d4f89a5f11e7"
      },
      "execution_count": null,
      "outputs": [
        {
          "output_type": "stream",
          "name": "stderr",
          "text": [
            "Some weights of the model checkpoint at bert-base-uncased were not used when initializing BertModel: ['cls.predictions.decoder.weight', 'cls.predictions.transform.LayerNorm.weight', 'cls.predictions.transform.LayerNorm.bias', 'cls.predictions.transform.dense.weight', 'cls.seq_relationship.bias', 'cls.seq_relationship.weight', 'cls.predictions.transform.dense.bias', 'cls.predictions.bias']\n",
            "- This IS expected if you are initializing BertModel from the checkpoint of a model trained on another task or with another architecture (e.g. initializing a BertForSequenceClassification model from a BertForPreTraining model).\n",
            "- This IS NOT expected if you are initializing BertModel from the checkpoint of a model that you expect to be exactly identical (initializing a BertForSequenceClassification model from a BertForSequenceClassification model).\n"
          ]
        },
        {
          "output_type": "execute_result",
          "data": {
            "text/plain": [
              "<All keys matched successfully>"
            ]
          },
          "metadata": {},
          "execution_count": 10
        }
      ]
    },
    {
      "cell_type": "code",
      "source": [],
      "metadata": {
        "id": "mMxuvKv3vAjL"
      },
      "execution_count": null,
      "outputs": []
    },
    {
      "cell_type": "code",
      "source": [
        "device = torch.device(\"cuda\" if torch.cuda.is_available() else \"cpu\")"
      ],
      "metadata": {
        "id": "OPxFjfFtKnUd"
      },
      "execution_count": null,
      "outputs": []
    },
    {
      "cell_type": "code",
      "execution_count": 230,
      "metadata": {
        "id": "OBqpunhN-q--"
      },
      "outputs": [],
      "source": [
        "from torch.optim import Adam\n",
        "import torch\n",
        "import random\n",
        "import torch.nn as nn\n",
        "import torch.nn.functional as F\n",
        "\n",
        "class GRUModel(nn.Module):\n",
        "    def __init__(self, input_size, output_size, hidden_dim, n_layers):\n",
        "        super(GRUModel, self).__init__()\n",
        "        self.hidden_dim = hidden_dim\n",
        "        self.n_layers = n_layers\n",
        "        self.gru = nn.GRU(input_size, hidden_dim, n_layers, batch_first=True, bidirectional=True, dropout=0.2)   \n",
        "        self.linear = nn.Linear(self.hidden_dim*4 , 64)\n",
        "        self.relu = nn.ReLU()\n",
        "        self.dropout = nn.Dropout(0.2)\n",
        "        self.out = nn.Linear(64, output_size)\n",
        "    \n",
        "    def forward(self, x):\n",
        "        \n",
        "        batch_size = x.size(0)\n",
        "        hidden = self.init_hidden(batch_size)\n",
        "        h_lstm, _ = self.gru(x, hidden)\n",
        "        avg_pool = torch.mean(h_lstm, 1)\n",
        "        max_pool, _ = torch.max(h_lstm, 1)\n",
        "        conc = torch.cat(( avg_pool, max_pool), 1)\n",
        "        conc = self.relu(self.linear(conc))\n",
        "        conc = self.dropout(conc)\n",
        "        out = self.out(conc)\n",
        "        return out\n",
        "    \n",
        "    def get_vector(self, x):\n",
        "        batch_size = x.size(0)\n",
        "        hidden = self.init_hidden(batch_size)\n",
        "        h_lstm, _ = self.gru(x, hidden)\n",
        "        avg_pool = torch.mean(h_lstm, 1)\n",
        "        max_pool, _ = torch.max(h_lstm, 1)\n",
        "        conc = torch.cat(( avg_pool, max_pool), 1)\n",
        "        conc = self.linear(conc)\n",
        "        conc = self.dropout(conc)\n",
        "        return conc\n",
        "    \n",
        "    def init_hidden(self, batch_size):\n",
        "        hidden = torch.zeros(self.n_layers*2, batch_size, self.hidden_dim)\n",
        "        return hidden.to(device)"
      ]
    },
    {
      "cell_type": "code",
      "source": [
        "from torch.optim import Adam\n",
        "import torch\n",
        "import torch.nn as nn\n",
        "import torch.nn.functional as F\n",
        "class LSTMModel(nn.Module):\n",
        "    def __init__(self, input_size, output_size, hidden_dim, n_layers):\n",
        "        super(LSTMModel, self).__init__()\n",
        "        self.hidden_dim = hidden_dim\n",
        "        self.n_layers = n_layers\n",
        "        self.lstm = nn.LSTM(input_size, hidden_dim, n_layers, batch_first=True, bidirectional=True, dropout=0.2)   \n",
        "        self.linear = nn.Linear(self.hidden_dim*4 , 64)\n",
        "        self.relu = nn.ReLU()\n",
        "        self.dropout = nn.Dropout(0.2)\n",
        "        self.out = nn.Linear(64, output_size)\n",
        "    \n",
        "    def forward(self, x):\n",
        "        \n",
        "        batch_size = x.size(0)\n",
        "        hidden, c = self.init_hidden(batch_size)\n",
        "        h_lstm, _ = self.lstm(x, (hidden, c))\n",
        "        avg_pool = torch.mean(h_lstm, 1)\n",
        "        max_pool, _ = torch.max(h_lstm, 1)\n",
        "        conc = torch.cat(( avg_pool, max_pool), 1)\n",
        "        conc = self.relu(self.linear(conc))\n",
        "        conc = self.dropout(conc)\n",
        "        out = self.out(conc)\n",
        "        return out\n",
        "    \n",
        "    def get_vector(self, x):\n",
        "        batch_size = x.size(0)\n",
        "        hidden, c = self.init_hidden(batch_size)\n",
        "        h_lstm, _ = self.lstm(x, (hidden, c))\n",
        "        avg_pool = torch.mean(h_lstm, 1)\n",
        "        max_pool, _ = torch.max(h_lstm, 1)\n",
        "        conc = torch.cat(( avg_pool, max_pool), 1)\n",
        "        conc = self.linear(conc)\n",
        "        conc = self.dropout(conc)\n",
        "        return conc\n",
        "    \n",
        "    def init_hidden(self, batch_size):\n",
        "        hidden = torch.zeros(self.n_layers*2, batch_size, self.hidden_dim)\n",
        "        c = torch.zeros(self.n_layers*2, batch_size, self.hidden_dim)\n",
        "        return hidden.to(device), c.to(device)"
      ],
      "metadata": {
        "id": "7VWWai2MKSX4"
      },
      "execution_count": null,
      "outputs": []
    },
    {
      "cell_type": "code",
      "execution_count": null,
      "metadata": {
        "id": "Nkpy4QKcKOcm"
      },
      "outputs": [],
      "source": [
        "import gensim.downloader as api\n",
        "model = api.load(\"word2vec-google-news-300\")\n",
        "word2Vec = model"
      ]
    },
    {
      "cell_type": "code",
      "execution_count": null,
      "metadata": {
        "id": "EfSvMTzIW_cB",
        "colab": {
          "base_uri": "https://localhost:8080/"
        },
        "outputId": "f0613761-d5a0-47d6-dffe-b9b7fc097d5e"
      },
      "outputs": [
        {
          "output_type": "stream",
          "name": "stderr",
          "text": [
            "<ipython-input-28-1916363e0792>:1: DeprecationWarning: Call to deprecated `wv` (Attribute will be removed in 4.0.0, use self instead).\n",
            "  'Sunday' in word2Vec.wv.vocab\n"
          ]
        },
        {
          "output_type": "execute_result",
          "data": {
            "text/plain": [
              "True"
            ]
          },
          "metadata": {},
          "execution_count": 28
        }
      ],
      "source": [
        "'Sunday' in word2Vec.wv.vocab"
      ]
    },
    {
      "cell_type": "code",
      "execution_count": null,
      "metadata": {
        "id": "xRc5c-mTLFZQ",
        "colab": {
          "base_uri": "https://localhost:8080/"
        },
        "outputId": "88c4af40-0709-41cf-a941-048a9bb5654e"
      },
      "outputs": [
        {
          "output_type": "stream",
          "name": "stderr",
          "text": [
            "<ipython-input-110-abbdbc1b4582>:7: DeprecationWarning: Call to deprecated `wv` (Attribute will be removed in 4.0.0, use self instead).\n",
            "  if word in word2Vec.wv.vocab:\n"
          ]
        }
      ],
      "source": [
        "XSentences = []\n",
        "import math\n",
        "for i, sent in enumerate(df['Text'].tolist()):\n",
        "    sent = sent.split(' ')\n",
        "    temp = []\n",
        "    for word in sent:\n",
        "        if word in word2Vec.wv.vocab:\n",
        "            temp.append(word2Vec[word])\n",
        "    if(len(temp)==0):\n",
        "        temp.append(np.zeros(300))\n",
        "    XSentences.append(temp)"
      ]
    },
    {
      "cell_type": "code",
      "execution_count": null,
      "metadata": {
        "id": "t0OIhtHZXs2h",
        "colab": {
          "base_uri": "https://localhost:8080/"
        },
        "outputId": "f0c03183-a19a-44b8-8f7b-25a03d0b51c3"
      },
      "outputs": [
        {
          "output_type": "stream",
          "name": "stdout",
          "text": [
            "4846\n"
          ]
        }
      ],
      "source": [
        "print(len(XSentences))"
      ]
    },
    {
      "cell_type": "code",
      "execution_count": null,
      "metadata": {
        "colab": {
          "base_uri": "https://localhost:8080/"
        },
        "id": "ILiv1vGaK518",
        "outputId": "570bed48-1fa8-467b-af37-3082d73f27f7"
      },
      "outputs": [
        {
          "output_type": "stream",
          "name": "stdout",
          "text": [
            "(4846, 73, 300)\n"
          ]
        }
      ],
      "source": [
        "def createXForRNN(l, XSentences):\n",
        "    X = np.zeros([len(XSentences), l, 300])\n",
        "    for i, sent in enumerate(XSentences):\n",
        "        for j in range(0, l):\n",
        "            if(j<len(sent)):\n",
        "                word = sent[j]\n",
        "                temp=word\n",
        "            else:\n",
        "                temp = np.zeros(300)\n",
        "\n",
        "            X[i][j] = temp\n",
        "    return X\n",
        "X_rnn = createXForRNN(maxLen, XSentences)\n",
        "print(X_rnn.shape)"
      ]
    },
    {
      "cell_type": "code",
      "execution_count": null,
      "metadata": {
        "id": "YhtdSl83NK-L"
      },
      "outputs": [],
      "source": [
        "from sklearn.model_selection import train_test_split\n",
        "device = torch.device(\"cuda\" if torch.cuda.is_available() else \"cpu\")\n",
        "BATCH_SIZE = 2\n",
        "def createDataLoader(X_train, Y_train, X_test, Y_test):\n",
        "  X_train = torch.tensor(X_train, dtype=torch.float32).to(device)\n",
        "  Y_train = torch.tensor(Y_train,  dtype=torch.long).to(device)\n",
        "  X_test = torch.tensor(X_test, dtype=torch.float32).to(device)\n",
        "  Y_test = torch.tensor(Y_test,  dtype=torch.long).to(device)\n",
        "  train = torch.utils.data.TensorDataset(X_train, Y_train)\n",
        "  test = torch.utils.data.TensorDataset(X_test, Y_test)\n",
        "\n",
        "  train_loader = torch.utils.data.DataLoader(train, batch_size=BATCH_SIZE, shuffle=True)\n",
        "  test_loader = torch.utils.data.DataLoader(test, batch_size=BATCH_SIZE, shuffle=False)\n",
        "  return train_loader, test_loader"
      ]
    },
    {
      "cell_type": "code",
      "execution_count": null,
      "metadata": {
        "id": "yWOOQK5CMIY-"
      },
      "outputs": [],
      "source": [
        "X_train, X_test, Y_train, Y_test = train_test_split(X_rnn, np.array(df['Sentiment_Label'].tolist()), test_size=0.1, random_state=42)\n",
        "train_loader, test_loader = createDataLoader(X_train, Y_train, X_test, Y_test)\n",
        "import time\n",
        "def evaluate(n_epochs, model, optimizer, train_loader, test_loader, criterion):\n",
        "    def calculateCorrect(t, y):\n",
        "        sum=0\n",
        "        for i, v in enumerate(t):\n",
        "            if(t[i]==y[i]):\n",
        "                sum+=1\n",
        "        return sum\n",
        "\n",
        "    for e in tqdm(range(n_epochs)):\n",
        "        start_time = time.time()\n",
        "        model.train()\n",
        "        avg_loss = 0.  \n",
        "        for i, (x, y) in enumerate(train_loader):\n",
        "            y_pred = model(x)\n",
        "            loss = criterion(y_pred, y)\n",
        "            optimizer.zero_grad()\n",
        "            loss.backward()\n",
        "            optimizer.step()\n",
        "            avg_loss += loss.item() / len(train_loader)\n",
        "      \n",
        "        model.eval()        \n",
        "        avg_val_loss = 0.\n",
        "        val_preds = np.zeros((len(X_test), 3))\n",
        "      \n",
        "        for i, (x_batch, y_batch) in enumerate(test_loader):\n",
        "            y_pred = model(x_batch).detach()\n",
        "            avg_val_loss += criterion(y_pred, y_batch).item() / len(test_loader)\n",
        "            val_preds[i * BATCH_SIZE:(i+1) * BATCH_SIZE] = F.softmax(y_pred).cpu().numpy()\n",
        "          \n",
        "        accuracy = calculateCorrect(val_preds.argmax(axis=1), Y_test)/len(Y_test)\n",
        "        elapsed_time = time.time() - start_time \n",
        "        print('Epoch {}/{} \\t loss={:.4f} \\t test_loss={:.4f}  \\t test_acc={:.4f}  \\t time={:.2f}s'.format(\n",
        "                  e + 1, n_epochs, avg_loss, avg_val_loss, accuracy, elapsed_time))"
      ]
    },
    {
      "cell_type": "code",
      "execution_count": null,
      "metadata": {
        "colab": {
          "base_uri": "https://localhost:8080/"
        },
        "id": "D2FHqM59JjDA",
        "outputId": "45e502e7-75be-4b21-beb5-ff2a3cda5bfe"
      },
      "outputs": [
        {
          "output_type": "stream",
          "name": "stderr",
          "text": [
            "\r  0%|          | 0/20 [00:00<?, ?it/s]<ipython-input-73-146d243415a7>:31: UserWarning: Implicit dimension choice for softmax has been deprecated. Change the call to include dim=X as an argument.\n",
            "  val_preds[i * BATCH_SIZE:(i+1) * BATCH_SIZE] = F.softmax(y_pred).cpu().numpy()\n",
            "  5%|▌         | 1/20 [00:10<03:11, 10.08s/it]"
          ]
        },
        {
          "output_type": "stream",
          "name": "stdout",
          "text": [
            "Epoch 1/20 \t loss=0.7662 \t test_loss=0.6376  \t test_acc=0.7588  \t time=10.08s\n"
          ]
        },
        {
          "output_type": "stream",
          "name": "stderr",
          "text": [
            "\r 10%|█         | 2/20 [00:20<03:07, 10.42s/it]"
          ]
        },
        {
          "output_type": "stream",
          "name": "stdout",
          "text": [
            "Epoch 2/20 \t loss=0.5031 \t test_loss=0.4593  \t test_acc=0.8124  \t time=10.66s\n"
          ]
        },
        {
          "output_type": "stream",
          "name": "stderr",
          "text": [
            "\r 15%|█▌        | 3/20 [00:29<02:46,  9.82s/it]"
          ]
        },
        {
          "output_type": "stream",
          "name": "stdout",
          "text": [
            "Epoch 3/20 \t loss=0.4009 \t test_loss=0.4289  \t test_acc=0.8206  \t time=9.10s\n"
          ]
        },
        {
          "output_type": "stream",
          "name": "stderr",
          "text": [
            "\r 20%|██        | 4/20 [00:38<02:32,  9.52s/it]"
          ]
        },
        {
          "output_type": "stream",
          "name": "stdout",
          "text": [
            "Epoch 4/20 \t loss=0.3415 \t test_loss=0.4366  \t test_acc=0.8227  \t time=9.05s\n"
          ]
        },
        {
          "output_type": "stream",
          "name": "stderr",
          "text": [
            "\r 25%|██▌       | 5/20 [00:48<02:20,  9.39s/it]"
          ]
        },
        {
          "output_type": "stream",
          "name": "stdout",
          "text": [
            "Epoch 5/20 \t loss=0.2903 \t test_loss=0.5252  \t test_acc=0.7856  \t time=9.17s\n"
          ]
        },
        {
          "output_type": "stream",
          "name": "stderr",
          "text": [
            "\r 30%|███       | 6/20 [00:57<02:11,  9.37s/it]"
          ]
        },
        {
          "output_type": "stream",
          "name": "stdout",
          "text": [
            "Epoch 6/20 \t loss=0.2432 \t test_loss=0.5005  \t test_acc=0.8144  \t time=9.34s\n"
          ]
        },
        {
          "output_type": "stream",
          "name": "stderr",
          "text": [
            "\r 35%|███▌      | 7/20 [01:06<02:02,  9.45s/it]"
          ]
        },
        {
          "output_type": "stream",
          "name": "stdout",
          "text": [
            "Epoch 7/20 \t loss=0.1989 \t test_loss=0.5839  \t test_acc=0.8289  \t time=9.59s\n"
          ]
        },
        {
          "output_type": "stream",
          "name": "stderr",
          "text": [
            "\r 40%|████      | 8/20 [01:16<01:52,  9.40s/it]"
          ]
        },
        {
          "output_type": "stream",
          "name": "stdout",
          "text": [
            "Epoch 8/20 \t loss=0.1638 \t test_loss=0.5519  \t test_acc=0.8412  \t time=9.29s\n"
          ]
        },
        {
          "output_type": "stream",
          "name": "stderr",
          "text": [
            "\r 45%|████▌     | 9/20 [01:25<01:42,  9.30s/it]"
          ]
        },
        {
          "output_type": "stream",
          "name": "stdout",
          "text": [
            "Epoch 9/20 \t loss=0.1242 \t test_loss=0.6990  \t test_acc=0.8309  \t time=9.08s\n"
          ]
        },
        {
          "output_type": "stream",
          "name": "stderr",
          "text": [
            "\r 50%|█████     | 10/20 [01:35<01:35,  9.58s/it]"
          ]
        },
        {
          "output_type": "stream",
          "name": "stdout",
          "text": [
            "Epoch 10/20 \t loss=0.1090 \t test_loss=0.6890  \t test_acc=0.8247  \t time=10.22s\n"
          ]
        },
        {
          "output_type": "stream",
          "name": "stderr",
          "text": [
            "\r 55%|█████▌    | 11/20 [01:46<01:29, 10.00s/it]"
          ]
        },
        {
          "output_type": "stream",
          "name": "stdout",
          "text": [
            "Epoch 11/20 \t loss=0.0929 \t test_loss=0.8679  \t test_acc=0.8021  \t time=10.93s\n"
          ]
        },
        {
          "output_type": "stream",
          "name": "stderr",
          "text": [
            "\r 60%|██████    | 12/20 [01:55<01:18,  9.83s/it]"
          ]
        },
        {
          "output_type": "stream",
          "name": "stdout",
          "text": [
            "Epoch 12/20 \t loss=0.0743 \t test_loss=0.8878  \t test_acc=0.8309  \t time=9.45s\n"
          ]
        },
        {
          "output_type": "stream",
          "name": "stderr",
          "text": [
            "\r 65%|██████▌   | 13/20 [02:05<01:07,  9.59s/it]"
          ]
        },
        {
          "output_type": "stream",
          "name": "stdout",
          "text": [
            "Epoch 13/20 \t loss=0.0628 \t test_loss=0.9180  \t test_acc=0.8041  \t time=9.03s\n"
          ]
        },
        {
          "output_type": "stream",
          "name": "stderr",
          "text": [
            "\r 70%|███████   | 14/20 [02:14<00:56,  9.43s/it]"
          ]
        },
        {
          "output_type": "stream",
          "name": "stdout",
          "text": [
            "Epoch 14/20 \t loss=0.0544 \t test_loss=1.0501  \t test_acc=0.8186  \t time=9.06s\n"
          ]
        },
        {
          "output_type": "stream",
          "name": "stderr",
          "text": [
            "\r 75%|███████▌  | 15/20 [02:23<00:46,  9.34s/it]"
          ]
        },
        {
          "output_type": "stream",
          "name": "stdout",
          "text": [
            "Epoch 15/20 \t loss=0.0492 \t test_loss=0.8900  \t test_acc=0.8289  \t time=9.13s\n"
          ]
        },
        {
          "output_type": "stream",
          "name": "stderr",
          "text": [
            "\r 80%|████████  | 16/20 [02:33<00:38,  9.65s/it]"
          ]
        },
        {
          "output_type": "stream",
          "name": "stdout",
          "text": [
            "Epoch 16/20 \t loss=0.0487 \t test_loss=1.0010  \t test_acc=0.8227  \t time=10.36s\n"
          ]
        },
        {
          "output_type": "stream",
          "name": "stderr",
          "text": [
            "\r 85%|████████▌ | 17/20 [02:43<00:29,  9.79s/it]"
          ]
        },
        {
          "output_type": "stream",
          "name": "stdout",
          "text": [
            "Epoch 17/20 \t loss=0.0391 \t test_loss=0.9167  \t test_acc=0.8289  \t time=10.11s\n"
          ]
        },
        {
          "output_type": "stream",
          "name": "stderr",
          "text": [
            "\r 90%|█████████ | 18/20 [02:54<00:20, 10.14s/it]"
          ]
        },
        {
          "output_type": "stream",
          "name": "stdout",
          "text": [
            "Epoch 18/20 \t loss=0.0428 \t test_loss=0.9083  \t test_acc=0.8289  \t time=10.96s\n"
          ]
        },
        {
          "output_type": "stream",
          "name": "stderr",
          "text": [
            "\r 95%|█████████▌| 19/20 [03:05<00:10, 10.25s/it]"
          ]
        },
        {
          "output_type": "stream",
          "name": "stdout",
          "text": [
            "Epoch 19/20 \t loss=0.0413 \t test_loss=0.8865  \t test_acc=0.8206  \t time=10.51s\n"
          ]
        },
        {
          "output_type": "stream",
          "name": "stderr",
          "text": [
            "100%|██████████| 20/20 [03:15<00:00,  9.75s/it]"
          ]
        },
        {
          "output_type": "stream",
          "name": "stdout",
          "text": [
            "Epoch 20/20 \t loss=0.0354 \t test_loss=1.3898  \t test_acc=0.8021  \t time=9.86s\n"
          ]
        },
        {
          "output_type": "stream",
          "name": "stderr",
          "text": [
            "\n"
          ]
        }
      ],
      "source": [
        "from torch.optim import Adam\n",
        "from tqdm import tqdm\n",
        "device = torch.device(\"cuda\" if torch.cuda.is_available() else \"cpu\")\n",
        "model1 = LSTMModel(300, 3, 20, 2)\n",
        "optimizer_rnn = Adam(model1.parameters(), lr=0.001)\n",
        "criterion = nn.CrossEntropyLoss()\n",
        "model1.to(device)\n",
        "\n",
        "evaluate(20, model1, optimizer_rnn, train_loader, test_loader)"
      ]
    },
    {
      "cell_type": "code",
      "source": [
        "# Save LSTM Model\n",
        "# torch.save(model1.state_dict(), '/content/drive/MyDrive/NLP Dataset/model/lstm.pt')\n",
        "model1 = LSTMModel(300, 3, 20, 2)\n",
        "model1.load_state_dict(torch.load('/content/drive/MyDrive/NLP Dataset/model/lstm.pt'))\n",
        "# model1 = torch.load('/content/drive/MyDrive/NLP Dataset/model/lstm.pt')"
      ],
      "metadata": {
        "colab": {
          "base_uri": "https://localhost:8080/"
        },
        "id": "cNgRjH2z-KR-",
        "outputId": "bd985c07-fc88-405a-a6b4-11b7168ee0c9"
      },
      "execution_count": null,
      "outputs": [
        {
          "output_type": "execute_result",
          "data": {
            "text/plain": [
              "<All keys matched successfully>"
            ]
          },
          "metadata": {},
          "execution_count": 57
        }
      ]
    },
    {
      "cell_type": "code",
      "source": [
        "from torch.optim import Adam\n",
        "device = torch.device(\"cuda\" if torch.cuda.is_available() else \"cpu\")\n",
        "model2 = GRUModel(300, 3, 20, 2)\n",
        "optimizer2 = Adam(model2.parameters(), lr=0.001)\n",
        "criterion2 = nn.CrossEntropyLoss()\n",
        "model2.to(device)\n",
        "\n",
        "evaluate(20, model2, optimizer2, train_loader, test_loader, criterion2)"
      ],
      "metadata": {
        "colab": {
          "base_uri": "https://localhost:8080/"
        },
        "id": "C3mE_ao4Kxxu",
        "outputId": "8a96daab-11bd-49f1-b19f-4bfbbcf22abd"
      },
      "execution_count": null,
      "outputs": [
        {
          "output_type": "stream",
          "name": "stderr",
          "text": [
            "\r  0%|          | 0/20 [00:00<?, ?it/s]<ipython-input-115-33a1107033a3>:31: UserWarning: Implicit dimension choice for softmax has been deprecated. Change the call to include dim=X as an argument.\n",
            "  val_preds[i * BATCH_SIZE:(i+1) * BATCH_SIZE] = F.softmax(y_pred).cpu().numpy()\n",
            "  5%|▌         | 1/20 [00:10<03:14, 10.25s/it]"
          ]
        },
        {
          "output_type": "stream",
          "name": "stdout",
          "text": [
            "Epoch 1/20 \t loss=0.6943 \t test_loss=0.5294  \t test_acc=0.8021  \t time=10.25s\n"
          ]
        },
        {
          "output_type": "stream",
          "name": "stderr",
          "text": [
            "\r 10%|█         | 2/20 [00:20<03:04, 10.24s/it]"
          ]
        },
        {
          "output_type": "stream",
          "name": "stdout",
          "text": [
            "Epoch 2/20 \t loss=0.4672 \t test_loss=0.5219  \t test_acc=0.7773  \t time=10.23s\n"
          ]
        },
        {
          "output_type": "stream",
          "name": "stderr",
          "text": [
            "\r 15%|█▌        | 3/20 [00:30<02:53, 10.18s/it]"
          ]
        },
        {
          "output_type": "stream",
          "name": "stdout",
          "text": [
            "Epoch 3/20 \t loss=0.3903 \t test_loss=0.4497  \t test_acc=0.8144  \t time=10.11s\n"
          ]
        },
        {
          "output_type": "stream",
          "name": "stderr",
          "text": [
            "\r 20%|██        | 4/20 [00:40<02:42, 10.16s/it]"
          ]
        },
        {
          "output_type": "stream",
          "name": "stdout",
          "text": [
            "Epoch 4/20 \t loss=0.3358 \t test_loss=0.4566  \t test_acc=0.8165  \t time=10.13s\n"
          ]
        },
        {
          "output_type": "stream",
          "name": "stderr",
          "text": [
            "\r 25%|██▌       | 5/20 [00:50<02:32, 10.19s/it]"
          ]
        },
        {
          "output_type": "stream",
          "name": "stdout",
          "text": [
            "Epoch 5/20 \t loss=0.2953 \t test_loss=0.5097  \t test_acc=0.8227  \t time=10.25s\n"
          ]
        },
        {
          "output_type": "stream",
          "name": "stderr",
          "text": [
            "\r 30%|███       | 6/20 [01:01<02:22, 10.18s/it]"
          ]
        },
        {
          "output_type": "stream",
          "name": "stdout",
          "text": [
            "Epoch 6/20 \t loss=0.2440 \t test_loss=0.4764  \t test_acc=0.8227  \t time=10.16s\n"
          ]
        },
        {
          "output_type": "stream",
          "name": "stderr",
          "text": [
            "\r 35%|███▌      | 7/20 [01:11<02:12, 10.17s/it]"
          ]
        },
        {
          "output_type": "stream",
          "name": "stdout",
          "text": [
            "Epoch 7/20 \t loss=0.1985 \t test_loss=0.4974  \t test_acc=0.8289  \t time=10.14s\n"
          ]
        },
        {
          "output_type": "stream",
          "name": "stderr",
          "text": [
            "\r 40%|████      | 8/20 [01:21<02:01, 10.15s/it]"
          ]
        },
        {
          "output_type": "stream",
          "name": "stdout",
          "text": [
            "Epoch 8/20 \t loss=0.1629 \t test_loss=0.6709  \t test_acc=0.8206  \t time=10.11s\n"
          ]
        },
        {
          "output_type": "stream",
          "name": "stderr",
          "text": [
            "\r 45%|████▌     | 9/20 [01:31<01:51, 10.13s/it]"
          ]
        },
        {
          "output_type": "stream",
          "name": "stdout",
          "text": [
            "Epoch 9/20 \t loss=0.1426 \t test_loss=0.6773  \t test_acc=0.8309  \t time=10.08s\n"
          ]
        },
        {
          "output_type": "stream",
          "name": "stderr",
          "text": [
            "\r 50%|█████     | 10/20 [01:41<01:41, 10.14s/it]"
          ]
        },
        {
          "output_type": "stream",
          "name": "stdout",
          "text": [
            "Epoch 10/20 \t loss=0.1155 \t test_loss=0.7777  \t test_acc=0.8041  \t time=10.17s\n"
          ]
        },
        {
          "output_type": "stream",
          "name": "stderr",
          "text": [
            "\r 55%|█████▌    | 11/20 [01:51<01:31, 10.15s/it]"
          ]
        },
        {
          "output_type": "stream",
          "name": "stdout",
          "text": [
            "Epoch 11/20 \t loss=0.0970 \t test_loss=0.8919  \t test_acc=0.8144  \t time=10.17s\n"
          ]
        },
        {
          "output_type": "stream",
          "name": "stderr",
          "text": [
            "\r 60%|██████    | 12/20 [02:01<01:21, 10.15s/it]"
          ]
        },
        {
          "output_type": "stream",
          "name": "stdout",
          "text": [
            "Epoch 12/20 \t loss=0.0758 \t test_loss=0.8558  \t test_acc=0.8144  \t time=10.13s\n"
          ]
        },
        {
          "output_type": "stream",
          "name": "stderr",
          "text": [
            "\r 65%|██████▌   | 13/20 [02:12<01:11, 10.17s/it]"
          ]
        },
        {
          "output_type": "stream",
          "name": "stdout",
          "text": [
            "Epoch 13/20 \t loss=0.0735 \t test_loss=0.9716  \t test_acc=0.8062  \t time=10.21s\n"
          ]
        },
        {
          "output_type": "stream",
          "name": "stderr",
          "text": [
            "\r 70%|███████   | 14/20 [02:22<01:01, 10.17s/it]"
          ]
        },
        {
          "output_type": "stream",
          "name": "stdout",
          "text": [
            "Epoch 14/20 \t loss=0.0577 \t test_loss=1.1131  \t test_acc=0.7979  \t time=10.18s\n"
          ]
        },
        {
          "output_type": "stream",
          "name": "stderr",
          "text": [
            "\r 75%|███████▌  | 15/20 [02:32<00:50, 10.16s/it]"
          ]
        },
        {
          "output_type": "stream",
          "name": "stdout",
          "text": [
            "Epoch 15/20 \t loss=0.0561 \t test_loss=1.2333  \t test_acc=0.7959  \t time=10.13s\n"
          ]
        },
        {
          "output_type": "stream",
          "name": "stderr",
          "text": [
            "\r 80%|████████  | 16/20 [02:42<00:40, 10.15s/it]"
          ]
        },
        {
          "output_type": "stream",
          "name": "stdout",
          "text": [
            "Epoch 16/20 \t loss=0.0536 \t test_loss=1.2740  \t test_acc=0.8000  \t time=10.13s\n"
          ]
        },
        {
          "output_type": "stream",
          "name": "stderr",
          "text": [
            "\r 85%|████████▌ | 17/20 [02:52<00:30, 10.16s/it]"
          ]
        },
        {
          "output_type": "stream",
          "name": "stdout",
          "text": [
            "Epoch 17/20 \t loss=0.0513 \t test_loss=1.1575  \t test_acc=0.8041  \t time=10.19s\n"
          ]
        },
        {
          "output_type": "stream",
          "name": "stderr",
          "text": [
            "\r 90%|█████████ | 18/20 [03:02<00:20, 10.17s/it]"
          ]
        },
        {
          "output_type": "stream",
          "name": "stdout",
          "text": [
            "Epoch 18/20 \t loss=0.0457 \t test_loss=1.3329  \t test_acc=0.7938  \t time=10.18s\n"
          ]
        },
        {
          "output_type": "stream",
          "name": "stderr",
          "text": [
            "\r 95%|█████████▌| 19/20 [03:13<00:10, 10.18s/it]"
          ]
        },
        {
          "output_type": "stream",
          "name": "stdout",
          "text": [
            "Epoch 19/20 \t loss=0.0407 \t test_loss=1.2728  \t test_acc=0.8082  \t time=10.21s\n"
          ]
        },
        {
          "output_type": "stream",
          "name": "stderr",
          "text": [
            "100%|██████████| 20/20 [03:23<00:00, 10.17s/it]"
          ]
        },
        {
          "output_type": "stream",
          "name": "stdout",
          "text": [
            "Epoch 20/20 \t loss=0.0283 \t test_loss=1.6243  \t test_acc=0.8082  \t time=10.17s\n"
          ]
        },
        {
          "output_type": "stream",
          "name": "stderr",
          "text": [
            "\n"
          ]
        }
      ]
    },
    {
      "cell_type": "code",
      "execution_count": null,
      "metadata": {
        "id": "-yVGZWoMNmCq"
      },
      "outputs": [],
      "source": [
        "# Save GRU Model\n",
        "torch.save(model2.state_dict(), '/content/drive/MyDrive/NLP Dataset/model/gru.pt')\n",
        "# model2 = GRUModel(300, 3, 20, 2)\n",
        "# model2.load_state_dict(torch.load('/content/drive/MyDrive/NLP Dataset/model/gru.pt'))\n",
        "# model2 = torch.load('/content/drive/MyDrive/NLP Dataset/model/gru.pt')"
      ]
    },
    {
      "cell_type": "markdown",
      "metadata": {
        "id": "QN3CeLwFNmZn"
      },
      "source": [
        "Time Series"
      ]
    },
    {
      "cell_type": "code",
      "execution_count": null,
      "metadata": {
        "id": "rPCEs4wI6g48"
      },
      "outputs": [],
      "source": [
        "import pandas as pd\n",
        "ts = pd.read_csv('/content/drive/MyDrive/NLP Dataset/choti_bhabhi.csv')"
      ]
    },
    {
      "cell_type": "code",
      "execution_count": null,
      "metadata": {
        "colab": {
          "base_uri": "https://localhost:8080/",
          "height": 354
        },
        "id": "vbmYhzuY62aX",
        "outputId": "4df7f827-0a07-41fc-8760-e8f6e3197d0b"
      },
      "outputs": [
        {
          "output_type": "execute_result",
          "data": {
            "text/plain": [
              "   Unnamed: 0          ts                                              title  \\\n",
              "0           0  2016-08-11  UPDATE 2-Brazil's Senate indicts Rousseff, ope...   \n",
              "1           1  2016-08-11  Argentina foreign investment quest a work in p...   \n",
              "2           2  2016-08-11  UPDATE 2-Two planes land safely at Brussels ai...   \n",
              "3           3  2016-08-11  BRIEF-Pershing Square Holdings - NAV per share...   \n",
              "4           4  2016-08-11  U.S. says it's aware of reports Vietnam fortif...   \n",
              "\n",
              "       src                                        clean_title  \\\n",
              "0  reuters  update 2 brazil's senate indicts rousseff open...   \n",
              "1  reuters  argentina foreign investment quest a work in p...   \n",
              "2  reuters  update 2 two planes land safely at brussels ai...   \n",
              "3  reuters  brief pershing square holdings nav per share a...   \n",
              "4  reuters  u s says it's aware of reports vietnam fortifi...   \n",
              "\n",
              "                                               yahoo  \n",
              "0  [2063.3701171875, 2051.1201171875, 2050.629882...  \n",
              "1  [2063.3701171875, 2051.1201171875, 2050.629882...  \n",
              "2  [2063.3701171875, 2051.1201171875, 2050.629882...  \n",
              "3  [2063.3701171875, 2051.1201171875, 2050.629882...  \n",
              "4  [2063.3701171875, 2051.1201171875, 2050.629882...  "
            ],
            "text/html": [
              "\n",
              "  <div id=\"df-d300c0e5-2d51-4857-b422-a749c01daa44\">\n",
              "    <div class=\"colab-df-container\">\n",
              "      <div>\n",
              "<style scoped>\n",
              "    .dataframe tbody tr th:only-of-type {\n",
              "        vertical-align: middle;\n",
              "    }\n",
              "\n",
              "    .dataframe tbody tr th {\n",
              "        vertical-align: top;\n",
              "    }\n",
              "\n",
              "    .dataframe thead th {\n",
              "        text-align: right;\n",
              "    }\n",
              "</style>\n",
              "<table border=\"1\" class=\"dataframe\">\n",
              "  <thead>\n",
              "    <tr style=\"text-align: right;\">\n",
              "      <th></th>\n",
              "      <th>Unnamed: 0</th>\n",
              "      <th>ts</th>\n",
              "      <th>title</th>\n",
              "      <th>src</th>\n",
              "      <th>clean_title</th>\n",
              "      <th>yahoo</th>\n",
              "    </tr>\n",
              "  </thead>\n",
              "  <tbody>\n",
              "    <tr>\n",
              "      <th>0</th>\n",
              "      <td>0</td>\n",
              "      <td>2016-08-11</td>\n",
              "      <td>UPDATE 2-Brazil's Senate indicts Rousseff, ope...</td>\n",
              "      <td>reuters</td>\n",
              "      <td>update 2 brazil's senate indicts rousseff open...</td>\n",
              "      <td>[2063.3701171875, 2051.1201171875, 2050.629882...</td>\n",
              "    </tr>\n",
              "    <tr>\n",
              "      <th>1</th>\n",
              "      <td>1</td>\n",
              "      <td>2016-08-11</td>\n",
              "      <td>Argentina foreign investment quest a work in p...</td>\n",
              "      <td>reuters</td>\n",
              "      <td>argentina foreign investment quest a work in p...</td>\n",
              "      <td>[2063.3701171875, 2051.1201171875, 2050.629882...</td>\n",
              "    </tr>\n",
              "    <tr>\n",
              "      <th>2</th>\n",
              "      <td>2</td>\n",
              "      <td>2016-08-11</td>\n",
              "      <td>UPDATE 2-Two planes land safely at Brussels ai...</td>\n",
              "      <td>reuters</td>\n",
              "      <td>update 2 two planes land safely at brussels ai...</td>\n",
              "      <td>[2063.3701171875, 2051.1201171875, 2050.629882...</td>\n",
              "    </tr>\n",
              "    <tr>\n",
              "      <th>3</th>\n",
              "      <td>3</td>\n",
              "      <td>2016-08-11</td>\n",
              "      <td>BRIEF-Pershing Square Holdings - NAV per share...</td>\n",
              "      <td>reuters</td>\n",
              "      <td>brief pershing square holdings nav per share a...</td>\n",
              "      <td>[2063.3701171875, 2051.1201171875, 2050.629882...</td>\n",
              "    </tr>\n",
              "    <tr>\n",
              "      <th>4</th>\n",
              "      <td>4</td>\n",
              "      <td>2016-08-11</td>\n",
              "      <td>U.S. says it's aware of reports Vietnam fortif...</td>\n",
              "      <td>reuters</td>\n",
              "      <td>u s says it's aware of reports vietnam fortifi...</td>\n",
              "      <td>[2063.3701171875, 2051.1201171875, 2050.629882...</td>\n",
              "    </tr>\n",
              "  </tbody>\n",
              "</table>\n",
              "</div>\n",
              "      <button class=\"colab-df-convert\" onclick=\"convertToInteractive('df-d300c0e5-2d51-4857-b422-a749c01daa44')\"\n",
              "              title=\"Convert this dataframe to an interactive table.\"\n",
              "              style=\"display:none;\">\n",
              "        \n",
              "  <svg xmlns=\"http://www.w3.org/2000/svg\" height=\"24px\"viewBox=\"0 0 24 24\"\n",
              "       width=\"24px\">\n",
              "    <path d=\"M0 0h24v24H0V0z\" fill=\"none\"/>\n",
              "    <path d=\"M18.56 5.44l.94 2.06.94-2.06 2.06-.94-2.06-.94-.94-2.06-.94 2.06-2.06.94zm-11 1L8.5 8.5l.94-2.06 2.06-.94-2.06-.94L8.5 2.5l-.94 2.06-2.06.94zm10 10l.94 2.06.94-2.06 2.06-.94-2.06-.94-.94-2.06-.94 2.06-2.06.94z\"/><path d=\"M17.41 7.96l-1.37-1.37c-.4-.4-.92-.59-1.43-.59-.52 0-1.04.2-1.43.59L10.3 9.45l-7.72 7.72c-.78.78-.78 2.05 0 2.83L4 21.41c.39.39.9.59 1.41.59.51 0 1.02-.2 1.41-.59l7.78-7.78 2.81-2.81c.8-.78.8-2.07 0-2.86zM5.41 20L4 18.59l7.72-7.72 1.47 1.35L5.41 20z\"/>\n",
              "  </svg>\n",
              "      </button>\n",
              "      \n",
              "  <style>\n",
              "    .colab-df-container {\n",
              "      display:flex;\n",
              "      flex-wrap:wrap;\n",
              "      gap: 12px;\n",
              "    }\n",
              "\n",
              "    .colab-df-convert {\n",
              "      background-color: #E8F0FE;\n",
              "      border: none;\n",
              "      border-radius: 50%;\n",
              "      cursor: pointer;\n",
              "      display: none;\n",
              "      fill: #1967D2;\n",
              "      height: 32px;\n",
              "      padding: 0 0 0 0;\n",
              "      width: 32px;\n",
              "    }\n",
              "\n",
              "    .colab-df-convert:hover {\n",
              "      background-color: #E2EBFA;\n",
              "      box-shadow: 0px 1px 2px rgba(60, 64, 67, 0.3), 0px 1px 3px 1px rgba(60, 64, 67, 0.15);\n",
              "      fill: #174EA6;\n",
              "    }\n",
              "\n",
              "    [theme=dark] .colab-df-convert {\n",
              "      background-color: #3B4455;\n",
              "      fill: #D2E3FC;\n",
              "    }\n",
              "\n",
              "    [theme=dark] .colab-df-convert:hover {\n",
              "      background-color: #434B5C;\n",
              "      box-shadow: 0px 1px 3px 1px rgba(0, 0, 0, 0.15);\n",
              "      filter: drop-shadow(0px 1px 2px rgba(0, 0, 0, 0.3));\n",
              "      fill: #FFFFFF;\n",
              "    }\n",
              "  </style>\n",
              "\n",
              "      <script>\n",
              "        const buttonEl =\n",
              "          document.querySelector('#df-d300c0e5-2d51-4857-b422-a749c01daa44 button.colab-df-convert');\n",
              "        buttonEl.style.display =\n",
              "          google.colab.kernel.accessAllowed ? 'block' : 'none';\n",
              "\n",
              "        async function convertToInteractive(key) {\n",
              "          const element = document.querySelector('#df-d300c0e5-2d51-4857-b422-a749c01daa44');\n",
              "          const dataTable =\n",
              "            await google.colab.kernel.invokeFunction('convertToInteractive',\n",
              "                                                     [key], {});\n",
              "          if (!dataTable) return;\n",
              "\n",
              "          const docLinkHtml = 'Like what you see? Visit the ' +\n",
              "            '<a target=\"_blank\" href=https://colab.research.google.com/notebooks/data_table.ipynb>data table notebook</a>'\n",
              "            + ' to learn more about interactive tables.';\n",
              "          element.innerHTML = '';\n",
              "          dataTable['output_type'] = 'display_data';\n",
              "          await google.colab.output.renderOutput(dataTable, element);\n",
              "          const docLink = document.createElement('div');\n",
              "          docLink.innerHTML = docLinkHtml;\n",
              "          element.appendChild(docLink);\n",
              "        }\n",
              "      </script>\n",
              "    </div>\n",
              "  </div>\n",
              "  "
            ]
          },
          "metadata": {},
          "execution_count": 15
        }
      ],
      "source": [
        "ts.head()"
      ]
    },
    {
      "cell_type": "code",
      "source": [
        "ts.isna().sum()"
      ],
      "metadata": {
        "colab": {
          "base_uri": "https://localhost:8080/"
        },
        "id": "ALyi0DpunuJU",
        "outputId": "b6094732-4c39-4118-9d94-00fa9e5747fb"
      },
      "execution_count": null,
      "outputs": [
        {
          "output_type": "execute_result",
          "data": {
            "text/plain": [
              "Unnamed: 0     0\n",
              "ts             0\n",
              "title          0\n",
              "src            0\n",
              "clean_title    0\n",
              "yahoo          0\n",
              "dtype: int64"
            ]
          },
          "metadata": {},
          "execution_count": 16
        }
      ]
    },
    {
      "cell_type": "code",
      "source": [
        "ts.info()"
      ],
      "metadata": {
        "colab": {
          "base_uri": "https://localhost:8080/"
        },
        "id": "abYFpjwIoGZr",
        "outputId": "4fb25c31-3a54-4cff-d3f1-b2cc3f8b48b2"
      },
      "execution_count": null,
      "outputs": [
        {
          "output_type": "stream",
          "name": "stdout",
          "text": [
            "<class 'pandas.core.frame.DataFrame'>\n",
            "RangeIndex: 144405 entries, 0 to 144404\n",
            "Data columns (total 6 columns):\n",
            " #   Column       Non-Null Count   Dtype \n",
            "---  ------       --------------   ----- \n",
            " 0   Unnamed: 0   144405 non-null  int64 \n",
            " 1   ts           144405 non-null  object\n",
            " 2   title        144405 non-null  object\n",
            " 3   src          144405 non-null  object\n",
            " 4   clean_title  144405 non-null  object\n",
            " 5   yahoo        144405 non-null  object\n",
            "dtypes: int64(1), object(5)\n",
            "memory usage: 6.6+ MB\n"
          ]
        }
      ]
    },
    {
      "cell_type": "code",
      "source": [
        "print(len(ts['yahoo'][0].split(' ')))"
      ],
      "metadata": {
        "colab": {
          "base_uri": "https://localhost:8080/"
        },
        "id": "gQe-jTxGlgH_",
        "outputId": "91ff62f7-f1a1-496f-8240-b480c2aa864a"
      },
      "execution_count": null,
      "outputs": [
        {
          "output_type": "stream",
          "name": "stdout",
          "text": [
            "201\n"
          ]
        }
      ]
    },
    {
      "cell_type": "code",
      "source": [
        "from sklearn.preprocessing import MinMaxScaler\n",
        "scaler = MinMaxScaler()\n",
        "def createXForTimeSeries(ts, lenX):\n",
        "  ts['split'] = ts['yahoo'].str.slice(1, -1)\n",
        "  ts=ts.join(ts['split'].str.split(',', -1, expand=True).astype(float))\n",
        "  temp = ts[[x for x in range(0, lenX+1)]]\n",
        "  temp[[x for x in range(0, lenX+1)]] = scaler.fit_transform(temp[[x for x in range(0, lenX+1)]])\n",
        "  X = temp[[x for x in range(0, lenX)]]\n",
        "  X = np.array(X)\n",
        "  X = X.reshape(X.shape[0], X.shape[1], 1)\n",
        "  Y = ts[[lenX]]\n",
        "  Y = np.array(Y)\n",
        "  Y = Y.reshape(Y.shape[0], )\n",
        "  X_Next = ts[[x for x in range(lenX)]]\n",
        "  X_Next = np.array(X_Next)\n",
        "  X_Next = X_Next.reshape(X_Next.shape[0], X_Next.shape[1], 1)\n",
        "  return ts, X, Y, X_Next"
      ],
      "metadata": {
        "id": "SrSmIZ2UmXNM"
      },
      "execution_count": null,
      "outputs": []
    },
    {
      "cell_type": "code",
      "source": [
        "Y[0]"
      ],
      "metadata": {
        "colab": {
          "base_uri": "https://localhost:8080/"
        },
        "id": "JYcF0-WaxC1k",
        "outputId": "6ca00dc5-b7c8-45bd-e30b-da668cfa9ab5"
      },
      "execution_count": 168,
      "outputs": [
        {
          "output_type": "execute_result",
          "data": {
            "text/plain": [
              "2185.7900390625"
            ]
          },
          "metadata": {},
          "execution_count": 168
        }
      ]
    },
    {
      "cell_type": "code",
      "source": [
        "import numpy as np\n",
        "ts, X, Y, X_Next = createXForTimeSeries(ts, 100)\n",
        "print(X.shape, Y.shape)"
      ],
      "metadata": {
        "colab": {
          "base_uri": "https://localhost:8080/"
        },
        "id": "77-u_ipsqKzD",
        "outputId": "14da45ec-63dc-419f-ff14-dadb43038831"
      },
      "execution_count": null,
      "outputs": [
        {
          "output_type": "stream",
          "name": "stdout",
          "text": [
            "(144405, 100, 1) (144405,)\n"
          ]
        },
        {
          "output_type": "stream",
          "name": "stderr",
          "text": [
            "/usr/local/lib/python3.8/dist-packages/pandas/core/frame.py:3678: SettingWithCopyWarning: \n",
            "A value is trying to be set on a copy of a slice from a DataFrame.\n",
            "Try using .loc[row_indexer,col_indexer] = value instead\n",
            "\n",
            "See the caveats in the documentation: https://pandas.pydata.org/pandas-docs/stable/user_guide/indexing.html#returning-a-view-versus-a-copy\n",
            "  self[col] = igetitem(value, i)\n"
          ]
        }
      ]
    },
    {
      "cell_type": "code",
      "source": [
        "X_Next.shape "
      ],
      "metadata": {
        "colab": {
          "base_uri": "https://localhost:8080/"
        },
        "id": "dVlkXhhDCIkM",
        "outputId": "f68ee139-4487-49c3-99a3-49ca90a4a952"
      },
      "execution_count": null,
      "outputs": [
        {
          "output_type": "execute_result",
          "data": {
            "text/plain": [
              "(144405, 100, 1)"
            ]
          },
          "metadata": {},
          "execution_count": 21
        }
      ]
    },
    {
      "cell_type": "code",
      "source": [
        "ts.head()"
      ],
      "metadata": {
        "colab": {
          "base_uri": "https://localhost:8080/",
          "height": 733
        },
        "id": "-LnvM2dBnaSL",
        "outputId": "03e6d1eb-7afc-48c9-ea43-d28eee838372"
      },
      "execution_count": null,
      "outputs": [
        {
          "output_type": "execute_result",
          "data": {
            "text/plain": [
              "   Unnamed: 0          ts                                              title  \\\n",
              "0           0  2016-08-11  UPDATE 2-Brazil's Senate indicts Rousseff, ope...   \n",
              "1           1  2016-08-11  Argentina foreign investment quest a work in p...   \n",
              "2           2  2016-08-11  UPDATE 2-Two planes land safely at Brussels ai...   \n",
              "3           3  2016-08-11  BRIEF-Pershing Square Holdings - NAV per share...   \n",
              "4           4  2016-08-11  U.S. says it's aware of reports Vietnam fortif...   \n",
              "\n",
              "       src                                        clean_title  \\\n",
              "0  reuters  update 2 brazil's senate indicts rousseff open...   \n",
              "1  reuters  argentina foreign investment quest a work in p...   \n",
              "2  reuters  update 2 two planes land safely at brussels ai...   \n",
              "3  reuters  brief pershing square holdings nav per share a...   \n",
              "4  reuters  u s says it's aware of reports vietnam fortifi...   \n",
              "\n",
              "                                               yahoo  \\\n",
              "0  [2063.3701171875, 2051.1201171875, 2050.629882...   \n",
              "1  [2063.3701171875, 2051.1201171875, 2050.629882...   \n",
              "2  [2063.3701171875, 2051.1201171875, 2050.629882...   \n",
              "3  [2063.3701171875, 2051.1201171875, 2050.629882...   \n",
              "4  [2063.3701171875, 2051.1201171875, 2050.629882...   \n",
              "\n",
              "                                               split            0  \\\n",
              "0  2063.3701171875, 2051.1201171875, 2050.6298828...  2063.370117   \n",
              "1  2063.3701171875, 2051.1201171875, 2050.6298828...  2063.370117   \n",
              "2  2063.3701171875, 2051.1201171875, 2050.6298828...  2063.370117   \n",
              "3  2063.3701171875, 2051.1201171875, 2050.6298828...  2063.370117   \n",
              "4  2063.3701171875, 2051.1201171875, 2050.6298828...  2063.370117   \n",
              "\n",
              "             1            2  ...         191          192          193  \\\n",
              "0  2051.120117  2050.629883  ...  2167.47998  2164.449951  2164.449951   \n",
              "1  2051.120117  2050.629883  ...  2167.47998  2164.449951  2164.449951   \n",
              "2  2051.120117  2050.629883  ...  2167.47998  2164.449951  2164.449951   \n",
              "3  2051.120117  2050.629883  ...  2167.47998  2164.449951  2164.449951   \n",
              "4  2051.120117  2050.629883  ...  2167.47998  2164.449951  2164.449951   \n",
              "\n",
              "           194          195          196          197          198  \\\n",
              "0  2164.449951  2164.199951  2180.389893  2176.939941  2187.120117   \n",
              "1  2164.449951  2164.199951  2180.389893  2176.939941  2187.120117   \n",
              "2  2164.449951  2164.199951  2180.389893  2176.939941  2187.120117   \n",
              "3  2164.449951  2164.199951  2180.389893  2176.939941  2187.120117   \n",
              "4  2164.449951  2164.199951  2180.389893  2176.939941  2187.120117   \n",
              "\n",
              "           199          200  \n",
              "0  2181.899902  2181.899902  \n",
              "1  2181.899902  2181.899902  \n",
              "2  2181.899902  2181.899902  \n",
              "3  2181.899902  2181.899902  \n",
              "4  2181.899902  2181.899902  \n",
              "\n",
              "[5 rows x 208 columns]"
            ],
            "text/html": [
              "\n",
              "  <div id=\"df-a8c9304e-1bb8-41ac-bde5-a26eacd638c8\">\n",
              "    <div class=\"colab-df-container\">\n",
              "      <div>\n",
              "<style scoped>\n",
              "    .dataframe tbody tr th:only-of-type {\n",
              "        vertical-align: middle;\n",
              "    }\n",
              "\n",
              "    .dataframe tbody tr th {\n",
              "        vertical-align: top;\n",
              "    }\n",
              "\n",
              "    .dataframe thead th {\n",
              "        text-align: right;\n",
              "    }\n",
              "</style>\n",
              "<table border=\"1\" class=\"dataframe\">\n",
              "  <thead>\n",
              "    <tr style=\"text-align: right;\">\n",
              "      <th></th>\n",
              "      <th>Unnamed: 0</th>\n",
              "      <th>ts</th>\n",
              "      <th>title</th>\n",
              "      <th>src</th>\n",
              "      <th>clean_title</th>\n",
              "      <th>yahoo</th>\n",
              "      <th>split</th>\n",
              "      <th>0</th>\n",
              "      <th>1</th>\n",
              "      <th>2</th>\n",
              "      <th>...</th>\n",
              "      <th>191</th>\n",
              "      <th>192</th>\n",
              "      <th>193</th>\n",
              "      <th>194</th>\n",
              "      <th>195</th>\n",
              "      <th>196</th>\n",
              "      <th>197</th>\n",
              "      <th>198</th>\n",
              "      <th>199</th>\n",
              "      <th>200</th>\n",
              "    </tr>\n",
              "  </thead>\n",
              "  <tbody>\n",
              "    <tr>\n",
              "      <th>0</th>\n",
              "      <td>0</td>\n",
              "      <td>2016-08-11</td>\n",
              "      <td>UPDATE 2-Brazil's Senate indicts Rousseff, ope...</td>\n",
              "      <td>reuters</td>\n",
              "      <td>update 2 brazil's senate indicts rousseff open...</td>\n",
              "      <td>[2063.3701171875, 2051.1201171875, 2050.629882...</td>\n",
              "      <td>2063.3701171875, 2051.1201171875, 2050.6298828...</td>\n",
              "      <td>2063.370117</td>\n",
              "      <td>2051.120117</td>\n",
              "      <td>2050.629883</td>\n",
              "      <td>...</td>\n",
              "      <td>2167.47998</td>\n",
              "      <td>2164.449951</td>\n",
              "      <td>2164.449951</td>\n",
              "      <td>2164.449951</td>\n",
              "      <td>2164.199951</td>\n",
              "      <td>2180.389893</td>\n",
              "      <td>2176.939941</td>\n",
              "      <td>2187.120117</td>\n",
              "      <td>2181.899902</td>\n",
              "      <td>2181.899902</td>\n",
              "    </tr>\n",
              "    <tr>\n",
              "      <th>1</th>\n",
              "      <td>1</td>\n",
              "      <td>2016-08-11</td>\n",
              "      <td>Argentina foreign investment quest a work in p...</td>\n",
              "      <td>reuters</td>\n",
              "      <td>argentina foreign investment quest a work in p...</td>\n",
              "      <td>[2063.3701171875, 2051.1201171875, 2050.629882...</td>\n",
              "      <td>2063.3701171875, 2051.1201171875, 2050.6298828...</td>\n",
              "      <td>2063.370117</td>\n",
              "      <td>2051.120117</td>\n",
              "      <td>2050.629883</td>\n",
              "      <td>...</td>\n",
              "      <td>2167.47998</td>\n",
              "      <td>2164.449951</td>\n",
              "      <td>2164.449951</td>\n",
              "      <td>2164.449951</td>\n",
              "      <td>2164.199951</td>\n",
              "      <td>2180.389893</td>\n",
              "      <td>2176.939941</td>\n",
              "      <td>2187.120117</td>\n",
              "      <td>2181.899902</td>\n",
              "      <td>2181.899902</td>\n",
              "    </tr>\n",
              "    <tr>\n",
              "      <th>2</th>\n",
              "      <td>2</td>\n",
              "      <td>2016-08-11</td>\n",
              "      <td>UPDATE 2-Two planes land safely at Brussels ai...</td>\n",
              "      <td>reuters</td>\n",
              "      <td>update 2 two planes land safely at brussels ai...</td>\n",
              "      <td>[2063.3701171875, 2051.1201171875, 2050.629882...</td>\n",
              "      <td>2063.3701171875, 2051.1201171875, 2050.6298828...</td>\n",
              "      <td>2063.370117</td>\n",
              "      <td>2051.120117</td>\n",
              "      <td>2050.629883</td>\n",
              "      <td>...</td>\n",
              "      <td>2167.47998</td>\n",
              "      <td>2164.449951</td>\n",
              "      <td>2164.449951</td>\n",
              "      <td>2164.449951</td>\n",
              "      <td>2164.199951</td>\n",
              "      <td>2180.389893</td>\n",
              "      <td>2176.939941</td>\n",
              "      <td>2187.120117</td>\n",
              "      <td>2181.899902</td>\n",
              "      <td>2181.899902</td>\n",
              "    </tr>\n",
              "    <tr>\n",
              "      <th>3</th>\n",
              "      <td>3</td>\n",
              "      <td>2016-08-11</td>\n",
              "      <td>BRIEF-Pershing Square Holdings - NAV per share...</td>\n",
              "      <td>reuters</td>\n",
              "      <td>brief pershing square holdings nav per share a...</td>\n",
              "      <td>[2063.3701171875, 2051.1201171875, 2050.629882...</td>\n",
              "      <td>2063.3701171875, 2051.1201171875, 2050.6298828...</td>\n",
              "      <td>2063.370117</td>\n",
              "      <td>2051.120117</td>\n",
              "      <td>2050.629883</td>\n",
              "      <td>...</td>\n",
              "      <td>2167.47998</td>\n",
              "      <td>2164.449951</td>\n",
              "      <td>2164.449951</td>\n",
              "      <td>2164.449951</td>\n",
              "      <td>2164.199951</td>\n",
              "      <td>2180.389893</td>\n",
              "      <td>2176.939941</td>\n",
              "      <td>2187.120117</td>\n",
              "      <td>2181.899902</td>\n",
              "      <td>2181.899902</td>\n",
              "    </tr>\n",
              "    <tr>\n",
              "      <th>4</th>\n",
              "      <td>4</td>\n",
              "      <td>2016-08-11</td>\n",
              "      <td>U.S. says it's aware of reports Vietnam fortif...</td>\n",
              "      <td>reuters</td>\n",
              "      <td>u s says it's aware of reports vietnam fortifi...</td>\n",
              "      <td>[2063.3701171875, 2051.1201171875, 2050.629882...</td>\n",
              "      <td>2063.3701171875, 2051.1201171875, 2050.6298828...</td>\n",
              "      <td>2063.370117</td>\n",
              "      <td>2051.120117</td>\n",
              "      <td>2050.629883</td>\n",
              "      <td>...</td>\n",
              "      <td>2167.47998</td>\n",
              "      <td>2164.449951</td>\n",
              "      <td>2164.449951</td>\n",
              "      <td>2164.449951</td>\n",
              "      <td>2164.199951</td>\n",
              "      <td>2180.389893</td>\n",
              "      <td>2176.939941</td>\n",
              "      <td>2187.120117</td>\n",
              "      <td>2181.899902</td>\n",
              "      <td>2181.899902</td>\n",
              "    </tr>\n",
              "  </tbody>\n",
              "</table>\n",
              "<p>5 rows × 208 columns</p>\n",
              "</div>\n",
              "      <button class=\"colab-df-convert\" onclick=\"convertToInteractive('df-a8c9304e-1bb8-41ac-bde5-a26eacd638c8')\"\n",
              "              title=\"Convert this dataframe to an interactive table.\"\n",
              "              style=\"display:none;\">\n",
              "        \n",
              "  <svg xmlns=\"http://www.w3.org/2000/svg\" height=\"24px\"viewBox=\"0 0 24 24\"\n",
              "       width=\"24px\">\n",
              "    <path d=\"M0 0h24v24H0V0z\" fill=\"none\"/>\n",
              "    <path d=\"M18.56 5.44l.94 2.06.94-2.06 2.06-.94-2.06-.94-.94-2.06-.94 2.06-2.06.94zm-11 1L8.5 8.5l.94-2.06 2.06-.94-2.06-.94L8.5 2.5l-.94 2.06-2.06.94zm10 10l.94 2.06.94-2.06 2.06-.94-2.06-.94-.94-2.06-.94 2.06-2.06.94z\"/><path d=\"M17.41 7.96l-1.37-1.37c-.4-.4-.92-.59-1.43-.59-.52 0-1.04.2-1.43.59L10.3 9.45l-7.72 7.72c-.78.78-.78 2.05 0 2.83L4 21.41c.39.39.9.59 1.41.59.51 0 1.02-.2 1.41-.59l7.78-7.78 2.81-2.81c.8-.78.8-2.07 0-2.86zM5.41 20L4 18.59l7.72-7.72 1.47 1.35L5.41 20z\"/>\n",
              "  </svg>\n",
              "      </button>\n",
              "      \n",
              "  <style>\n",
              "    .colab-df-container {\n",
              "      display:flex;\n",
              "      flex-wrap:wrap;\n",
              "      gap: 12px;\n",
              "    }\n",
              "\n",
              "    .colab-df-convert {\n",
              "      background-color: #E8F0FE;\n",
              "      border: none;\n",
              "      border-radius: 50%;\n",
              "      cursor: pointer;\n",
              "      display: none;\n",
              "      fill: #1967D2;\n",
              "      height: 32px;\n",
              "      padding: 0 0 0 0;\n",
              "      width: 32px;\n",
              "    }\n",
              "\n",
              "    .colab-df-convert:hover {\n",
              "      background-color: #E2EBFA;\n",
              "      box-shadow: 0px 1px 2px rgba(60, 64, 67, 0.3), 0px 1px 3px 1px rgba(60, 64, 67, 0.15);\n",
              "      fill: #174EA6;\n",
              "    }\n",
              "\n",
              "    [theme=dark] .colab-df-convert {\n",
              "      background-color: #3B4455;\n",
              "      fill: #D2E3FC;\n",
              "    }\n",
              "\n",
              "    [theme=dark] .colab-df-convert:hover {\n",
              "      background-color: #434B5C;\n",
              "      box-shadow: 0px 1px 3px 1px rgba(0, 0, 0, 0.15);\n",
              "      filter: drop-shadow(0px 1px 2px rgba(0, 0, 0, 0.3));\n",
              "      fill: #FFFFFF;\n",
              "    }\n",
              "  </style>\n",
              "\n",
              "      <script>\n",
              "        const buttonEl =\n",
              "          document.querySelector('#df-a8c9304e-1bb8-41ac-bde5-a26eacd638c8 button.colab-df-convert');\n",
              "        buttonEl.style.display =\n",
              "          google.colab.kernel.accessAllowed ? 'block' : 'none';\n",
              "\n",
              "        async function convertToInteractive(key) {\n",
              "          const element = document.querySelector('#df-a8c9304e-1bb8-41ac-bde5-a26eacd638c8');\n",
              "          const dataTable =\n",
              "            await google.colab.kernel.invokeFunction('convertToInteractive',\n",
              "                                                     [key], {});\n",
              "          if (!dataTable) return;\n",
              "\n",
              "          const docLinkHtml = 'Like what you see? Visit the ' +\n",
              "            '<a target=\"_blank\" href=https://colab.research.google.com/notebooks/data_table.ipynb>data table notebook</a>'\n",
              "            + ' to learn more about interactive tables.';\n",
              "          element.innerHTML = '';\n",
              "          dataTable['output_type'] = 'display_data';\n",
              "          await google.colab.output.renderOutput(dataTable, element);\n",
              "          const docLink = document.createElement('div');\n",
              "          docLink.innerHTML = docLinkHtml;\n",
              "          element.appendChild(docLink);\n",
              "        }\n",
              "      </script>\n",
              "    </div>\n",
              "  </div>\n",
              "  "
            ]
          },
          "metadata": {},
          "execution_count": 22
        }
      ]
    },
    {
      "cell_type": "code",
      "source": [
        "ts['Sentiment'] = 'neutral'\n",
        "ts['Text'] = ts['clean_title']"
      ],
      "metadata": {
        "id": "wzfORYZuUnjW"
      },
      "execution_count": null,
      "outputs": []
    },
    {
      "cell_type": "code",
      "source": [
        "ts.head()"
      ],
      "metadata": {
        "colab": {
          "base_uri": "https://localhost:8080/",
          "height": 733
        },
        "id": "qll1U-hK1F4r",
        "outputId": "d0023a4d-9a7a-47f9-bdce-2ac2afec35b4"
      },
      "execution_count": null,
      "outputs": [
        {
          "output_type": "execute_result",
          "data": {
            "text/plain": [
              "   Unnamed: 0          ts                                              title  \\\n",
              "0           0  2016-08-11  UPDATE 2-Brazil's Senate indicts Rousseff, ope...   \n",
              "1           1  2016-08-11  Argentina foreign investment quest a work in p...   \n",
              "2           2  2016-08-11  UPDATE 2-Two planes land safely at Brussels ai...   \n",
              "3           3  2016-08-11  BRIEF-Pershing Square Holdings - NAV per share...   \n",
              "4           4  2016-08-11  U.S. says it's aware of reports Vietnam fortif...   \n",
              "\n",
              "       src                                        clean_title  \\\n",
              "0  reuters  update 2 brazil's senate indicts rousseff open...   \n",
              "1  reuters  argentina foreign investment quest a work in p...   \n",
              "2  reuters  update 2 two planes land safely at brussels ai...   \n",
              "3  reuters  brief pershing square holdings nav per share a...   \n",
              "4  reuters  u s says it's aware of reports vietnam fortifi...   \n",
              "\n",
              "                                               yahoo  \\\n",
              "0  [2063.3701171875, 2051.1201171875, 2050.629882...   \n",
              "1  [2063.3701171875, 2051.1201171875, 2050.629882...   \n",
              "2  [2063.3701171875, 2051.1201171875, 2050.629882...   \n",
              "3  [2063.3701171875, 2051.1201171875, 2050.629882...   \n",
              "4  [2063.3701171875, 2051.1201171875, 2050.629882...   \n",
              "\n",
              "                                               split            0  \\\n",
              "0  2063.3701171875, 2051.1201171875, 2050.6298828...  2063.370117   \n",
              "1  2063.3701171875, 2051.1201171875, 2050.6298828...  2063.370117   \n",
              "2  2063.3701171875, 2051.1201171875, 2050.6298828...  2063.370117   \n",
              "3  2063.3701171875, 2051.1201171875, 2050.6298828...  2063.370117   \n",
              "4  2063.3701171875, 2051.1201171875, 2050.6298828...  2063.370117   \n",
              "\n",
              "             1            2  ...          193          194          195  \\\n",
              "0  2051.120117  2050.629883  ...  2164.449951  2164.449951  2164.199951   \n",
              "1  2051.120117  2050.629883  ...  2164.449951  2164.449951  2164.199951   \n",
              "2  2051.120117  2050.629883  ...  2164.449951  2164.449951  2164.199951   \n",
              "3  2051.120117  2050.629883  ...  2164.449951  2164.449951  2164.199951   \n",
              "4  2051.120117  2050.629883  ...  2164.449951  2164.449951  2164.199951   \n",
              "\n",
              "           196          197          198          199          200  Sentiment  \\\n",
              "0  2180.389893  2176.939941  2187.120117  2181.899902  2181.899902    neutral   \n",
              "1  2180.389893  2176.939941  2187.120117  2181.899902  2181.899902    neutral   \n",
              "2  2180.389893  2176.939941  2187.120117  2181.899902  2181.899902    neutral   \n",
              "3  2180.389893  2176.939941  2187.120117  2181.899902  2181.899902    neutral   \n",
              "4  2180.389893  2176.939941  2187.120117  2181.899902  2181.899902    neutral   \n",
              "\n",
              "                                                Text  \n",
              "0  update 2 brazil's senate indicts rousseff open...  \n",
              "1  argentina foreign investment quest a work in p...  \n",
              "2  update 2 two planes land safely at brussels ai...  \n",
              "3  brief pershing square holdings nav per share a...  \n",
              "4  u s says it's aware of reports vietnam fortifi...  \n",
              "\n",
              "[5 rows x 210 columns]"
            ],
            "text/html": [
              "\n",
              "  <div id=\"df-7119520d-6ab8-4e10-bcf1-3d5dc06b98b6\">\n",
              "    <div class=\"colab-df-container\">\n",
              "      <div>\n",
              "<style scoped>\n",
              "    .dataframe tbody tr th:only-of-type {\n",
              "        vertical-align: middle;\n",
              "    }\n",
              "\n",
              "    .dataframe tbody tr th {\n",
              "        vertical-align: top;\n",
              "    }\n",
              "\n",
              "    .dataframe thead th {\n",
              "        text-align: right;\n",
              "    }\n",
              "</style>\n",
              "<table border=\"1\" class=\"dataframe\">\n",
              "  <thead>\n",
              "    <tr style=\"text-align: right;\">\n",
              "      <th></th>\n",
              "      <th>Unnamed: 0</th>\n",
              "      <th>ts</th>\n",
              "      <th>title</th>\n",
              "      <th>src</th>\n",
              "      <th>clean_title</th>\n",
              "      <th>yahoo</th>\n",
              "      <th>split</th>\n",
              "      <th>0</th>\n",
              "      <th>1</th>\n",
              "      <th>2</th>\n",
              "      <th>...</th>\n",
              "      <th>193</th>\n",
              "      <th>194</th>\n",
              "      <th>195</th>\n",
              "      <th>196</th>\n",
              "      <th>197</th>\n",
              "      <th>198</th>\n",
              "      <th>199</th>\n",
              "      <th>200</th>\n",
              "      <th>Sentiment</th>\n",
              "      <th>Text</th>\n",
              "    </tr>\n",
              "  </thead>\n",
              "  <tbody>\n",
              "    <tr>\n",
              "      <th>0</th>\n",
              "      <td>0</td>\n",
              "      <td>2016-08-11</td>\n",
              "      <td>UPDATE 2-Brazil's Senate indicts Rousseff, ope...</td>\n",
              "      <td>reuters</td>\n",
              "      <td>update 2 brazil's senate indicts rousseff open...</td>\n",
              "      <td>[2063.3701171875, 2051.1201171875, 2050.629882...</td>\n",
              "      <td>2063.3701171875, 2051.1201171875, 2050.6298828...</td>\n",
              "      <td>2063.370117</td>\n",
              "      <td>2051.120117</td>\n",
              "      <td>2050.629883</td>\n",
              "      <td>...</td>\n",
              "      <td>2164.449951</td>\n",
              "      <td>2164.449951</td>\n",
              "      <td>2164.199951</td>\n",
              "      <td>2180.389893</td>\n",
              "      <td>2176.939941</td>\n",
              "      <td>2187.120117</td>\n",
              "      <td>2181.899902</td>\n",
              "      <td>2181.899902</td>\n",
              "      <td>neutral</td>\n",
              "      <td>update 2 brazil's senate indicts rousseff open...</td>\n",
              "    </tr>\n",
              "    <tr>\n",
              "      <th>1</th>\n",
              "      <td>1</td>\n",
              "      <td>2016-08-11</td>\n",
              "      <td>Argentina foreign investment quest a work in p...</td>\n",
              "      <td>reuters</td>\n",
              "      <td>argentina foreign investment quest a work in p...</td>\n",
              "      <td>[2063.3701171875, 2051.1201171875, 2050.629882...</td>\n",
              "      <td>2063.3701171875, 2051.1201171875, 2050.6298828...</td>\n",
              "      <td>2063.370117</td>\n",
              "      <td>2051.120117</td>\n",
              "      <td>2050.629883</td>\n",
              "      <td>...</td>\n",
              "      <td>2164.449951</td>\n",
              "      <td>2164.449951</td>\n",
              "      <td>2164.199951</td>\n",
              "      <td>2180.389893</td>\n",
              "      <td>2176.939941</td>\n",
              "      <td>2187.120117</td>\n",
              "      <td>2181.899902</td>\n",
              "      <td>2181.899902</td>\n",
              "      <td>neutral</td>\n",
              "      <td>argentina foreign investment quest a work in p...</td>\n",
              "    </tr>\n",
              "    <tr>\n",
              "      <th>2</th>\n",
              "      <td>2</td>\n",
              "      <td>2016-08-11</td>\n",
              "      <td>UPDATE 2-Two planes land safely at Brussels ai...</td>\n",
              "      <td>reuters</td>\n",
              "      <td>update 2 two planes land safely at brussels ai...</td>\n",
              "      <td>[2063.3701171875, 2051.1201171875, 2050.629882...</td>\n",
              "      <td>2063.3701171875, 2051.1201171875, 2050.6298828...</td>\n",
              "      <td>2063.370117</td>\n",
              "      <td>2051.120117</td>\n",
              "      <td>2050.629883</td>\n",
              "      <td>...</td>\n",
              "      <td>2164.449951</td>\n",
              "      <td>2164.449951</td>\n",
              "      <td>2164.199951</td>\n",
              "      <td>2180.389893</td>\n",
              "      <td>2176.939941</td>\n",
              "      <td>2187.120117</td>\n",
              "      <td>2181.899902</td>\n",
              "      <td>2181.899902</td>\n",
              "      <td>neutral</td>\n",
              "      <td>update 2 two planes land safely at brussels ai...</td>\n",
              "    </tr>\n",
              "    <tr>\n",
              "      <th>3</th>\n",
              "      <td>3</td>\n",
              "      <td>2016-08-11</td>\n",
              "      <td>BRIEF-Pershing Square Holdings - NAV per share...</td>\n",
              "      <td>reuters</td>\n",
              "      <td>brief pershing square holdings nav per share a...</td>\n",
              "      <td>[2063.3701171875, 2051.1201171875, 2050.629882...</td>\n",
              "      <td>2063.3701171875, 2051.1201171875, 2050.6298828...</td>\n",
              "      <td>2063.370117</td>\n",
              "      <td>2051.120117</td>\n",
              "      <td>2050.629883</td>\n",
              "      <td>...</td>\n",
              "      <td>2164.449951</td>\n",
              "      <td>2164.449951</td>\n",
              "      <td>2164.199951</td>\n",
              "      <td>2180.389893</td>\n",
              "      <td>2176.939941</td>\n",
              "      <td>2187.120117</td>\n",
              "      <td>2181.899902</td>\n",
              "      <td>2181.899902</td>\n",
              "      <td>neutral</td>\n",
              "      <td>brief pershing square holdings nav per share a...</td>\n",
              "    </tr>\n",
              "    <tr>\n",
              "      <th>4</th>\n",
              "      <td>4</td>\n",
              "      <td>2016-08-11</td>\n",
              "      <td>U.S. says it's aware of reports Vietnam fortif...</td>\n",
              "      <td>reuters</td>\n",
              "      <td>u s says it's aware of reports vietnam fortifi...</td>\n",
              "      <td>[2063.3701171875, 2051.1201171875, 2050.629882...</td>\n",
              "      <td>2063.3701171875, 2051.1201171875, 2050.6298828...</td>\n",
              "      <td>2063.370117</td>\n",
              "      <td>2051.120117</td>\n",
              "      <td>2050.629883</td>\n",
              "      <td>...</td>\n",
              "      <td>2164.449951</td>\n",
              "      <td>2164.449951</td>\n",
              "      <td>2164.199951</td>\n",
              "      <td>2180.389893</td>\n",
              "      <td>2176.939941</td>\n",
              "      <td>2187.120117</td>\n",
              "      <td>2181.899902</td>\n",
              "      <td>2181.899902</td>\n",
              "      <td>neutral</td>\n",
              "      <td>u s says it's aware of reports vietnam fortifi...</td>\n",
              "    </tr>\n",
              "  </tbody>\n",
              "</table>\n",
              "<p>5 rows × 210 columns</p>\n",
              "</div>\n",
              "      <button class=\"colab-df-convert\" onclick=\"convertToInteractive('df-7119520d-6ab8-4e10-bcf1-3d5dc06b98b6')\"\n",
              "              title=\"Convert this dataframe to an interactive table.\"\n",
              "              style=\"display:none;\">\n",
              "        \n",
              "  <svg xmlns=\"http://www.w3.org/2000/svg\" height=\"24px\"viewBox=\"0 0 24 24\"\n",
              "       width=\"24px\">\n",
              "    <path d=\"M0 0h24v24H0V0z\" fill=\"none\"/>\n",
              "    <path d=\"M18.56 5.44l.94 2.06.94-2.06 2.06-.94-2.06-.94-.94-2.06-.94 2.06-2.06.94zm-11 1L8.5 8.5l.94-2.06 2.06-.94-2.06-.94L8.5 2.5l-.94 2.06-2.06.94zm10 10l.94 2.06.94-2.06 2.06-.94-2.06-.94-.94-2.06-.94 2.06-2.06.94z\"/><path d=\"M17.41 7.96l-1.37-1.37c-.4-.4-.92-.59-1.43-.59-.52 0-1.04.2-1.43.59L10.3 9.45l-7.72 7.72c-.78.78-.78 2.05 0 2.83L4 21.41c.39.39.9.59 1.41.59.51 0 1.02-.2 1.41-.59l7.78-7.78 2.81-2.81c.8-.78.8-2.07 0-2.86zM5.41 20L4 18.59l7.72-7.72 1.47 1.35L5.41 20z\"/>\n",
              "  </svg>\n",
              "      </button>\n",
              "      \n",
              "  <style>\n",
              "    .colab-df-container {\n",
              "      display:flex;\n",
              "      flex-wrap:wrap;\n",
              "      gap: 12px;\n",
              "    }\n",
              "\n",
              "    .colab-df-convert {\n",
              "      background-color: #E8F0FE;\n",
              "      border: none;\n",
              "      border-radius: 50%;\n",
              "      cursor: pointer;\n",
              "      display: none;\n",
              "      fill: #1967D2;\n",
              "      height: 32px;\n",
              "      padding: 0 0 0 0;\n",
              "      width: 32px;\n",
              "    }\n",
              "\n",
              "    .colab-df-convert:hover {\n",
              "      background-color: #E2EBFA;\n",
              "      box-shadow: 0px 1px 2px rgba(60, 64, 67, 0.3), 0px 1px 3px 1px rgba(60, 64, 67, 0.15);\n",
              "      fill: #174EA6;\n",
              "    }\n",
              "\n",
              "    [theme=dark] .colab-df-convert {\n",
              "      background-color: #3B4455;\n",
              "      fill: #D2E3FC;\n",
              "    }\n",
              "\n",
              "    [theme=dark] .colab-df-convert:hover {\n",
              "      background-color: #434B5C;\n",
              "      box-shadow: 0px 1px 3px 1px rgba(0, 0, 0, 0.15);\n",
              "      filter: drop-shadow(0px 1px 2px rgba(0, 0, 0, 0.3));\n",
              "      fill: #FFFFFF;\n",
              "    }\n",
              "  </style>\n",
              "\n",
              "      <script>\n",
              "        const buttonEl =\n",
              "          document.querySelector('#df-7119520d-6ab8-4e10-bcf1-3d5dc06b98b6 button.colab-df-convert');\n",
              "        buttonEl.style.display =\n",
              "          google.colab.kernel.accessAllowed ? 'block' : 'none';\n",
              "\n",
              "        async function convertToInteractive(key) {\n",
              "          const element = document.querySelector('#df-7119520d-6ab8-4e10-bcf1-3d5dc06b98b6');\n",
              "          const dataTable =\n",
              "            await google.colab.kernel.invokeFunction('convertToInteractive',\n",
              "                                                     [key], {});\n",
              "          if (!dataTable) return;\n",
              "\n",
              "          const docLinkHtml = 'Like what you see? Visit the ' +\n",
              "            '<a target=\"_blank\" href=https://colab.research.google.com/notebooks/data_table.ipynb>data table notebook</a>'\n",
              "            + ' to learn more about interactive tables.';\n",
              "          element.innerHTML = '';\n",
              "          dataTable['output_type'] = 'display_data';\n",
              "          await google.colab.output.renderOutput(dataTable, element);\n",
              "          const docLink = document.createElement('div');\n",
              "          docLink.innerHTML = docLinkHtml;\n",
              "          element.appendChild(docLink);\n",
              "        }\n",
              "      </script>\n",
              "    </div>\n",
              "  </div>\n",
              "  "
            ]
          },
          "metadata": {},
          "execution_count": 24
        }
      ]
    },
    {
      "cell_type": "code",
      "execution_count": null,
      "metadata": {
        "id": "5lC86NZj64jb"
      },
      "outputs": [],
      "source": [
        "class TimeSeries(nn.Module):\n",
        "  def __init__(self, input_size, output_size, hidden_dim, n_layers):\n",
        "    super(TimeSeries, self).__init__()\n",
        "    self.hidden_dim = hidden_dim\n",
        "    self.n_layers = n_layers\n",
        "    self.gru = nn.GRU(input_size, hidden_dim, n_layers, batch_first=True, bidirectional=False, dropout=0.2)   \n",
        "    self.linear = nn.Linear(self.hidden_dim*self.n_layers , 64)\n",
        "    self.relu = nn.ReLU()\n",
        "    self.dropout = nn.Dropout(0.2)\n",
        "    self.out1 = nn.Linear(64, 32)\n",
        "    self.out2 = nn.Linear(32, 1)\n",
        "  def forward(self, x, news):\n",
        "    # x-> batch, 100, 1\n",
        "    # news has to be mapped with hidden state\n",
        "    # bert mappes it to batch, 768 -> final bert outout\n",
        "    # num_layers*biredirection, batch, hidden\n",
        "    news = news.unsqueeze(0)\n",
        "    x, _ = self.gru(x, news)\n",
        "    x = x[:, -1, :]\n",
        "    x = self.relu(self.linear(x))\n",
        "    x = self.dropout(x)\n",
        "    x = self.out2(self.relu(self.out1(x)))\n",
        "    # batch, 1\n",
        "    return x"
      ]
    },
    {
      "cell_type": "code",
      "source": [
        "def evaluateTimeSeries(n_epochs, model, optimizer, train_loader, test_loader, criterionT):\n",
        "    for e in tqdm(range(n_epochs)):\n",
        "        start_time = time.time()\n",
        "        model.train()\n",
        "        avg_loss = 0.  \n",
        "        for i, (x, news, y, next) in enumerate(train_loader):\n",
        "            y_pred = model(x, news)\n",
        "            y=y.unsqueeze(1)\n",
        "            loss = criterionT(y_pred, y)\n",
        "            optimizer.zero_grad()\n",
        "            loss.backward()\n",
        "            optimizer.step()\n",
        "            avg_loss += loss.item() / len(train_loader)\n",
        "      \n",
        "        model.eval()        \n",
        "        avg_val_loss = 0.\n",
        "        # val_preds = np.zeros((len(X_test), 1))\n",
        "      \n",
        "        for i, (x_batch, news_batch, y_batch, next) in enumerate(test_loader):\n",
        "            y_pred = model(x_batch, news_batch).detach()\n",
        "            y_batch=y_batch.unsqueeze(1)\n",
        "            avg_val_loss += criterionT(y_pred, y_batch).item() / len(test_loader)\n",
        "            # val_preds[i * BATCH_SIZE:(i+1) * BATCH_SIZE] = F.softmax(y_pred).cpu().numpy()\n",
        "        elapsed_time = time.time() - start_time \n",
        "        print('Epoch {}/{} \\t test loss={:.4f} \\t time={:.2f}s'.format(\n",
        "                  e + 1, n_epochs, avg_loss, elapsed_time))"
      ],
      "metadata": {
        "id": "Ab1VB5v_fPCC"
      },
      "execution_count": null,
      "outputs": []
    },
    {
      "cell_type": "code",
      "source": [
        "def createXNews(ts, bertmodel):\n",
        "  X_news = np.zeros([ts.shape[0], 768])\n",
        "  count=0\n",
        "  for news in tqdm(ts['Text'].tolist()):\n",
        "    data = {'Text': [news], 'Sentiment': ['neutral']}  \n",
        "    newdf = pd.DataFrame(data)  \n",
        "    n = Dataset(newdf)\n",
        "    train_dataloader = torch.utils.data.DataLoader(n, batch_size=1)\n",
        "    for train_input, _ in train_dataloader:\n",
        "      mask = train_input['attention_mask'].to(device)\n",
        "      input_id = train_input['input_ids'].squeeze(1).to(device)\n",
        "      output = bertmodel.get_vector(input_id, mask)\n",
        "      X_news[count] = output[0].cpu().detach().numpy()\n",
        "      count+=1\n",
        "  return X_news"
      ],
      "metadata": {
        "id": "Q2AR-tl9TykO"
      },
      "execution_count": null,
      "outputs": []
    },
    {
      "cell_type": "code",
      "source": [
        "XNewsSentences = []\n",
        "import math\n",
        "maxSequenceLen = 0\n",
        "for i, sent in enumerate(ts['Text'].tolist()):\n",
        "    sent = sent.split(' ')\n",
        "    maxSequenceLen=max(maxSequenceLen, len(sent))\n",
        "    temp = []\n",
        "    for word in sent:\n",
        "        if word in word2Vec.wv.vocab:\n",
        "            temp.append(word2Vec[word])\n",
        "    if(len(temp)==0):\n",
        "        temp.append(np.zeros(300))\n",
        "    XNewsSentences.append(temp)\n",
        "print(maxSequenceLen)\n",
        "def createXNewsForLSTM(l, XNewsSentences):\n",
        "    X = np.zeros([len(XNewsSentences), l, 300])\n",
        "    for i, sent in enumerate(XNewsSentences):\n",
        "        for j in range(0, l):\n",
        "            if(j<len(sent)):\n",
        "                word = sent[j]\n",
        "                temp=word\n",
        "            else:\n",
        "                temp = np.zeros(300)\n",
        "\n",
        "            X[i][j] = temp\n",
        "    return X\n",
        "def createXNewsModelReadyForLSTM(dim, model, maxSequenceLen, XNewsSentences):\n",
        "  X_News_LSTM = createXNewsForLSTM(maxSequenceLen, XNewsSentences)\n",
        "  # X_News_LSTM = torch.tensor(X_News_LSTM, dtype=torch.float32).cpu()\n",
        "  # X_News_LSTM -> total, seq, 300\n",
        "\n",
        "\n",
        "  X_News = torch.tensor(np.zeros([len(X_News_LSTM), dim]))\n",
        "  model.eval()\n",
        "  model.to(device) \n",
        "  for i, news in tqdm(enumerate(X_News_LSTM)):\n",
        "    # news->seq, 300\n",
        "    news = torch.tensor(news, dtype=torch.float32)\n",
        "    news = news.unsqueeze(0)\n",
        "    X_News[i] = model.get_vector(news.to(device))\n",
        "  return X_News\n",
        "\n",
        "# print(total, 64)"
      ],
      "metadata": {
        "colab": {
          "base_uri": "https://localhost:8080/"
        },
        "id": "ihABfWTkHQW2",
        "outputId": "404a07a6-b514-4943-fd62-db595a448355"
      },
      "execution_count": null,
      "outputs": [
        {
          "output_type": "stream",
          "name": "stderr",
          "text": [
            "<ipython-input-76-adb2ff203f02>:9: DeprecationWarning: Call to deprecated `wv` (Attribute will be removed in 4.0.0, use self instead).\n",
            "  if word in word2Vec.wv.vocab:\n"
          ]
        },
        {
          "output_type": "stream",
          "name": "stdout",
          "text": [
            "44\n"
          ]
        }
      ]
    },
    {
      "cell_type": "code",
      "source": [
        "y = torch.zeros([100, 100])\n",
        "# for x in range()"
      ],
      "metadata": {
        "id": "kLM_q9w2_jD6"
      },
      "execution_count": null,
      "outputs": []
    },
    {
      "cell_type": "code",
      "source": [
        "# T=torch.tensor(X_News_LSTM[0], dtype=torch.float32).unsqueeze(0)"
      ],
      "metadata": {
        "id": "aZJVrDRIKJGF"
      },
      "execution_count": null,
      "outputs": []
    },
    {
      "cell_type": "code",
      "source": [
        "# def createXNewsForLSTM(ts, model, dim):\n",
        "#   X_news = np.zeros([ts.shape[0], dim])\n",
        "#   # count=0\n",
        "#   for news in tqdm(ts['Text'].tolist()):\n",
        "#     pass\n",
        "#   # for news in tqdm(ts['Text'].tolist()):\n",
        "#   #   data = {'Text': [news], 'Sentiment': ['neutral']}  \n",
        "#   #   newdf = pd.DataFrame(data)  \n",
        "#   #   n = Dataset(newdf)\n",
        "#   #   train_dataloader = torch.utils.data.DataLoader(n, batch_size=1)\n",
        "#   #   for train_input, _ in train_dataloader:\n",
        "#   #     mask = train_input['attention_mask'].to(device)\n",
        "#   #     input_id = train_input['input_ids'].squeeze(1).to(device)\n",
        "#   #     output = model.get_vector(input_id, mask)\n",
        "#   #     X_news[count] = output[0].cpu().detach().numpy()\n",
        "#   #     count+=1\n",
        "#   return X_news"
      ],
      "metadata": {
        "id": "tbwxULukGP6t"
      },
      "execution_count": null,
      "outputs": []
    },
    {
      "cell_type": "code",
      "source": [
        "def createDataLoaderForNews(X_train, News_train, Y_train, X_test, News_test, Y_test, BATCH_SIZE, X_Next_train, X_Next_test):\n",
        "  X_train = torch.tensor(X_train, dtype=torch.float32).to(device)\n",
        "  Y_train = torch.tensor(Y_train,  dtype=torch.float32).to(device)\n",
        "\n",
        "  News_train = torch.tensor(News_train,  dtype=torch.float32).to(device)\n",
        "  X_Next_train = torch.tensor(X_Next_train,  dtype=torch.float32).to(device)\n",
        "\n",
        "  X_test = torch.tensor(X_test, dtype=torch.float32).to(device)\n",
        "  Y_test = torch.tensor(Y_test,  dtype=torch.float32).to(device)\n",
        "  News_test = torch.tensor(News_test,  dtype=torch.float32).to(device)\n",
        "  X_Next_test = torch.tensor(X_Next_test,  dtype=torch.float32).to(device)\n",
        "\n",
        "  train = torch.utils.data.TensorDataset(X_train, News_train, Y_train, X_Next_train)\n",
        "  test = torch.utils.data.TensorDataset(X_test, News_test, Y_test, X_Next_test)\n",
        "\n",
        "  train_loader = torch.utils.data.DataLoader(train, batch_size=BATCH_SIZE, shuffle=True)\n",
        "  test_loader = torch.utils.data.DataLoader(test, batch_size=BATCH_SIZE, shuffle=False)\n",
        "  return train_loader, test_loader"
      ],
      "metadata": {
        "id": "9oPWOUeaRwaM"
      },
      "execution_count": null,
      "outputs": []
    },
    {
      "cell_type": "code",
      "source": [
        "torch.cuda.empty_cache()"
      ],
      "metadata": {
        "id": "8r4YkdeH_G3j"
      },
      "execution_count": null,
      "outputs": []
    },
    {
      "cell_type": "code",
      "source": [
        "# X_news = np.zeros([ts.shape[0], 768])\n",
        "from tqdm import tqdm\n",
        "# bert_pretrained_model.to(device)\n",
        "model1.to(device)\n",
        "X_news = createXNews(ts, bert_pretrained_model)\n",
        "X_news_LSTM = createXNewsModelReadyForLSTM(64, model1, maxSequenceLen, XNewsSentences)\n",
        "X_news_GRU = createXNewsModelReadyForLSTM(64, model2, maxSequenceLen, XNewsSentences)\n",
        "# X_news_LSTM -> total, 64\n",
        "# _, X, Y, X_Next = createXForTimeSeries(ts, 100)"
      ],
      "metadata": {
        "colab": {
          "base_uri": "https://localhost:8080/"
        },
        "id": "S4AYd2o8jIFa",
        "outputId": "b51edcff-daa3-472e-c407-0b50a130e38b"
      },
      "execution_count": null,
      "outputs": [
        {
          "output_type": "stream",
          "name": "stderr",
          "text": [
            "144405it [01:30, 1604.41it/s]\n"
          ]
        }
      ]
    },
    {
      "cell_type": "code",
      "source": [
        "X_news.shape"
      ],
      "metadata": {
        "colab": {
          "base_uri": "https://localhost:8080/"
        },
        "id": "xo5s_8HoDGsP",
        "outputId": "5c26a249-8323-4e5a-d0f0-eb162a226afc"
      },
      "execution_count": null,
      "outputs": [
        {
          "output_type": "execute_result",
          "data": {
            "text/plain": [
              "(144405, 768)"
            ]
          },
          "metadata": {},
          "execution_count": 141
        }
      ]
    },
    {
      "cell_type": "code",
      "source": [
        "# X_train, X_test, X_news_train, X_news_test, Y_train, Y_test, X_Next_train, X_Next_test = train_test_split(X, X_news_LSTM, Y, X_Next, test_size=0.2, random_state=42)\n",
        "# X_train, X_test, X_news_train, X_news_test, Y_train, Y_test, X_Next_train, X_Next_test = train_test_split(X, X_news, Y, X_Next, test_size=0.2, random_state=42)\n",
        "X_train, X_test, X_news_train, X_news_test, Y_train, Y_test, X_Next_train, X_Next_test = train_test_split(X, X_news_GRU, Y, X_Next, test_size=0.2, random_state=42)"
      ],
      "metadata": {
        "id": "kCjrCTWhQgVG"
      },
      "execution_count": 260,
      "outputs": []
    },
    {
      "cell_type": "code",
      "source": [
        "from torch.optim import Adam\n",
        "import time\n",
        "device = torch.device(\"cuda\" if torch.cuda.is_available() else \"cpu\")\n",
        "modelTimeSeries = TimeSeries(1, 1, 768, 1) #input_size, output_size, hidden_dim, n_layers\n",
        "optimizerT = Adam(modelTimeSeries.parameters(), lr=0.001)\n",
        "criterionT = nn.MSELoss()\n",
        "modelTimeSeries.to(device)\n",
        "predicted_list = [random.randint(-20, 20) for _ in range(101)]\n",
        "train_loader, test_loader = createDataLoaderForNews(X_train, X_news_train, Y_train, X_test, X_news_test, Y_test, 64, X_Next_train, X_Next_test)\n",
        "evaluateTimeSeries(200, modelTimeSeries, optimizerT, train_loader, test_loader, criterionT)"
      ],
      "metadata": {
        "id": "UhqtZ6S4e9_c"
      },
      "execution_count": 263,
      "outputs": []
    },
    {
      "cell_type": "code",
      "source": [
        "modelTimeSeries = TimeSeries(1, 1, 768, 1)\n",
        "# torch.save(modelTimeSeries.state_dict(), '/content/drive/MyDrive/NLP Dataset/model/modelTimeSeries.pt')\n",
        "modelTimeSeries.load_state_dict(torch.load('/content/drive/MyDrive/NLP Dataset/model/modelTimeSeries.pt'))"
      ],
      "metadata": {
        "id": "nltNprnhqiWj"
      },
      "execution_count": null,
      "outputs": []
    },
    {
      "cell_type": "code",
      "source": [
        "device = torch.device(\"cuda\" if torch.cuda.is_available() else \"cpu\")\n",
        "modelTimeSeriesLSTM = TimeSeries(1, 1, 64, 1) #input_size, output_size, hidden_dim, n_layers\n",
        "optimizerT = Adam(modelTimeSeriesLSTM.parameters(), lr=0.001)\n",
        "criterionT = nn.MSELoss()\n",
        "modelTimeSeriesLSTM.to(device)\n",
        "train_loader, test_loader = createDataLoaderForNews(X_train, X_news_train, Y_train, X_test, X_news_test, Y_test, 64, X_Next_train, X_Next_test)\n",
        "evaluateTimeSeries(200, modelTimeSeriesLSTM, optimizerT, train_loader, test_loader, criterionT)"
      ],
      "metadata": {
        "colab": {
          "base_uri": "https://localhost:8080/"
        },
        "id": "4AwqnXwvSB1Y",
        "outputId": "cdad6e43-af0b-49e7-aa95-e3fdab1ded20"
      },
      "execution_count": null,
      "outputs": [
        {
          "output_type": "stream",
          "name": "stderr",
          "text": [
            "<ipython-input-59-cc8a22c424fa>:5: UserWarning: To copy construct from a tensor, it is recommended to use sourceTensor.clone().detach() or sourceTensor.clone().detach().requires_grad_(True), rather than torch.tensor(sourceTensor).\n",
            "  News_train = torch.tensor(News_train,  dtype=torch.float32).to(device)\n",
            "<ipython-input-59-cc8a22c424fa>:10: UserWarning: To copy construct from a tensor, it is recommended to use sourceTensor.clone().detach() or sourceTensor.clone().detach().requires_grad_(True), rather than torch.tensor(sourceTensor).\n",
            "  News_test = torch.tensor(News_test,  dtype=torch.float32).to(device)\n"
          ]
        }
      ]
    },
    {
      "cell_type": "code",
      "source": [
        "modelTimeSeriesLSTM = TimeSeries(1, 1, 64, 1)\n",
        "# torch.save(modelTimeSeriesLSTM.state_dict(), '/content/drive/MyDrive/NLP Dataset/model/modelTimeSeriesLSTM.pt')\n",
        "modelTimeSeriesLSTM.to(device)\n",
        "modelTimeSeriesLSTM.load_state_dict(torch.load('/content/drive/MyDrive/NLP Dataset/model/modelTimeSeriesLSTM.pt'))"
      ],
      "metadata": {
        "id": "-BYOpHONsJpe",
        "colab": {
          "base_uri": "https://localhost:8080/"
        },
        "outputId": "be129d84-4cee-42b1-ea55-fa0b7b6384b8"
      },
      "execution_count": 197,
      "outputs": [
        {
          "output_type": "stream",
          "name": "stderr",
          "text": [
            "/usr/local/lib/python3.8/dist-packages/torch/nn/modules/rnn.py:62: UserWarning: dropout option adds dropout after all but last recurrent layer, so non-zero dropout expects num_layers greater than 1, but got dropout=0.2 and num_layers=1\n",
            "  warnings.warn(\"dropout option adds dropout after all but last \"\n"
          ]
        },
        {
          "output_type": "execute_result",
          "data": {
            "text/plain": [
              "<All keys matched successfully>"
            ]
          },
          "metadata": {},
          "execution_count": 197
        }
      ]
    },
    {
      "cell_type": "code",
      "source": [],
      "metadata": {
        "id": "KrXAvLHzE5Bx"
      },
      "execution_count": null,
      "outputs": []
    },
    {
      "cell_type": "code",
      "source": [
        "device = torch.device(\"cuda\" if torch.cuda.is_available() else \"cpu\")\n",
        "modelTimeSeriesGRU = TimeSeries(1, 1, 64, 1) #input_size, output_size, hidden_dim, n_layers\n",
        "optimizerT = Adam(modelTimeSeriesGRU.parameters(), lr=0.001)\n",
        "criterionT = nn.MSELoss()\n",
        "modelTimeSeriesGRU.to(device)\n",
        "train_loader, test_loader = createDataLoaderForNews(X_train, X_news_train, Y_train, X_test, X_news_test, Y_test, 64, X_Next_train, X_Next_test)\n",
        "evaluateTimeSeries(200, modelTimeSeriesGRU, optimizerT, train_loader, test_loader, criterionT)"
      ],
      "metadata": {
        "colab": {
          "base_uri": "https://localhost:8080/"
        },
        "id": "vv9OQEYLse7p",
        "outputId": "b7d105f2-8c9a-47df-c3d8-d9632aa222f6"
      },
      "execution_count": null,
      "outputs": [
        {
          "metadata": {
            "tags": null
          },
          "name": "stderr",
          "output_type": "stream",
          "text": [
            "<ipython-input-59-cc8a22c424fa>:5: UserWarning: To copy construct from a tensor, it is recommended to use sourceTensor.clone().detach() or sourceTensor.clone().detach().requires_grad_(True), rather than torch.tensor(sourceTensor).\n",
            "  News_train = torch.tensor(News_train,  dtype=torch.float32).to(device)\n",
            "<ipython-input-59-cc8a22c424fa>:10: UserWarning: To copy construct from a tensor, it is recommended to use sourceTensor.clone().detach() or sourceTensor.clone().detach().requires_grad_(True), rather than torch.tensor(sourceTensor).\n",
            "  News_test = torch.tensor(News_test,  dtype=torch.float32).to(device)\n",
            "  0%|          | 1/200 [00:07<24:16,  7.32s/it]"
          ]
        },
        {
          "metadata": {
            "tags": null
          },
          "name": "stdout",
          "output_type": "stream",
          "text": [
            "Epoch 1/200 \t loss=193831.1677 \t time=7.32s\n"
          ]
        },
        {
          "metadata": {
            "tags": null
          },
          "name": "stderr",
          "output_type": "stream",
          "text": [
            "\r  1%|          | 2/200 [00:14<23:49,  7.22s/it]"
          ]
        },
        {
          "metadata": {
            "tags": null
          },
          "name": "stdout",
          "output_type": "stream",
          "text": [
            "Epoch 2/200 \t loss=16846.8592 \t time=7.15s\n"
          ]
        },
        {
          "metadata": {
            "tags": null
          },
          "name": "stderr",
          "output_type": "stream",
          "text": [
            "\r  2%|▏         | 3/200 [00:21<23:41,  7.21s/it]"
          ]
        },
        {
          "metadata": {
            "tags": null
          },
          "name": "stdout",
          "output_type": "stream",
          "text": [
            "Epoch 3/200 \t loss=15961.5468 \t time=7.21s\n"
          ]
        },
        {
          "metadata": {
            "tags": null
          },
          "name": "stderr",
          "output_type": "stream",
          "text": [
            "\r  2%|▏         | 4/200 [00:28<23:34,  7.21s/it]"
          ]
        },
        {
          "metadata": {
            "tags": null
          },
          "name": "stdout",
          "output_type": "stream",
          "text": [
            "Epoch 4/200 \t loss=15329.8297 \t time=7.21s\n"
          ]
        },
        {
          "metadata": {
            "tags": null
          },
          "name": "stderr",
          "output_type": "stream",
          "text": [
            "\r  2%|▎         | 5/200 [00:36<23:26,  7.21s/it]"
          ]
        },
        {
          "metadata": {
            "tags": null
          },
          "name": "stdout",
          "output_type": "stream",
          "text": [
            "Epoch 5/200 \t loss=12123.8761 \t time=7.21s\n"
          ]
        },
        {
          "metadata": {
            "tags": null
          },
          "name": "stderr",
          "output_type": "stream",
          "text": [
            "\r  3%|▎         | 6/200 [00:43<23:18,  7.21s/it]"
          ]
        },
        {
          "metadata": {
            "tags": null
          },
          "name": "stdout",
          "output_type": "stream",
          "text": [
            "Epoch 6/200 \t loss=33347.9840 \t time=7.20s\n"
          ]
        },
        {
          "metadata": {
            "tags": null
          },
          "name": "stderr",
          "output_type": "stream",
          "text": [
            "\r  4%|▎         | 7/200 [00:50<23:07,  7.19s/it]"
          ]
        },
        {
          "metadata": {
            "tags": null
          },
          "name": "stdout",
          "output_type": "stream",
          "text": [
            "Epoch 7/200 \t loss=24474.3136 \t time=7.15s\n"
          ]
        },
        {
          "metadata": {
            "tags": null
          },
          "name": "stderr",
          "output_type": "stream",
          "text": [
            "\r  4%|▍         | 8/200 [00:57<22:56,  7.17s/it]"
          ]
        },
        {
          "metadata": {
            "tags": null
          },
          "name": "stdout",
          "output_type": "stream",
          "text": [
            "Epoch 8/200 \t loss=15445.1181 \t time=7.12s\n"
          ]
        },
        {
          "metadata": {
            "tags": null
          },
          "name": "stderr",
          "output_type": "stream",
          "text": [
            "\r  4%|▍         | 9/200 [01:04<22:47,  7.16s/it]"
          ]
        },
        {
          "metadata": {
            "tags": null
          },
          "name": "stdout",
          "output_type": "stream",
          "text": [
            "Epoch 9/200 \t loss=7624.2737 \t time=7.13s\n"
          ]
        },
        {
          "metadata": {
            "tags": null
          },
          "name": "stderr",
          "output_type": "stream",
          "text": [
            "\r  5%|▌         | 10/200 [01:11<22:41,  7.17s/it]"
          ]
        },
        {
          "metadata": {
            "tags": null
          },
          "name": "stdout",
          "output_type": "stream",
          "text": [
            "Epoch 10/200 \t loss=5287.8266 \t time=7.18s\n"
          ]
        },
        {
          "metadata": {
            "tags": null
          },
          "name": "stderr",
          "output_type": "stream",
          "text": [
            "\r  6%|▌         | 11/200 [01:19<22:33,  7.16s/it]"
          ]
        },
        {
          "metadata": {
            "tags": null
          },
          "name": "stdout",
          "output_type": "stream",
          "text": [
            "Epoch 11/200 \t loss=5025.4410 \t time=7.15s\n"
          ]
        },
        {
          "metadata": {
            "tags": null
          },
          "name": "stderr",
          "output_type": "stream",
          "text": [
            "\r  6%|▌         | 12/200 [01:26<22:24,  7.15s/it]"
          ]
        },
        {
          "metadata": {
            "tags": null
          },
          "name": "stdout",
          "output_type": "stream",
          "text": [
            "Epoch 12/200 \t loss=4633.4432 \t time=7.13s\n"
          ]
        },
        {
          "metadata": {
            "tags": null
          },
          "name": "stderr",
          "output_type": "stream",
          "text": [
            "\r  6%|▋         | 13/200 [01:33<22:18,  7.16s/it]"
          ]
        },
        {
          "metadata": {
            "tags": null
          },
          "name": "stdout",
          "output_type": "stream",
          "text": [
            "Epoch 13/200 \t loss=4372.2882 \t time=7.16s\n"
          ]
        },
        {
          "metadata": {
            "tags": null
          },
          "name": "stderr",
          "output_type": "stream",
          "text": [
            "\r  7%|▋         | 14/200 [01:40<22:11,  7.16s/it]"
          ]
        },
        {
          "metadata": {
            "tags": null
          },
          "name": "stdout",
          "output_type": "stream",
          "text": [
            "Epoch 14/200 \t loss=4126.8434 \t time=7.17s\n"
          ]
        },
        {
          "metadata": {
            "tags": null
          },
          "name": "stderr",
          "output_type": "stream",
          "text": [
            "\r  8%|▊         | 15/200 [01:47<22:05,  7.17s/it]"
          ]
        },
        {
          "metadata": {
            "tags": null
          },
          "name": "stdout",
          "output_type": "stream",
          "text": [
            "Epoch 15/200 \t loss=3580.8123 \t time=7.18s\n"
          ]
        },
        {
          "metadata": {
            "tags": null
          },
          "name": "stderr",
          "output_type": "stream",
          "text": [
            "\r  8%|▊         | 16/200 [01:54<22:01,  7.18s/it]"
          ]
        },
        {
          "metadata": {
            "tags": null
          },
          "name": "stdout",
          "output_type": "stream",
          "text": [
            "Epoch 16/200 \t loss=2624.1170 \t time=7.21s\n"
          ]
        },
        {
          "metadata": {
            "tags": null
          },
          "name": "stderr",
          "output_type": "stream",
          "text": [
            "\r  8%|▊         | 17/200 [02:02<21:53,  7.18s/it]"
          ]
        },
        {
          "metadata": {
            "tags": null
          },
          "name": "stdout",
          "output_type": "stream",
          "text": [
            "Epoch 17/200 \t loss=1746.0126 \t time=7.17s\n"
          ]
        },
        {
          "metadata": {
            "tags": null
          },
          "name": "stderr",
          "output_type": "stream",
          "text": [
            "\r  9%|▉         | 18/200 [02:09<21:46,  7.18s/it]"
          ]
        },
        {
          "metadata": {
            "tags": null
          },
          "name": "stdout",
          "output_type": "stream",
          "text": [
            "Epoch 18/200 \t loss=1317.5758 \t time=7.17s\n"
          ]
        },
        {
          "metadata": {
            "tags": null
          },
          "name": "stderr",
          "output_type": "stream",
          "text": [
            "\r 10%|▉         | 19/200 [02:16<21:39,  7.18s/it]"
          ]
        },
        {
          "metadata": {
            "tags": null
          },
          "name": "stdout",
          "output_type": "stream",
          "text": [
            "Epoch 19/200 \t loss=1129.1264 \t time=7.18s\n"
          ]
        },
        {
          "metadata": {
            "tags": null
          },
          "name": "stderr",
          "output_type": "stream",
          "text": [
            "\r 10%|█         | 20/200 [02:23<21:31,  7.18s/it]"
          ]
        },
        {
          "metadata": {
            "tags": null
          },
          "name": "stdout",
          "output_type": "stream",
          "text": [
            "Epoch 20/200 \t loss=964.7070 \t time=7.17s\n"
          ]
        },
        {
          "metadata": {
            "tags": null
          },
          "name": "stderr",
          "output_type": "stream",
          "text": [
            "\r 10%|█         | 21/200 [02:30<21:31,  7.21s/it]"
          ]
        },
        {
          "metadata": {
            "tags": null
          },
          "name": "stdout",
          "output_type": "stream",
          "text": [
            "Epoch 21/200 \t loss=863.6084 \t time=7.29s\n"
          ]
        },
        {
          "metadata": {
            "tags": null
          },
          "name": "stderr",
          "output_type": "stream",
          "text": [
            "\r 11%|█         | 22/200 [02:38<21:20,  7.19s/it]"
          ]
        },
        {
          "metadata": {
            "tags": null
          },
          "name": "stdout",
          "output_type": "stream",
          "text": [
            "Epoch 22/200 \t loss=815.0167 \t time=7.15s\n"
          ]
        },
        {
          "metadata": {
            "tags": null
          },
          "name": "stderr",
          "output_type": "stream",
          "text": [
            "\r 12%|█▏        | 23/200 [02:45<21:12,  7.19s/it]"
          ]
        },
        {
          "metadata": {
            "tags": null
          },
          "name": "stdout",
          "output_type": "stream",
          "text": [
            "Epoch 23/200 \t loss=775.1839 \t time=7.17s\n"
          ]
        },
        {
          "metadata": {
            "tags": null
          },
          "name": "stderr",
          "output_type": "stream",
          "text": [
            "\r 12%|█▏        | 24/200 [02:52<21:01,  7.17s/it]"
          ]
        },
        {
          "metadata": {
            "tags": null
          },
          "name": "stdout",
          "output_type": "stream",
          "text": [
            "Epoch 24/200 \t loss=719.9437 \t time=7.12s\n"
          ]
        },
        {
          "metadata": {
            "tags": null
          },
          "name": "stderr",
          "output_type": "stream",
          "text": [
            "\r 12%|█▎        | 25/200 [02:59<20:55,  7.18s/it]"
          ]
        },
        {
          "metadata": {
            "tags": null
          },
          "name": "stdout",
          "output_type": "stream",
          "text": [
            "Epoch 25/200 \t loss=691.9866 \t time=7.19s\n"
          ]
        },
        {
          "metadata": {
            "tags": null
          },
          "name": "stderr",
          "output_type": "stream",
          "text": [
            "\r 13%|█▎        | 26/200 [03:06<20:48,  7.18s/it]"
          ]
        },
        {
          "metadata": {
            "tags": null
          },
          "name": "stdout",
          "output_type": "stream",
          "text": [
            "Epoch 26/200 \t loss=665.2444 \t time=7.18s\n"
          ]
        },
        {
          "metadata": {
            "tags": null
          },
          "name": "stderr",
          "output_type": "stream",
          "text": [
            "\r 14%|█▎        | 27/200 [03:13<20:43,  7.19s/it]"
          ]
        },
        {
          "metadata": {
            "tags": null
          },
          "name": "stdout",
          "output_type": "stream",
          "text": [
            "Epoch 27/200 \t loss=636.6136 \t time=7.21s\n"
          ]
        },
        {
          "metadata": {
            "tags": null
          },
          "name": "stderr",
          "output_type": "stream",
          "text": [
            "\r 14%|█▍        | 28/200 [03:21<20:35,  7.19s/it]"
          ]
        },
        {
          "metadata": {
            "tags": null
          },
          "name": "stdout",
          "output_type": "stream",
          "text": [
            "Epoch 28/200 \t loss=576.9815 \t time=7.18s\n"
          ]
        },
        {
          "metadata": {
            "tags": null
          },
          "name": "stderr",
          "output_type": "stream",
          "text": [
            "\r 14%|█▍        | 29/200 [03:28<20:27,  7.18s/it]"
          ]
        },
        {
          "metadata": {
            "tags": null
          },
          "name": "stdout",
          "output_type": "stream",
          "text": [
            "Epoch 29/200 \t loss=539.2322 \t time=7.17s\n"
          ]
        },
        {
          "metadata": {
            "tags": null
          },
          "name": "stderr",
          "output_type": "stream",
          "text": [
            "\r 15%|█▌        | 30/200 [03:35<20:18,  7.17s/it]"
          ]
        },
        {
          "metadata": {
            "tags": null
          },
          "name": "stdout",
          "output_type": "stream",
          "text": [
            "Epoch 30/200 \t loss=493.8235 \t time=7.13s\n"
          ]
        },
        {
          "metadata": {
            "tags": null
          },
          "name": "stderr",
          "output_type": "stream",
          "text": [
            "\r 16%|█▌        | 31/200 [03:42<20:05,  7.13s/it]"
          ]
        },
        {
          "metadata": {
            "tags": null
          },
          "name": "stdout",
          "output_type": "stream",
          "text": [
            "Epoch 31/200 \t loss=466.8961 \t time=7.06s\n"
          ]
        },
        {
          "metadata": {
            "tags": null
          },
          "name": "stderr",
          "output_type": "stream",
          "text": [
            "\r 16%|█▌        | 32/200 [03:49<20:01,  7.15s/it]"
          ]
        },
        {
          "metadata": {
            "tags": null
          },
          "name": "stdout",
          "output_type": "stream",
          "text": [
            "Epoch 32/200 \t loss=422.3267 \t time=7.19s\n"
          ]
        },
        {
          "metadata": {
            "tags": null
          },
          "name": "stderr",
          "output_type": "stream",
          "text": [
            "\r 16%|█▋        | 33/200 [03:56<19:54,  7.15s/it]"
          ]
        },
        {
          "metadata": {
            "tags": null
          },
          "name": "stdout",
          "output_type": "stream",
          "text": [
            "Epoch 33/200 \t loss=418.0195 \t time=7.15s\n"
          ]
        },
        {
          "metadata": {
            "tags": null
          },
          "name": "stderr",
          "output_type": "stream",
          "text": [
            "\r 17%|█▋        | 34/200 [04:03<19:47,  7.15s/it]"
          ]
        },
        {
          "metadata": {
            "tags": null
          },
          "name": "stdout",
          "output_type": "stream",
          "text": [
            "Epoch 34/200 \t loss=372.2206 \t time=7.15s\n"
          ]
        },
        {
          "metadata": {
            "tags": null
          },
          "name": "stderr",
          "output_type": "stream",
          "text": [
            "\r 18%|█▊        | 35/200 [04:11<19:39,  7.15s/it]"
          ]
        },
        {
          "metadata": {
            "tags": null
          },
          "name": "stdout",
          "output_type": "stream",
          "text": [
            "Epoch 35/200 \t loss=354.0669 \t time=7.14s\n"
          ]
        },
        {
          "metadata": {
            "tags": null
          },
          "name": "stderr",
          "output_type": "stream",
          "text": [
            "\r 18%|█▊        | 36/200 [04:18<19:32,  7.15s/it]"
          ]
        },
        {
          "metadata": {
            "tags": null
          },
          "name": "stdout",
          "output_type": "stream",
          "text": [
            "Epoch 36/200 \t loss=341.4075 \t time=7.15s\n"
          ]
        },
        {
          "metadata": {
            "tags": null
          },
          "name": "stderr",
          "output_type": "stream",
          "text": [
            "\r 18%|█▊        | 37/200 [04:25<19:31,  7.19s/it]"
          ]
        },
        {
          "metadata": {
            "tags": null
          },
          "name": "stdout",
          "output_type": "stream",
          "text": [
            "Epoch 37/200 \t loss=304.3887 \t time=7.28s\n"
          ]
        },
        {
          "metadata": {
            "tags": null
          },
          "name": "stderr",
          "output_type": "stream",
          "text": [
            "\r 19%|█▉        | 38/200 [04:32<19:21,  7.17s/it]"
          ]
        },
        {
          "metadata": {
            "tags": null
          },
          "name": "stdout",
          "output_type": "stream",
          "text": [
            "Epoch 38/200 \t loss=290.8776 \t time=7.13s\n"
          ]
        },
        {
          "metadata": {
            "tags": null
          },
          "name": "stderr",
          "output_type": "stream",
          "text": [
            "\r 20%|█▉        | 39/200 [04:39<19:16,  7.18s/it]"
          ]
        },
        {
          "metadata": {
            "tags": null
          },
          "name": "stdout",
          "output_type": "stream",
          "text": [
            "Epoch 39/200 \t loss=269.6298 \t time=7.21s\n"
          ]
        },
        {
          "metadata": {
            "tags": null
          },
          "name": "stderr",
          "output_type": "stream",
          "text": [
            "\r 20%|██        | 40/200 [04:47<19:13,  7.21s/it]"
          ]
        },
        {
          "metadata": {
            "tags": null
          },
          "name": "stdout",
          "output_type": "stream",
          "text": [
            "Epoch 40/200 \t loss=243.5962 \t time=7.27s\n"
          ]
        },
        {
          "metadata": {
            "tags": null
          },
          "name": "stderr",
          "output_type": "stream",
          "text": [
            "\r 20%|██        | 41/200 [04:54<19:07,  7.22s/it]"
          ]
        },
        {
          "metadata": {
            "tags": null
          },
          "name": "stdout",
          "output_type": "stream",
          "text": [
            "Epoch 41/200 \t loss=225.2841 \t time=7.25s\n"
          ]
        },
        {
          "metadata": {
            "tags": null
          },
          "name": "stderr",
          "output_type": "stream",
          "text": [
            "\r 21%|██        | 42/200 [05:01<18:59,  7.21s/it]"
          ]
        },
        {
          "metadata": {
            "tags": null
          },
          "name": "stdout",
          "output_type": "stream",
          "text": [
            "Epoch 42/200 \t loss=228.4242 \t time=7.20s\n"
          ]
        },
        {
          "metadata": {
            "tags": null
          },
          "name": "stderr",
          "output_type": "stream",
          "text": [
            "\r 22%|██▏       | 43/200 [05:08<18:48,  7.19s/it]"
          ]
        },
        {
          "metadata": {
            "tags": null
          },
          "name": "stdout",
          "output_type": "stream",
          "text": [
            "Epoch 43/200 \t loss=209.6612 \t time=7.13s\n"
          ]
        },
        {
          "metadata": {
            "tags": null
          },
          "name": "stderr",
          "output_type": "stream",
          "text": [
            "\r 22%|██▏       | 44/200 [05:15<18:40,  7.18s/it]"
          ]
        },
        {
          "metadata": {
            "tags": null
          },
          "name": "stdout",
          "output_type": "stream",
          "text": [
            "Epoch 44/200 \t loss=184.9886 \t time=7.16s\n"
          ]
        },
        {
          "metadata": {
            "tags": null
          },
          "name": "stderr",
          "output_type": "stream",
          "text": [
            "\r 22%|██▎       | 45/200 [05:23<18:33,  7.18s/it]"
          ]
        },
        {
          "metadata": {
            "tags": null
          },
          "name": "stdout",
          "output_type": "stream",
          "text": [
            "Epoch 45/200 \t loss=184.6307 \t time=7.19s\n"
          ]
        },
        {
          "metadata": {
            "tags": null
          },
          "name": "stderr",
          "output_type": "stream",
          "text": [
            "\r 23%|██▎       | 46/200 [05:30<18:24,  7.17s/it]"
          ]
        },
        {
          "metadata": {
            "tags": null
          },
          "name": "stdout",
          "output_type": "stream",
          "text": [
            "Epoch 46/200 \t loss=173.1881 \t time=7.14s\n"
          ]
        },
        {
          "metadata": {
            "tags": null
          },
          "name": "stderr",
          "output_type": "stream",
          "text": [
            "\r 24%|██▎       | 47/200 [05:37<18:15,  7.16s/it]"
          ]
        },
        {
          "metadata": {
            "tags": null
          },
          "name": "stdout",
          "output_type": "stream",
          "text": [
            "Epoch 47/200 \t loss=172.5271 \t time=7.13s\n"
          ]
        },
        {
          "metadata": {
            "tags": null
          },
          "name": "stderr",
          "output_type": "stream",
          "text": [
            "\r 24%|██▍       | 48/200 [05:44<18:05,  7.14s/it]"
          ]
        },
        {
          "metadata": {
            "tags": null
          },
          "name": "stdout",
          "output_type": "stream",
          "text": [
            "Epoch 48/200 \t loss=158.9534 \t time=7.09s\n"
          ]
        },
        {
          "metadata": {
            "tags": null
          },
          "name": "stderr",
          "output_type": "stream",
          "text": [
            "\r 24%|██▍       | 49/200 [05:51<17:56,  7.13s/it]"
          ]
        },
        {
          "metadata": {
            "tags": null
          },
          "name": "stdout",
          "output_type": "stream",
          "text": [
            "Epoch 49/200 \t loss=151.0610 \t time=7.11s\n"
          ]
        },
        {
          "metadata": {
            "tags": null
          },
          "name": "stderr",
          "output_type": "stream",
          "text": [
            "\r 25%|██▌       | 50/200 [05:58<17:49,  7.13s/it]"
          ]
        },
        {
          "metadata": {
            "tags": null
          },
          "name": "stdout",
          "output_type": "stream",
          "text": [
            "Epoch 50/200 \t loss=151.2293 \t time=7.13s\n"
          ]
        },
        {
          "metadata": {
            "tags": null
          },
          "name": "stderr",
          "output_type": "stream",
          "text": [
            "\r 26%|██▌       | 51/200 [06:05<17:39,  7.11s/it]"
          ]
        },
        {
          "metadata": {
            "tags": null
          },
          "name": "stdout",
          "output_type": "stream",
          "text": [
            "Epoch 51/200 \t loss=148.6174 \t time=7.06s\n"
          ]
        },
        {
          "metadata": {
            "tags": null
          },
          "name": "stderr",
          "output_type": "stream",
          "text": [
            "\r 26%|██▌       | 52/200 [06:12<17:36,  7.14s/it]"
          ]
        },
        {
          "metadata": {
            "tags": null
          },
          "name": "stdout",
          "output_type": "stream",
          "text": [
            "Epoch 52/200 \t loss=141.8658 \t time=7.20s\n"
          ]
        },
        {
          "metadata": {
            "tags": null
          },
          "name": "stderr",
          "output_type": "stream",
          "text": [
            "\r 26%|██▋       | 53/200 [06:20<17:29,  7.14s/it]"
          ]
        },
        {
          "metadata": {
            "tags": null
          },
          "name": "stdout",
          "output_type": "stream",
          "text": [
            "Epoch 53/200 \t loss=138.8210 \t time=7.15s\n"
          ]
        },
        {
          "metadata": {
            "tags": null
          },
          "name": "stderr",
          "output_type": "stream",
          "text": [
            "\r 27%|██▋       | 54/200 [06:27<17:30,  7.20s/it]"
          ]
        },
        {
          "metadata": {
            "tags": null
          },
          "name": "stdout",
          "output_type": "stream",
          "text": [
            "Epoch 54/200 \t loss=132.3430 \t time=7.32s\n"
          ]
        },
        {
          "metadata": {
            "tags": null
          },
          "name": "stderr",
          "output_type": "stream",
          "text": [
            "\r 28%|██▊       | 55/200 [06:34<17:21,  7.18s/it]"
          ]
        },
        {
          "metadata": {
            "tags": null
          },
          "name": "stdout",
          "output_type": "stream",
          "text": [
            "Epoch 55/200 \t loss=138.2181 \t time=7.15s\n"
          ]
        },
        {
          "metadata": {
            "tags": null
          },
          "name": "stderr",
          "output_type": "stream",
          "text": [
            "\r 28%|██▊       | 56/200 [06:41<17:11,  7.17s/it]"
          ]
        },
        {
          "metadata": {
            "tags": null
          },
          "name": "stdout",
          "output_type": "stream",
          "text": [
            "Epoch 56/200 \t loss=139.8751 \t time=7.12s\n"
          ]
        },
        {
          "metadata": {
            "tags": null
          },
          "name": "stderr",
          "output_type": "stream",
          "text": [
            "\r 28%|██▊       | 57/200 [06:48<17:04,  7.16s/it]"
          ]
        },
        {
          "metadata": {
            "tags": null
          },
          "name": "stdout",
          "output_type": "stream",
          "text": [
            "Epoch 57/200 \t loss=126.4579 \t time=7.15s\n"
          ]
        },
        {
          "metadata": {
            "tags": null
          },
          "name": "stderr",
          "output_type": "stream",
          "text": [
            "\r 29%|██▉       | 58/200 [06:56<16:57,  7.17s/it]"
          ]
        },
        {
          "metadata": {
            "tags": null
          },
          "name": "stdout",
          "output_type": "stream",
          "text": [
            "Epoch 58/200 \t loss=124.1265 \t time=7.18s\n"
          ]
        },
        {
          "metadata": {
            "tags": null
          },
          "name": "stderr",
          "output_type": "stream",
          "text": [
            "\r 30%|██▉       | 59/200 [07:03<16:49,  7.16s/it]"
          ]
        },
        {
          "metadata": {
            "tags": null
          },
          "name": "stdout",
          "output_type": "stream",
          "text": [
            "Epoch 59/200 \t loss=143.4256 \t time=7.14s\n"
          ]
        },
        {
          "metadata": {
            "tags": null
          },
          "name": "stderr",
          "output_type": "stream",
          "text": [
            "\r 30%|███       | 60/200 [07:10<16:41,  7.15s/it]"
          ]
        },
        {
          "metadata": {
            "tags": null
          },
          "name": "stdout",
          "output_type": "stream",
          "text": [
            "Epoch 60/200 \t loss=166.1018 \t time=7.14s\n"
          ]
        },
        {
          "metadata": {
            "tags": null
          },
          "name": "stderr",
          "output_type": "stream",
          "text": [
            "\r 30%|███       | 61/200 [07:17<16:31,  7.13s/it]"
          ]
        },
        {
          "metadata": {
            "tags": null
          },
          "name": "stdout",
          "output_type": "stream",
          "text": [
            "Epoch 61/200 \t loss=143.5700 \t time=7.09s\n"
          ]
        },
        {
          "metadata": {
            "tags": null
          },
          "name": "stderr",
          "output_type": "stream",
          "text": [
            "\r 31%|███       | 62/200 [07:24<16:22,  7.12s/it]"
          ]
        },
        {
          "metadata": {
            "tags": null
          },
          "name": "stdout",
          "output_type": "stream",
          "text": [
            "Epoch 62/200 \t loss=557.9609 \t time=7.10s\n"
          ]
        },
        {
          "metadata": {
            "tags": null
          },
          "name": "stderr",
          "output_type": "stream",
          "text": [
            "\r 32%|███▏      | 63/200 [07:31<16:14,  7.11s/it]"
          ]
        },
        {
          "metadata": {
            "tags": null
          },
          "name": "stdout",
          "output_type": "stream",
          "text": [
            "Epoch 63/200 \t loss=281.2070 \t time=7.09s\n"
          ]
        },
        {
          "metadata": {
            "tags": null
          },
          "name": "stderr",
          "output_type": "stream",
          "text": [
            "\r 32%|███▏      | 64/200 [07:38<16:09,  7.13s/it]"
          ]
        },
        {
          "metadata": {
            "tags": null
          },
          "name": "stdout",
          "output_type": "stream",
          "text": [
            "Epoch 64/200 \t loss=238.7848 \t time=7.16s\n"
          ]
        },
        {
          "output_type": "stream",
          "name": "stderr",
          "text": [
            "\r 32%|███▎      | 65/200 [07:45<16:04,  7.15s/it]"
          ]
        },
        {
          "output_type": "stream",
          "name": "stdout",
          "text": [
            "Epoch 65/200 \t loss=219.3206 \t time=7.19s\n"
          ]
        },
        {
          "output_type": "stream",
          "name": "stderr",
          "text": [
            "\r 33%|███▎      | 66/200 [07:53<15:58,  7.15s/it]"
          ]
        },
        {
          "output_type": "stream",
          "name": "stdout",
          "text": [
            "Epoch 66/200 \t loss=211.1025 \t time=7.17s\n"
          ]
        },
        {
          "output_type": "stream",
          "name": "stderr",
          "text": [
            "\r 34%|███▎      | 67/200 [08:00<15:55,  7.18s/it]"
          ]
        },
        {
          "output_type": "stream",
          "name": "stdout",
          "text": [
            "Epoch 67/200 \t loss=180.7540 \t time=7.25s\n"
          ]
        },
        {
          "output_type": "stream",
          "name": "stderr",
          "text": [
            "\r 34%|███▍      | 68/200 [08:07<15:44,  7.15s/it]"
          ]
        },
        {
          "output_type": "stream",
          "name": "stdout",
          "text": [
            "Epoch 68/200 \t loss=166.8691 \t time=7.08s\n"
          ]
        },
        {
          "output_type": "stream",
          "name": "stderr",
          "text": [
            "\r 34%|███▍      | 69/200 [08:14<15:36,  7.15s/it]"
          ]
        },
        {
          "output_type": "stream",
          "name": "stdout",
          "text": [
            "Epoch 69/200 \t loss=149.3724 \t time=7.14s\n"
          ]
        },
        {
          "output_type": "stream",
          "name": "stderr",
          "text": [
            "\r 35%|███▌      | 70/200 [08:21<15:27,  7.14s/it]"
          ]
        },
        {
          "output_type": "stream",
          "name": "stdout",
          "text": [
            "Epoch 70/200 \t loss=138.6863 \t time=7.11s\n"
          ]
        },
        {
          "output_type": "stream",
          "name": "stderr",
          "text": [
            "\r 36%|███▌      | 71/200 [08:28<15:19,  7.13s/it]"
          ]
        },
        {
          "output_type": "stream",
          "name": "stdout",
          "text": [
            "Epoch 71/200 \t loss=121.8131 \t time=7.11s\n"
          ]
        },
        {
          "output_type": "stream",
          "name": "stderr",
          "text": [
            "\r 36%|███▌      | 72/200 [08:35<15:13,  7.14s/it]"
          ]
        },
        {
          "output_type": "stream",
          "name": "stdout",
          "text": [
            "Epoch 72/200 \t loss=130.1540 \t time=7.16s\n"
          ]
        },
        {
          "output_type": "stream",
          "name": "stderr",
          "text": [
            "\r 36%|███▋      | 73/200 [08:43<15:05,  7.13s/it]"
          ]
        },
        {
          "output_type": "stream",
          "name": "stdout",
          "text": [
            "Epoch 73/200 \t loss=120.4516 \t time=7.10s\n"
          ]
        },
        {
          "output_type": "stream",
          "name": "stderr",
          "text": [
            "\r 37%|███▋      | 74/200 [08:50<14:57,  7.12s/it]"
          ]
        },
        {
          "output_type": "stream",
          "name": "stdout",
          "text": [
            "Epoch 74/200 \t loss=123.0368 \t time=7.12s\n"
          ]
        },
        {
          "output_type": "stream",
          "name": "stderr",
          "text": [
            "\r 38%|███▊      | 75/200 [08:57<14:49,  7.12s/it]"
          ]
        },
        {
          "output_type": "stream",
          "name": "stdout",
          "text": [
            "Epoch 75/200 \t loss=121.8233 \t time=7.10s\n"
          ]
        },
        {
          "output_type": "stream",
          "name": "stderr",
          "text": [
            "\r 38%|███▊      | 76/200 [09:04<14:41,  7.11s/it]"
          ]
        },
        {
          "output_type": "stream",
          "name": "stdout",
          "text": [
            "Epoch 76/200 \t loss=106.2839 \t time=7.09s\n"
          ]
        },
        {
          "output_type": "stream",
          "name": "stderr",
          "text": [
            "\r 38%|███▊      | 77/200 [09:11<14:33,  7.10s/it]"
          ]
        },
        {
          "output_type": "stream",
          "name": "stdout",
          "text": [
            "Epoch 77/200 \t loss=228.8831 \t time=7.09s\n"
          ]
        },
        {
          "output_type": "stream",
          "name": "stderr",
          "text": [
            "\r 39%|███▉      | 78/200 [09:18<14:30,  7.14s/it]"
          ]
        },
        {
          "output_type": "stream",
          "name": "stdout",
          "text": [
            "Epoch 78/200 \t loss=246.4216 \t time=7.22s\n"
          ]
        },
        {
          "output_type": "stream",
          "name": "stderr",
          "text": [
            "\r 40%|███▉      | 79/200 [09:25<14:24,  7.15s/it]"
          ]
        },
        {
          "output_type": "stream",
          "name": "stdout",
          "text": [
            "Epoch 79/200 \t loss=218.9419 \t time=7.17s\n"
          ]
        },
        {
          "output_type": "stream",
          "name": "stderr",
          "text": [
            "\r 40%|████      | 80/200 [09:32<14:15,  7.13s/it]"
          ]
        },
        {
          "output_type": "stream",
          "name": "stdout",
          "text": [
            "Epoch 80/200 \t loss=221.3310 \t time=7.08s\n"
          ]
        },
        {
          "output_type": "stream",
          "name": "stderr",
          "text": [
            "\r 40%|████      | 81/200 [09:40<14:08,  7.13s/it]"
          ]
        },
        {
          "output_type": "stream",
          "name": "stdout",
          "text": [
            "Epoch 81/200 \t loss=211.7936 \t time=7.15s\n"
          ]
        },
        {
          "output_type": "stream",
          "name": "stderr",
          "text": [
            "\r 41%|████      | 82/200 [09:47<14:05,  7.17s/it]"
          ]
        },
        {
          "output_type": "stream",
          "name": "stdout",
          "text": [
            "Epoch 82/200 \t loss=197.1514 \t time=7.24s\n"
          ]
        },
        {
          "output_type": "stream",
          "name": "stderr",
          "text": [
            "\r 42%|████▏     | 83/200 [09:54<14:01,  7.19s/it]"
          ]
        },
        {
          "output_type": "stream",
          "name": "stdout",
          "text": [
            "Epoch 83/200 \t loss=184.8744 \t time=7.26s\n"
          ]
        },
        {
          "output_type": "stream",
          "name": "stderr",
          "text": [
            "\r 42%|████▏     | 84/200 [10:01<13:53,  7.18s/it]"
          ]
        },
        {
          "output_type": "stream",
          "name": "stdout",
          "text": [
            "Epoch 84/200 \t loss=168.6027 \t time=7.16s\n"
          ]
        },
        {
          "output_type": "stream",
          "name": "stderr",
          "text": [
            "\r 42%|████▎     | 85/200 [10:08<13:44,  7.17s/it]"
          ]
        },
        {
          "output_type": "stream",
          "name": "stdout",
          "text": [
            "Epoch 85/200 \t loss=175.7647 \t time=7.14s\n"
          ]
        },
        {
          "output_type": "stream",
          "name": "stderr",
          "text": [
            "\r 43%|████▎     | 86/200 [10:16<13:37,  7.17s/it]"
          ]
        },
        {
          "output_type": "stream",
          "name": "stdout",
          "text": [
            "Epoch 86/200 \t loss=157.2261 \t time=7.15s\n"
          ]
        },
        {
          "output_type": "stream",
          "name": "stderr",
          "text": [
            "\r 44%|████▎     | 87/200 [10:23<13:31,  7.19s/it]"
          ]
        },
        {
          "output_type": "stream",
          "name": "stdout",
          "text": [
            "Epoch 87/200 \t loss=150.0709 \t time=7.23s\n"
          ]
        },
        {
          "output_type": "stream",
          "name": "stderr",
          "text": [
            "\r 44%|████▍     | 88/200 [10:30<13:23,  7.18s/it]"
          ]
        },
        {
          "output_type": "stream",
          "name": "stdout",
          "text": [
            "Epoch 88/200 \t loss=150.8702 \t time=7.15s\n"
          ]
        },
        {
          "output_type": "stream",
          "name": "stderr",
          "text": [
            "\r 44%|████▍     | 89/200 [10:37<13:17,  7.19s/it]"
          ]
        },
        {
          "output_type": "stream",
          "name": "stdout",
          "text": [
            "Epoch 89/200 \t loss=148.3960 \t time=7.21s\n"
          ]
        },
        {
          "output_type": "stream",
          "name": "stderr",
          "text": [
            "\r 45%|████▌     | 90/200 [10:44<13:09,  7.17s/it]"
          ]
        },
        {
          "output_type": "stream",
          "name": "stdout",
          "text": [
            "Epoch 90/200 \t loss=132.8445 \t time=7.15s\n"
          ]
        },
        {
          "output_type": "stream",
          "name": "stderr",
          "text": [
            "\r 46%|████▌     | 91/200 [10:51<13:02,  7.18s/it]"
          ]
        },
        {
          "output_type": "stream",
          "name": "stdout",
          "text": [
            "Epoch 91/200 \t loss=149.6250 \t time=7.18s\n"
          ]
        },
        {
          "output_type": "stream",
          "name": "stderr",
          "text": [
            "\r 46%|████▌     | 92/200 [10:59<12:55,  7.18s/it]"
          ]
        },
        {
          "output_type": "stream",
          "name": "stdout",
          "text": [
            "Epoch 92/200 \t loss=130.9687 \t time=7.19s\n"
          ]
        },
        {
          "output_type": "stream",
          "name": "stderr",
          "text": [
            "\r 46%|████▋     | 93/200 [11:06<12:47,  7.17s/it]"
          ]
        },
        {
          "output_type": "stream",
          "name": "stdout",
          "text": [
            "Epoch 93/200 \t loss=136.1781 \t time=7.15s\n"
          ]
        },
        {
          "output_type": "stream",
          "name": "stderr",
          "text": [
            "\r 47%|████▋     | 94/200 [11:13<12:39,  7.17s/it]"
          ]
        },
        {
          "output_type": "stream",
          "name": "stdout",
          "text": [
            "Epoch 94/200 \t loss=170.4890 \t time=7.15s\n"
          ]
        },
        {
          "output_type": "stream",
          "name": "stderr",
          "text": [
            "\r 48%|████▊     | 95/200 [11:20<12:33,  7.17s/it]"
          ]
        },
        {
          "output_type": "stream",
          "name": "stdout",
          "text": [
            "Epoch 95/200 \t loss=156.1908 \t time=7.18s\n"
          ]
        },
        {
          "output_type": "stream",
          "name": "stderr",
          "text": [
            "\r 48%|████▊     | 96/200 [11:27<12:26,  7.18s/it]"
          ]
        },
        {
          "output_type": "stream",
          "name": "stdout",
          "text": [
            "Epoch 96/200 \t loss=139.2316 \t time=7.19s\n"
          ]
        },
        {
          "output_type": "stream",
          "name": "stderr",
          "text": [
            "\r 48%|████▊     | 97/200 [11:35<12:22,  7.21s/it]"
          ]
        },
        {
          "output_type": "stream",
          "name": "stdout",
          "text": [
            "Epoch 97/200 \t loss=154.0854 \t time=7.27s\n"
          ]
        },
        {
          "output_type": "stream",
          "name": "stderr",
          "text": [
            "\r 49%|████▉     | 98/200 [11:42<12:16,  7.22s/it]"
          ]
        },
        {
          "output_type": "stream",
          "name": "stdout",
          "text": [
            "Epoch 98/200 \t loss=213.5574 \t time=7.24s\n"
          ]
        },
        {
          "output_type": "stream",
          "name": "stderr",
          "text": [
            "\r 50%|████▉     | 99/200 [11:49<12:06,  7.19s/it]"
          ]
        },
        {
          "output_type": "stream",
          "name": "stdout",
          "text": [
            "Epoch 99/200 \t loss=145.5573 \t time=7.14s\n"
          ]
        },
        {
          "output_type": "stream",
          "name": "stderr",
          "text": [
            "\r 50%|█████     | 100/200 [11:56<11:59,  7.19s/it]"
          ]
        },
        {
          "output_type": "stream",
          "name": "stdout",
          "text": [
            "Epoch 100/200 \t loss=136.9449 \t time=7.19s\n"
          ]
        },
        {
          "output_type": "stream",
          "name": "stderr",
          "text": [
            "\r 50%|█████     | 101/200 [12:03<11:49,  7.17s/it]"
          ]
        },
        {
          "output_type": "stream",
          "name": "stdout",
          "text": [
            "Epoch 101/200 \t loss=124.6081 \t time=7.11s\n"
          ]
        },
        {
          "output_type": "stream",
          "name": "stderr",
          "text": [
            "\r 51%|█████     | 102/200 [12:10<11:41,  7.16s/it]"
          ]
        },
        {
          "output_type": "stream",
          "name": "stdout",
          "text": [
            "Epoch 102/200 \t loss=119.1928 \t time=7.12s\n"
          ]
        },
        {
          "output_type": "stream",
          "name": "stderr",
          "text": [
            "\r 52%|█████▏    | 103/200 [12:18<11:36,  7.18s/it]"
          ]
        },
        {
          "output_type": "stream",
          "name": "stdout",
          "text": [
            "Epoch 103/200 \t loss=106.7904 \t time=7.23s\n"
          ]
        },
        {
          "output_type": "stream",
          "name": "stderr",
          "text": [
            "\r 52%|█████▏    | 104/200 [12:25<11:30,  7.19s/it]"
          ]
        },
        {
          "output_type": "stream",
          "name": "stdout",
          "text": [
            "Epoch 104/200 \t loss=98.2105 \t time=7.21s\n"
          ]
        },
        {
          "output_type": "stream",
          "name": "stderr",
          "text": [
            "\r 52%|█████▎    | 105/200 [12:32<11:21,  7.18s/it]"
          ]
        },
        {
          "output_type": "stream",
          "name": "stdout",
          "text": [
            "Epoch 105/200 \t loss=102.7377 \t time=7.15s\n"
          ]
        },
        {
          "output_type": "stream",
          "name": "stderr",
          "text": [
            "\r 53%|█████▎    | 106/200 [12:39<11:14,  7.17s/it]"
          ]
        },
        {
          "output_type": "stream",
          "name": "stdout",
          "text": [
            "Epoch 106/200 \t loss=120.4432 \t time=7.15s\n"
          ]
        },
        {
          "output_type": "stream",
          "name": "stderr",
          "text": [
            "\r 54%|█████▎    | 107/200 [12:46<11:06,  7.17s/it]"
          ]
        },
        {
          "output_type": "stream",
          "name": "stdout",
          "text": [
            "Epoch 107/200 \t loss=248.0118 \t time=7.15s\n"
          ]
        },
        {
          "output_type": "stream",
          "name": "stderr",
          "text": [
            "\r 54%|█████▍    | 108/200 [12:53<10:57,  7.15s/it]"
          ]
        },
        {
          "output_type": "stream",
          "name": "stdout",
          "text": [
            "Epoch 108/200 \t loss=179.4551 \t time=7.11s\n"
          ]
        },
        {
          "output_type": "stream",
          "name": "stderr",
          "text": [
            "\r 55%|█████▍    | 109/200 [13:01<10:50,  7.15s/it]"
          ]
        },
        {
          "output_type": "stream",
          "name": "stdout",
          "text": [
            "Epoch 109/200 \t loss=154.2008 \t time=7.14s\n"
          ]
        },
        {
          "output_type": "stream",
          "name": "stderr",
          "text": [
            "\r 55%|█████▌    | 110/200 [13:08<10:43,  7.15s/it]"
          ]
        },
        {
          "output_type": "stream",
          "name": "stdout",
          "text": [
            "Epoch 110/200 \t loss=128.3726 \t time=7.14s\n"
          ]
        },
        {
          "output_type": "stream",
          "name": "stderr",
          "text": [
            "\r 56%|█████▌    | 111/200 [13:15<10:34,  7.13s/it]"
          ]
        },
        {
          "output_type": "stream",
          "name": "stdout",
          "text": [
            "Epoch 111/200 \t loss=144.2582 \t time=7.10s\n"
          ]
        },
        {
          "output_type": "stream",
          "name": "stderr",
          "text": [
            "\r 56%|█████▌    | 112/200 [13:22<10:28,  7.14s/it]"
          ]
        },
        {
          "output_type": "stream",
          "name": "stdout",
          "text": [
            "Epoch 112/200 \t loss=133.2653 \t time=7.14s\n"
          ]
        },
        {
          "output_type": "stream",
          "name": "stderr",
          "text": [
            "\r 56%|█████▋    | 113/200 [13:29<10:20,  7.13s/it]"
          ]
        },
        {
          "output_type": "stream",
          "name": "stdout",
          "text": [
            "Epoch 113/200 \t loss=106.0442 \t time=7.12s\n"
          ]
        },
        {
          "output_type": "stream",
          "name": "stderr",
          "text": [
            "\r 57%|█████▋    | 114/200 [13:36<10:14,  7.15s/it]"
          ]
        },
        {
          "output_type": "stream",
          "name": "stdout",
          "text": [
            "Epoch 114/200 \t loss=181.6174 \t time=7.19s\n"
          ]
        },
        {
          "output_type": "stream",
          "name": "stderr",
          "text": [
            "\r 57%|█████▊    | 115/200 [13:43<10:08,  7.16s/it]"
          ]
        },
        {
          "output_type": "stream",
          "name": "stdout",
          "text": [
            "Epoch 115/200 \t loss=175.5373 \t time=7.19s\n"
          ]
        },
        {
          "output_type": "stream",
          "name": "stderr",
          "text": [
            "\r 58%|█████▊    | 116/200 [13:51<10:00,  7.15s/it]"
          ]
        },
        {
          "output_type": "stream",
          "name": "stdout",
          "text": [
            "Epoch 116/200 \t loss=177.8860 \t time=7.13s\n"
          ]
        },
        {
          "output_type": "stream",
          "name": "stderr",
          "text": [
            "\r 58%|█████▊    | 117/200 [13:58<09:52,  7.14s/it]"
          ]
        },
        {
          "output_type": "stream",
          "name": "stdout",
          "text": [
            "Epoch 117/200 \t loss=189.4471 \t time=7.10s\n"
          ]
        },
        {
          "output_type": "stream",
          "name": "stderr",
          "text": [
            "\r 59%|█████▉    | 118/200 [14:05<09:45,  7.14s/it]"
          ]
        },
        {
          "output_type": "stream",
          "name": "stdout",
          "text": [
            "Epoch 118/200 \t loss=162.0616 \t time=7.14s\n"
          ]
        },
        {
          "output_type": "stream",
          "name": "stderr",
          "text": [
            "\r 60%|█████▉    | 119/200 [14:12<09:38,  7.15s/it]"
          ]
        },
        {
          "output_type": "stream",
          "name": "stdout",
          "text": [
            "Epoch 119/200 \t loss=153.8319 \t time=7.17s\n"
          ]
        },
        {
          "output_type": "stream",
          "name": "stderr",
          "text": [
            "\r 60%|██████    | 120/200 [14:19<09:32,  7.15s/it]"
          ]
        },
        {
          "output_type": "stream",
          "name": "stdout",
          "text": [
            "Epoch 120/200 \t loss=152.5176 \t time=7.16s\n"
          ]
        },
        {
          "output_type": "stream",
          "name": "stderr",
          "text": [
            "\r 60%|██████    | 121/200 [14:26<09:25,  7.15s/it]"
          ]
        },
        {
          "output_type": "stream",
          "name": "stdout",
          "text": [
            "Epoch 121/200 \t loss=149.6195 \t time=7.16s\n"
          ]
        },
        {
          "output_type": "stream",
          "name": "stderr",
          "text": [
            "\r 61%|██████    | 122/200 [14:33<09:17,  7.14s/it]"
          ]
        },
        {
          "output_type": "stream",
          "name": "stdout",
          "text": [
            "Epoch 122/200 \t loss=151.8242 \t time=7.11s\n"
          ]
        },
        {
          "output_type": "stream",
          "name": "stderr",
          "text": [
            "\r 62%|██████▏   | 123/200 [14:41<09:09,  7.14s/it]"
          ]
        },
        {
          "output_type": "stream",
          "name": "stdout",
          "text": [
            "Epoch 123/200 \t loss=149.5569 \t time=7.14s\n"
          ]
        },
        {
          "output_type": "stream",
          "name": "stderr",
          "text": [
            "\r 62%|██████▏   | 124/200 [14:48<09:03,  7.16s/it]"
          ]
        },
        {
          "output_type": "stream",
          "name": "stdout",
          "text": [
            "Epoch 124/200 \t loss=144.4989 \t time=7.19s\n"
          ]
        },
        {
          "output_type": "stream",
          "name": "stderr",
          "text": [
            "\r 62%|██████▎   | 125/200 [14:55<08:56,  7.16s/it]"
          ]
        },
        {
          "output_type": "stream",
          "name": "stdout",
          "text": [
            "Epoch 125/200 \t loss=140.3401 \t time=7.16s\n"
          ]
        },
        {
          "output_type": "stream",
          "name": "stderr",
          "text": [
            "\r 63%|██████▎   | 126/200 [15:02<08:50,  7.17s/it]"
          ]
        },
        {
          "output_type": "stream",
          "name": "stdout",
          "text": [
            "Epoch 126/200 \t loss=136.5192 \t time=7.18s\n"
          ]
        },
        {
          "output_type": "stream",
          "name": "stderr",
          "text": [
            "\r 64%|██████▎   | 127/200 [15:09<08:42,  7.16s/it]"
          ]
        },
        {
          "output_type": "stream",
          "name": "stdout",
          "text": [
            "Epoch 127/200 \t loss=131.0091 \t time=7.15s\n"
          ]
        },
        {
          "output_type": "stream",
          "name": "stderr",
          "text": [
            "\r 64%|██████▍   | 128/200 [15:16<08:35,  7.16s/it]"
          ]
        },
        {
          "output_type": "stream",
          "name": "stdout",
          "text": [
            "Epoch 128/200 \t loss=123.8807 \t time=7.16s\n"
          ]
        },
        {
          "output_type": "stream",
          "name": "stderr",
          "text": [
            "\r 64%|██████▍   | 129/200 [15:24<08:32,  7.22s/it]"
          ]
        },
        {
          "output_type": "stream",
          "name": "stdout",
          "text": [
            "Epoch 129/200 \t loss=114.8199 \t time=7.35s\n"
          ]
        },
        {
          "output_type": "stream",
          "name": "stderr",
          "text": [
            "\r 65%|██████▌   | 130/200 [15:31<08:24,  7.21s/it]"
          ]
        },
        {
          "output_type": "stream",
          "name": "stdout",
          "text": [
            "Epoch 130/200 \t loss=120.5318 \t time=7.18s\n"
          ]
        },
        {
          "output_type": "stream",
          "name": "stderr",
          "text": [
            "\r 66%|██████▌   | 131/200 [15:38<08:16,  7.19s/it]"
          ]
        },
        {
          "output_type": "stream",
          "name": "stdout",
          "text": [
            "Epoch 131/200 \t loss=119.1887 \t time=7.17s\n"
          ]
        },
        {
          "output_type": "stream",
          "name": "stderr",
          "text": [
            "\r 66%|██████▌   | 132/200 [15:45<08:08,  7.19s/it]"
          ]
        },
        {
          "output_type": "stream",
          "name": "stdout",
          "text": [
            "Epoch 132/200 \t loss=123.8386 \t time=7.17s\n"
          ]
        },
        {
          "output_type": "stream",
          "name": "stderr",
          "text": [
            "\r 66%|██████▋   | 133/200 [15:52<08:00,  7.17s/it]"
          ]
        },
        {
          "output_type": "stream",
          "name": "stdout",
          "text": [
            "Epoch 133/200 \t loss=141.6994 \t time=7.14s\n"
          ]
        },
        {
          "output_type": "stream",
          "name": "stderr",
          "text": [
            "\r 67%|██████▋   | 134/200 [16:00<07:52,  7.16s/it]"
          ]
        },
        {
          "output_type": "stream",
          "name": "stdout",
          "text": [
            "Epoch 134/200 \t loss=138.3343 \t time=7.13s\n"
          ]
        },
        {
          "output_type": "stream",
          "name": "stderr",
          "text": [
            "\r 68%|██████▊   | 135/200 [16:07<07:45,  7.16s/it]"
          ]
        },
        {
          "output_type": "stream",
          "name": "stdout",
          "text": [
            "Epoch 135/200 \t loss=131.5571 \t time=7.16s\n"
          ]
        },
        {
          "output_type": "stream",
          "name": "stderr",
          "text": [
            "\r 68%|██████▊   | 136/200 [16:14<07:36,  7.14s/it]"
          ]
        },
        {
          "output_type": "stream",
          "name": "stdout",
          "text": [
            "Epoch 136/200 \t loss=124.0716 \t time=7.08s\n"
          ]
        },
        {
          "output_type": "stream",
          "name": "stderr",
          "text": [
            "\r 68%|██████▊   | 137/200 [16:21<07:28,  7.12s/it]"
          ]
        },
        {
          "output_type": "stream",
          "name": "stdout",
          "text": [
            "Epoch 137/200 \t loss=118.7801 \t time=7.07s\n"
          ]
        },
        {
          "output_type": "stream",
          "name": "stderr",
          "text": [
            "\r 69%|██████▉   | 138/200 [16:28<07:21,  7.12s/it]"
          ]
        },
        {
          "output_type": "stream",
          "name": "stdout",
          "text": [
            "Epoch 138/200 \t loss=110.8397 \t time=7.11s\n"
          ]
        },
        {
          "output_type": "stream",
          "name": "stderr",
          "text": [
            "\r 70%|██████▉   | 139/200 [16:35<07:13,  7.11s/it]"
          ]
        },
        {
          "output_type": "stream",
          "name": "stdout",
          "text": [
            "Epoch 139/200 \t loss=119.6720 \t time=7.11s\n"
          ]
        },
        {
          "output_type": "stream",
          "name": "stderr",
          "text": [
            "\r 70%|███████   | 140/200 [16:42<07:07,  7.13s/it]"
          ]
        },
        {
          "output_type": "stream",
          "name": "stdout",
          "text": [
            "Epoch 140/200 \t loss=108.5057 \t time=7.17s\n"
          ]
        },
        {
          "output_type": "stream",
          "name": "stderr",
          "text": [
            "\r 70%|███████   | 141/200 [16:49<06:59,  7.11s/it]"
          ]
        },
        {
          "output_type": "stream",
          "name": "stdout",
          "text": [
            "Epoch 141/200 \t loss=106.2805 \t time=7.07s\n"
          ]
        },
        {
          "output_type": "stream",
          "name": "stderr",
          "text": [
            "\r 71%|███████   | 142/200 [16:56<06:52,  7.11s/it]"
          ]
        },
        {
          "output_type": "stream",
          "name": "stdout",
          "text": [
            "Epoch 142/200 \t loss=108.5578 \t time=7.10s\n"
          ]
        },
        {
          "output_type": "stream",
          "name": "stderr",
          "text": [
            "\r 72%|███████▏  | 143/200 [17:04<06:44,  7.10s/it]"
          ]
        },
        {
          "output_type": "stream",
          "name": "stdout",
          "text": [
            "Epoch 143/200 \t loss=132.1736 \t time=7.06s\n"
          ]
        },
        {
          "output_type": "stream",
          "name": "stderr",
          "text": [
            "\r 72%|███████▏  | 144/200 [17:11<06:36,  7.08s/it]"
          ]
        },
        {
          "output_type": "stream",
          "name": "stdout",
          "text": [
            "Epoch 144/200 \t loss=144.9769 \t time=7.05s\n"
          ]
        },
        {
          "output_type": "stream",
          "name": "stderr",
          "text": [
            "\r 72%|███████▎  | 145/200 [17:18<06:30,  7.09s/it]"
          ]
        },
        {
          "output_type": "stream",
          "name": "stdout",
          "text": [
            "Epoch 145/200 \t loss=128.8198 \t time=7.11s\n"
          ]
        },
        {
          "output_type": "stream",
          "name": "stderr",
          "text": [
            "\r 73%|███████▎  | 146/200 [17:25<06:25,  7.14s/it]"
          ]
        },
        {
          "output_type": "stream",
          "name": "stdout",
          "text": [
            "Epoch 146/200 \t loss=117.1343 \t time=7.25s\n"
          ]
        },
        {
          "output_type": "stream",
          "name": "stderr",
          "text": [
            "\r 74%|███████▎  | 147/200 [17:32<06:19,  7.16s/it]"
          ]
        },
        {
          "output_type": "stream",
          "name": "stdout",
          "text": [
            "Epoch 147/200 \t loss=106.2578 \t time=7.19s\n"
          ]
        },
        {
          "output_type": "stream",
          "name": "stderr",
          "text": [
            "\r 74%|███████▍  | 148/200 [17:39<06:11,  7.14s/it]"
          ]
        },
        {
          "output_type": "stream",
          "name": "stdout",
          "text": [
            "Epoch 148/200 \t loss=141.9700 \t time=7.09s\n"
          ]
        },
        {
          "output_type": "stream",
          "name": "stderr",
          "text": [
            "\r 74%|███████▍  | 149/200 [17:46<06:03,  7.12s/it]"
          ]
        },
        {
          "output_type": "stream",
          "name": "stdout",
          "text": [
            "Epoch 149/200 \t loss=110.3833 \t time=7.09s\n"
          ]
        },
        {
          "output_type": "stream",
          "name": "stderr",
          "text": [
            "\r 75%|███████▌  | 150/200 [17:53<05:56,  7.12s/it]"
          ]
        },
        {
          "output_type": "stream",
          "name": "stdout",
          "text": [
            "Epoch 150/200 \t loss=99.1518 \t time=7.12s\n"
          ]
        },
        {
          "output_type": "stream",
          "name": "stderr",
          "text": [
            "\r 76%|███████▌  | 151/200 [18:01<05:49,  7.13s/it]"
          ]
        },
        {
          "output_type": "stream",
          "name": "stdout",
          "text": [
            "Epoch 151/200 \t loss=100.7243 \t time=7.14s\n"
          ]
        },
        {
          "output_type": "stream",
          "name": "stderr",
          "text": [
            "\r 76%|███████▌  | 152/200 [18:08<05:41,  7.12s/it]"
          ]
        },
        {
          "output_type": "stream",
          "name": "stdout",
          "text": [
            "Epoch 152/200 \t loss=97.9858 \t time=7.08s\n"
          ]
        },
        {
          "output_type": "stream",
          "name": "stderr",
          "text": [
            "\r 76%|███████▋  | 153/200 [18:15<05:34,  7.11s/it]"
          ]
        },
        {
          "output_type": "stream",
          "name": "stdout",
          "text": [
            "Epoch 153/200 \t loss=101.1467 \t time=7.11s\n"
          ]
        },
        {
          "output_type": "stream",
          "name": "stderr",
          "text": [
            "\r 77%|███████▋  | 154/200 [18:22<05:27,  7.11s/it]"
          ]
        },
        {
          "output_type": "stream",
          "name": "stdout",
          "text": [
            "Epoch 154/200 \t loss=96.3020 \t time=7.10s\n"
          ]
        },
        {
          "output_type": "stream",
          "name": "stderr",
          "text": [
            "\r 78%|███████▊  | 155/200 [18:29<05:20,  7.12s/it]"
          ]
        },
        {
          "output_type": "stream",
          "name": "stdout",
          "text": [
            "Epoch 155/200 \t loss=87.9853 \t time=7.14s\n"
          ]
        },
        {
          "output_type": "stream",
          "name": "stderr",
          "text": [
            "\r 78%|███████▊  | 156/200 [18:36<05:13,  7.13s/it]"
          ]
        },
        {
          "output_type": "stream",
          "name": "stdout",
          "text": [
            "Epoch 156/200 \t loss=87.9574 \t time=7.16s\n"
          ]
        },
        {
          "output_type": "stream",
          "name": "stderr",
          "text": [
            "\r 78%|███████▊  | 157/200 [18:43<05:06,  7.14s/it]"
          ]
        },
        {
          "output_type": "stream",
          "name": "stdout",
          "text": [
            "Epoch 157/200 \t loss=95.4884 \t time=7.14s\n"
          ]
        },
        {
          "output_type": "stream",
          "name": "stderr",
          "text": [
            "\r 79%|███████▉  | 158/200 [18:50<04:58,  7.12s/it]"
          ]
        },
        {
          "output_type": "stream",
          "name": "stdout",
          "text": [
            "Epoch 158/200 \t loss=90.8198 \t time=7.08s\n"
          ]
        },
        {
          "output_type": "stream",
          "name": "stderr",
          "text": [
            "\r 80%|███████▉  | 159/200 [18:57<04:51,  7.10s/it]"
          ]
        },
        {
          "output_type": "stream",
          "name": "stdout",
          "text": [
            "Epoch 159/200 \t loss=115.6886 \t time=7.07s\n"
          ]
        },
        {
          "output_type": "stream",
          "name": "stderr",
          "text": [
            "\r 80%|████████  | 160/200 [19:05<04:44,  7.10s/it]"
          ]
        },
        {
          "output_type": "stream",
          "name": "stdout",
          "text": [
            "Epoch 160/200 \t loss=105.7975 \t time=7.09s\n"
          ]
        },
        {
          "output_type": "stream",
          "name": "stderr",
          "text": [
            "\r 80%|████████  | 161/200 [19:12<04:37,  7.11s/it]"
          ]
        },
        {
          "output_type": "stream",
          "name": "stdout",
          "text": [
            "Epoch 161/200 \t loss=102.2150 \t time=7.11s\n"
          ]
        },
        {
          "output_type": "stream",
          "name": "stderr",
          "text": [
            "\r 81%|████████  | 162/200 [19:19<04:29,  7.10s/it]"
          ]
        },
        {
          "output_type": "stream",
          "name": "stdout",
          "text": [
            "Epoch 162/200 \t loss=96.4895 \t time=7.10s\n"
          ]
        },
        {
          "output_type": "stream",
          "name": "stderr",
          "text": [
            "\r 82%|████████▏ | 163/200 [19:26<04:22,  7.09s/it]"
          ]
        },
        {
          "output_type": "stream",
          "name": "stdout",
          "text": [
            "Epoch 163/200 \t loss=87.8164 \t time=7.07s\n"
          ]
        },
        {
          "output_type": "stream",
          "name": "stderr",
          "text": [
            "\r 82%|████████▏ | 164/200 [19:33<04:15,  7.09s/it]"
          ]
        },
        {
          "output_type": "stream",
          "name": "stdout",
          "text": [
            "Epoch 164/200 \t loss=82.6138 \t time=7.08s\n"
          ]
        },
        {
          "output_type": "stream",
          "name": "stderr",
          "text": [
            "\r 82%|████████▎ | 165/200 [19:40<04:07,  7.07s/it]"
          ]
        },
        {
          "output_type": "stream",
          "name": "stdout",
          "text": [
            "Epoch 165/200 \t loss=82.9955 \t time=7.03s\n"
          ]
        },
        {
          "output_type": "stream",
          "name": "stderr",
          "text": [
            "\r 83%|████████▎ | 166/200 [19:47<04:00,  7.06s/it]"
          ]
        },
        {
          "output_type": "stream",
          "name": "stdout",
          "text": [
            "Epoch 166/200 \t loss=79.4762 \t time=7.04s\n"
          ]
        },
        {
          "output_type": "stream",
          "name": "stderr",
          "text": [
            "\r 84%|████████▎ | 167/200 [19:54<03:53,  7.08s/it]"
          ]
        },
        {
          "output_type": "stream",
          "name": "stdout",
          "text": [
            "Epoch 167/200 \t loss=79.4884 \t time=7.11s\n"
          ]
        },
        {
          "output_type": "stream",
          "name": "stderr",
          "text": [
            "\r 84%|████████▍ | 168/200 [20:01<03:46,  7.09s/it]"
          ]
        },
        {
          "output_type": "stream",
          "name": "stdout",
          "text": [
            "Epoch 168/200 \t loss=73.1082 \t time=7.11s\n"
          ]
        },
        {
          "output_type": "stream",
          "name": "stderr",
          "text": [
            "\r 84%|████████▍ | 169/200 [20:08<03:40,  7.11s/it]"
          ]
        },
        {
          "output_type": "stream",
          "name": "stdout",
          "text": [
            "Epoch 169/200 \t loss=68.8033 \t time=7.15s\n"
          ]
        },
        {
          "output_type": "stream",
          "name": "stderr",
          "text": [
            "\r 85%|████████▌ | 170/200 [20:16<03:33,  7.11s/it]"
          ]
        },
        {
          "output_type": "stream",
          "name": "stdout",
          "text": [
            "Epoch 170/200 \t loss=72.3148 \t time=7.13s\n"
          ]
        },
        {
          "output_type": "stream",
          "name": "stderr",
          "text": [
            "\r 86%|████████▌ | 171/200 [20:23<03:26,  7.11s/it]"
          ]
        },
        {
          "output_type": "stream",
          "name": "stdout",
          "text": [
            "Epoch 171/200 \t loss=87.7995 \t time=7.09s\n"
          ]
        },
        {
          "output_type": "stream",
          "name": "stderr",
          "text": [
            "\r 86%|████████▌ | 172/200 [20:30<03:18,  7.10s/it]"
          ]
        },
        {
          "output_type": "stream",
          "name": "stdout",
          "text": [
            "Epoch 172/200 \t loss=74.0447 \t time=7.09s\n"
          ]
        },
        {
          "output_type": "stream",
          "name": "stderr",
          "text": [
            "\r 86%|████████▋ | 173/200 [20:37<03:11,  7.10s/it]"
          ]
        },
        {
          "output_type": "stream",
          "name": "stdout",
          "text": [
            "Epoch 173/200 \t loss=78.5932 \t time=7.09s\n"
          ]
        },
        {
          "output_type": "stream",
          "name": "stderr",
          "text": [
            "\r 87%|████████▋ | 174/200 [20:44<03:05,  7.12s/it]"
          ]
        },
        {
          "output_type": "stream",
          "name": "stdout",
          "text": [
            "Epoch 174/200 \t loss=77.2155 \t time=7.16s\n"
          ]
        },
        {
          "output_type": "stream",
          "name": "stderr",
          "text": [
            "\r 88%|████████▊ | 175/200 [20:51<02:58,  7.12s/it]"
          ]
        },
        {
          "output_type": "stream",
          "name": "stdout",
          "text": [
            "Epoch 175/200 \t loss=70.6007 \t time=7.13s\n"
          ]
        },
        {
          "output_type": "stream",
          "name": "stderr",
          "text": [
            "\r 88%|████████▊ | 176/200 [20:58<02:51,  7.13s/it]"
          ]
        },
        {
          "output_type": "stream",
          "name": "stdout",
          "text": [
            "Epoch 176/200 \t loss=69.1548 \t time=7.14s\n"
          ]
        },
        {
          "output_type": "stream",
          "name": "stderr",
          "text": [
            "\r 88%|████████▊ | 177/200 [21:05<02:43,  7.13s/it]"
          ]
        },
        {
          "output_type": "stream",
          "name": "stdout",
          "text": [
            "Epoch 177/200 \t loss=70.5861 \t time=7.12s\n"
          ]
        },
        {
          "output_type": "stream",
          "name": "stderr",
          "text": [
            "\r 89%|████████▉ | 178/200 [21:13<02:37,  7.18s/it]"
          ]
        },
        {
          "output_type": "stream",
          "name": "stdout",
          "text": [
            "Epoch 178/200 \t loss=92.8031 \t time=7.30s\n"
          ]
        },
        {
          "output_type": "stream",
          "name": "stderr",
          "text": [
            "\r 90%|████████▉ | 179/200 [21:20<02:30,  7.19s/it]"
          ]
        },
        {
          "output_type": "stream",
          "name": "stdout",
          "text": [
            "Epoch 179/200 \t loss=79.0791 \t time=7.20s\n"
          ]
        },
        {
          "output_type": "stream",
          "name": "stderr",
          "text": [
            "\r 90%|█████████ | 180/200 [21:27<02:23,  7.19s/it]"
          ]
        },
        {
          "output_type": "stream",
          "name": "stdout",
          "text": [
            "Epoch 180/200 \t loss=71.9017 \t time=7.20s\n"
          ]
        },
        {
          "output_type": "stream",
          "name": "stderr",
          "text": [
            "\r 90%|█████████ | 181/200 [21:34<02:16,  7.17s/it]"
          ]
        },
        {
          "output_type": "stream",
          "name": "stdout",
          "text": [
            "Epoch 181/200 \t loss=67.7354 \t time=7.11s\n"
          ]
        },
        {
          "output_type": "stream",
          "name": "stderr",
          "text": [
            "\r 91%|█████████ | 182/200 [21:41<02:08,  7.16s/it]"
          ]
        },
        {
          "output_type": "stream",
          "name": "stdout",
          "text": [
            "Epoch 182/200 \t loss=66.9059 \t time=7.13s\n"
          ]
        },
        {
          "output_type": "stream",
          "name": "stderr",
          "text": [
            "\r 92%|█████████▏| 183/200 [21:48<02:01,  7.16s/it]"
          ]
        },
        {
          "output_type": "stream",
          "name": "stdout",
          "text": [
            "Epoch 183/200 \t loss=223.0772 \t time=7.16s\n"
          ]
        },
        {
          "output_type": "stream",
          "name": "stderr",
          "text": [
            "\r 92%|█████████▏| 184/200 [21:56<01:54,  7.15s/it]"
          ]
        },
        {
          "output_type": "stream",
          "name": "stdout",
          "text": [
            "Epoch 184/200 \t loss=121.2597 \t time=7.12s\n"
          ]
        },
        {
          "output_type": "stream",
          "name": "stderr",
          "text": [
            "\r 92%|█████████▎| 185/200 [22:03<01:47,  7.14s/it]"
          ]
        },
        {
          "output_type": "stream",
          "name": "stdout",
          "text": [
            "Epoch 185/200 \t loss=109.2606 \t time=7.11s\n"
          ]
        },
        {
          "output_type": "stream",
          "name": "stderr",
          "text": [
            "\r 93%|█████████▎| 186/200 [22:10<01:39,  7.13s/it]"
          ]
        },
        {
          "output_type": "stream",
          "name": "stdout",
          "text": [
            "Epoch 186/200 \t loss=97.7137 \t time=7.10s\n"
          ]
        },
        {
          "output_type": "stream",
          "name": "stderr",
          "text": [
            "\r 94%|█████████▎| 187/200 [22:17<01:32,  7.12s/it]"
          ]
        },
        {
          "output_type": "stream",
          "name": "stdout",
          "text": [
            "Epoch 187/200 \t loss=133.4942 \t time=7.10s\n"
          ]
        },
        {
          "output_type": "stream",
          "name": "stderr",
          "text": [
            "\r 94%|█████████▍| 188/200 [22:24<01:25,  7.12s/it]"
          ]
        },
        {
          "output_type": "stream",
          "name": "stdout",
          "text": [
            "Epoch 188/200 \t loss=121.6163 \t time=7.11s\n"
          ]
        },
        {
          "output_type": "stream",
          "name": "stderr",
          "text": [
            "\r 94%|█████████▍| 189/200 [22:31<01:18,  7.13s/it]"
          ]
        },
        {
          "output_type": "stream",
          "name": "stdout",
          "text": [
            "Epoch 189/200 \t loss=133.2512 \t time=7.15s\n"
          ]
        },
        {
          "output_type": "stream",
          "name": "stderr",
          "text": [
            "\r 95%|█████████▌| 190/200 [22:38<01:11,  7.16s/it]"
          ]
        },
        {
          "output_type": "stream",
          "name": "stdout",
          "text": [
            "Epoch 190/200 \t loss=129.6520 \t time=7.23s\n"
          ]
        },
        {
          "output_type": "stream",
          "name": "stderr",
          "text": [
            "\r 96%|█████████▌| 191/200 [22:46<01:04,  7.16s/it]"
          ]
        },
        {
          "output_type": "stream",
          "name": "stdout",
          "text": [
            "Epoch 191/200 \t loss=113.5671 \t time=7.17s\n"
          ]
        },
        {
          "output_type": "stream",
          "name": "stderr",
          "text": [
            "\r 96%|█████████▌| 192/200 [22:53<00:57,  7.15s/it]"
          ]
        },
        {
          "output_type": "stream",
          "name": "stdout",
          "text": [
            "Epoch 192/200 \t loss=119.6680 \t time=7.14s\n"
          ]
        },
        {
          "output_type": "stream",
          "name": "stderr",
          "text": [
            "\r 96%|█████████▋| 193/200 [23:00<00:50,  7.15s/it]"
          ]
        },
        {
          "output_type": "stream",
          "name": "stdout",
          "text": [
            "Epoch 193/200 \t loss=166.4447 \t time=7.14s\n"
          ]
        },
        {
          "output_type": "stream",
          "name": "stderr",
          "text": [
            "\r 97%|█████████▋| 194/200 [23:07<00:42,  7.14s/it]"
          ]
        },
        {
          "output_type": "stream",
          "name": "stdout",
          "text": [
            "Epoch 194/200 \t loss=137.4109 \t time=7.12s\n"
          ]
        },
        {
          "output_type": "stream",
          "name": "stderr",
          "text": [
            "\r 98%|█████████▊| 195/200 [23:14<00:35,  7.12s/it]"
          ]
        },
        {
          "output_type": "stream",
          "name": "stdout",
          "text": [
            "Epoch 195/200 \t loss=134.0962 \t time=7.07s\n"
          ]
        },
        {
          "output_type": "stream",
          "name": "stderr",
          "text": [
            "\r 98%|█████████▊| 196/200 [23:21<00:28,  7.13s/it]"
          ]
        },
        {
          "output_type": "stream",
          "name": "stdout",
          "text": [
            "Epoch 196/200 \t loss=108.0981 \t time=7.16s\n"
          ]
        },
        {
          "output_type": "stream",
          "name": "stderr",
          "text": [
            "\r 98%|█████████▊| 197/200 [23:28<00:21,  7.13s/it]"
          ]
        },
        {
          "output_type": "stream",
          "name": "stdout",
          "text": [
            "Epoch 197/200 \t loss=107.9681 \t time=7.11s\n"
          ]
        },
        {
          "output_type": "stream",
          "name": "stderr",
          "text": [
            "\r 99%|█████████▉| 198/200 [23:35<00:14,  7.14s/it]"
          ]
        },
        {
          "output_type": "stream",
          "name": "stdout",
          "text": [
            "Epoch 198/200 \t loss=98.0579 \t time=7.17s\n"
          ]
        },
        {
          "output_type": "stream",
          "name": "stderr",
          "text": [
            "\r100%|█████████▉| 199/200 [23:43<00:07,  7.14s/it]"
          ]
        },
        {
          "output_type": "stream",
          "name": "stdout",
          "text": [
            "Epoch 199/200 \t loss=158.9117 \t time=7.14s\n"
          ]
        },
        {
          "output_type": "stream",
          "name": "stderr",
          "text": [
            "100%|██████████| 200/200 [23:50<00:00,  7.15s/it]"
          ]
        },
        {
          "output_type": "stream",
          "name": "stdout",
          "text": [
            "Epoch 200/200 \t loss=166.1843 \t time=7.15s\n"
          ]
        },
        {
          "output_type": "stream",
          "name": "stderr",
          "text": [
            "\n"
          ]
        }
      ]
    },
    {
      "cell_type": "code",
      "source": [
        "modelTimeSeriesGRU = TimeSeries(1, 1, 64, 1)\n",
        "\n",
        "# torch.save(modelTimeSeriesGRU.state_dict(), '/content/drive/MyDrive/NLP Dataset/model/modelTimeSeriesGRU.pt')\n",
        "modelTimeSeriesGRU.load_state_dict(torch.load('/content/drive/MyDrive/NLP Dataset/model/modelTimeSeriesGRU.pt'))"
      ],
      "metadata": {
        "id": "8iU5oEiOsrCI"
      },
      "execution_count": null,
      "outputs": []
    },
    {
      "cell_type": "code",
      "source": [
        "def createChart(model, news, x, y, time):\n",
        "  y_pred = model(x, news).detach()\n",
        "  y = y.cpu().detach().numpy()\n",
        "  \n",
        "  pass"
      ],
      "metadata": {
        "id": "GiwVABjlj8lm"
      },
      "execution_count": null,
      "outputs": []
    },
    {
      "cell_type": "code",
      "source": [
        "\n"
      ],
      "metadata": {
        "colab": {
          "base_uri": "https://localhost:8080/"
        },
        "id": "KUIj-Z1XfdBW",
        "outputId": "5abede96-e224-4445-dae3-68e85bf0250d"
      },
      "execution_count": null,
      "outputs": [
        {
          "output_type": "execute_result",
          "data": {
            "text/plain": [
              "torch.Size([64, 64])"
            ]
          },
          "metadata": {},
          "execution_count": 124
        }
      ]
    },
    {
      "cell_type": "code",
      "source": [
        "from sklearn.metrics import r2_score\n",
        "def calculateRSquare(test_loader, model):\n",
        "  y_pred = []\n",
        "  y_true = []\n",
        "  for i, (x_batch, news_batch, y_batch, x_next) in enumerate(test_loader):\n",
        "    y_predicted = model(x_batch, news_batch).detach()\n",
        "    y_batch = y_batch.cpu().detach().numpy()\n",
        "    y_predicted = y_predicted.cpu().numpy()\n",
        "    for i in range(len(y_predicted)):\n",
        "      y_true.append((y_batch[i]))\n",
        "      y_pred.append((y_predicted[i][0]))\n",
        "  print(r2_score(y_true, y_pred))"
      ],
      "metadata": {
        "id": "HUQAUI3wgJ5_"
      },
      "execution_count": null,
      "outputs": []
    },
    {
      "cell_type": "code",
      "source": [
        "calculateRSquare(test_loader, modelTimeSeriesGRU)"
      ],
      "metadata": {
        "colab": {
          "base_uri": "https://localhost:8080/"
        },
        "id": "Mk5VugqNkFSn",
        "outputId": "00dba8f6-b13f-44d3-cf86-ddd31bb67d0d"
      },
      "execution_count": null,
      "outputs": [
        {
          "output_type": "stream",
          "name": "stdout",
          "text": [
            "0.8368021049692439\n"
          ]
        }
      ]
    },
    {
      "cell_type": "code",
      "source": [
        "calculateRSquare(test_loader, modelTimeSeriesLSTM)"
      ],
      "metadata": {
        "colab": {
          "base_uri": "https://localhost:8080/"
        },
        "id": "REnQPlTVQtU3",
        "outputId": "b6be0613-2832-4547-9adf-eef25f691c55"
      },
      "execution_count": 198,
      "outputs": [
        {
          "output_type": "stream",
          "name": "stdout",
          "text": [
            "0.9991200708110123\n"
          ]
        }
      ]
    },
    {
      "cell_type": "code",
      "source": [
        "calculateRSquare(test_loader, modelTimeSeries)"
      ],
      "metadata": {
        "colab": {
          "base_uri": "https://localhost:8080/"
        },
        "id": "ouWgYezpOreI",
        "outputId": "e1ed5d03-33ba-4f08-b401-1b0721d1500c"
      },
      "execution_count": 146,
      "outputs": [
        {
          "output_type": "stream",
          "name": "stdout",
          "text": [
            "0.7980602574641031\n"
          ]
        }
      ]
    },
    {
      "cell_type": "code",
      "source": [
        "import seaborn as sns\n",
        "\n",
        "def draw(y_actual, y_pred):\n",
        "    num_rows = 101\n",
        "    y_actual=y_actual.reshape(-1)\n",
        "    y_pred=y_pred.reshape(-1)\n",
        "    data_preproc = pd.DataFrame({'Days':[x for x in range(1, 102)], 'True Values': y_actual, 'Predicted Values': y_pred})\n",
        "        \n",
        "    sns.lineplot(x='Days', y='value', hue='variable', data=pd.melt(data_preproc, ['Days']))\n",
        "def predict_graph(loader, scaler, model):\n",
        "  for i, (x_batch, news_batch, y_batch, x_next) in enumerate(loader):\n",
        "    index=60\n",
        "    x=x_batch[index].unsqueeze(0)\n",
        "    news=news_batch[index].unsqueeze(0)\n",
        "    y_predicted_list = []\n",
        "    y_new_pred = x_next[index].detach().cpu().numpy().reshape(-1)\n",
        "    for k in range(100):\n",
        "      y_pred=model(x, news)\n",
        "      y_new_pre = y_pred.detach().cpu().numpy()\n",
        "      y = y_new_pred[k]+predicted_list[k]\n",
        "      y_predicted_list.append(y)\n",
        "      x=x.detach().cpu().numpy()\n",
        "      x=np.append(x, 1)\n",
        "      x=x.reshape(1, -1)\n",
        "      x=scaler.transform(x)\n",
        "      x = x.reshape(-1, 1)\n",
        "      x = x[:-1]\n",
        "      x = np.append(x, y)\n",
        "      x = x.reshape(1, -1)\n",
        "      x=scaler.transform(x)\n",
        "      x = x.reshape(-1, 1)\n",
        "      x=x[1:]\n",
        "      x=torch.tensor(x, dtype=torch.float32)\n",
        "      x=x.unsqueeze(0)\n",
        "      x=x.to(device)\n",
        "    y_new_pred=np.append(y_new_pred, y_new_pred[-1])\n",
        "    y_predicted_list.append(y_predicted_list[-1])\n",
        "    draw(scaler.transform(y_new_pred.reshape(1, -1)), scaler.transform(np.array(y_predicted_list).reshape(1, -1))) \n",
        "    break\n",
        "  \n",
        "predict_graph(test_loader, scaler, modelTimeSeriesLSTM)"
      ],
      "metadata": {
        "colab": {
          "base_uri": "https://localhost:8080/",
          "height": 279
        },
        "id": "VomuQAvlNe3y",
        "outputId": "7bff6def-abb8-4d88-974e-063749295b83"
      },
      "execution_count": 272,
      "outputs": [
        {
          "output_type": "display_data",
          "data": {
            "text/plain": [
              "<Figure size 432x288 with 1 Axes>"
            ],
            "image/png": "[encoded data removed]"
          },
          "metadata": {
            "needs_background": "light"
          }
        }
      ]
    },
    {
      "cell_type": "code",
      "source": [
        "predict_graph(test_loader, scaler, modelTimeSeriesGRU)"
      ],
      "metadata": {
        "colab": {
          "base_uri": "https://localhost:8080/",
          "height": 279
        },
        "id": "V2I2OFSowkcg",
        "outputId": "3262b4f4-c030-4baf-eafa-646415f31d39"
      },
      "execution_count": 271,
      "outputs": [
        {
          "output_type": "display_data",
          "data": {
            "text/plain": [
              "<Figure size 432x288 with 1 Axes>"
            ],
            "image/png": "[encoded data removed]"
          },
          "metadata": {
            "needs_background": "light"
          }
        }
      ]
    },
    {
      "cell_type": "code",
      "source": [],
      "metadata": {
        "id": "QVluYup-lbU_"
      },
      "execution_count": null,
      "outputs": []
    }
  ],
  "metadata": {
    "accelerator": "GPU",
    "colab": {
      "provenance": [],
      "machine_shape": "hm",
      "include_colab_link": true
    },
    "gpuClass": "premium",
    "kernelspec": {
      "display_name": "Python 3 (ipykernel)",
      "language": "python",
      "name": "python3"
    },
    "language_info": {
      "codemirror_mode": {
        "name": "ipython",
        "version": 3
      },
      "file_extension": ".py",
      "mimetype": "text/x-python",
      "name": "python",
      "nbconvert_exporter": "python",
      "pygments_lexer": "ipython3",
      "version": "3.9.12"
    },
    "widgets": {
      "application/vnd.jupyter.widget-state+json": {
        "f11bb273c631409198b4da6070588aa1": {
          "model_module": "@jupyter-widgets/controls",
          "model_name": "HBoxModel",
          "model_module_version": "1.5.0",
          "state": {
            "_dom_classes": [],
            "_model_module": "@jupyter-widgets/controls",
            "_model_module_version": "1.5.0",
            "_model_name": "HBoxModel",
            "_view_count": null,
            "_view_module": "@jupyter-widgets/controls",
            "_view_module_version": "1.5.0",
            "_view_name": "HBoxView",
            "box_style": "",
            "children": [
              "IPY_MODEL_5a70f5ac19d140ceab4f4276c12d4da7",
              "IPY_MODEL_e043caf89d16443e963ef2fc71370a89",
              "IPY_MODEL_68d903a019264a5e8d868189f62ab823"
            ],
            "layout": "IPY_MODEL_230639981f6e4cdebb54c2aca6282ade"
          }
        },
        "5a70f5ac19d140ceab4f4276c12d4da7": {
          "model_module": "@jupyter-widgets/controls",
          "model_name": "HTMLModel",
          "model_module_version": "1.5.0",
          "state": {
            "_dom_classes": [],
            "_model_module": "@jupyter-widgets/controls",
            "_model_module_version": "1.5.0",
            "_model_name": "HTMLModel",
            "_view_count": null,
            "_view_module": "@jupyter-widgets/controls",
            "_view_module_version": "1.5.0",
            "_view_name": "HTMLView",
            "description": "",
            "description_tooltip": null,
            "layout": "IPY_MODEL_912a3dd4f53745d892fe7843a31c81a1",
            "placeholder": "​",
            "style": "IPY_MODEL_a76b96f3235f49f6baa3e4fc58b4beda",
            "value": "Downloading: 100%"
          }
        },
        "e043caf89d16443e963ef2fc71370a89": {
          "model_module": "@jupyter-widgets/controls",
          "model_name": "FloatProgressModel",
          "model_module_version": "1.5.0",
          "state": {
            "_dom_classes": [],
            "_model_module": "@jupyter-widgets/controls",
            "_model_module_version": "1.5.0",
            "_model_name": "FloatProgressModel",
            "_view_count": null,
            "_view_module": "@jupyter-widgets/controls",
            "_view_module_version": "1.5.0",
            "_view_name": "ProgressView",
            "bar_style": "success",
            "description": "",
            "description_tooltip": null,
            "layout": "IPY_MODEL_002eb6faa7234ff88be25a7fcb5ea162",
            "max": 440473133,
            "min": 0,
            "orientation": "horizontal",
            "style": "IPY_MODEL_b24ee3504ae74b14a9eb0222922c7779",
            "value": 440473133
          }
        },
        "68d903a019264a5e8d868189f62ab823": {
          "model_module": "@jupyter-widgets/controls",
          "model_name": "HTMLModel",
          "model_module_version": "1.5.0",
          "state": {
            "_dom_classes": [],
            "_model_module": "@jupyter-widgets/controls",
            "_model_module_version": "1.5.0",
            "_model_name": "HTMLModel",
            "_view_count": null,
            "_view_module": "@jupyter-widgets/controls",
            "_view_module_version": "1.5.0",
            "_view_name": "HTMLView",
            "description": "",
            "description_tooltip": null,
            "layout": "IPY_MODEL_d5cc0b1b60d047e39041ed8678f6fbb8",
            "placeholder": "​",
            "style": "IPY_MODEL_2437ee83c8404ca58542fbc6ed0f2874",
            "value": " 440M/440M [00:05&lt;00:00, 85.8MB/s]"
          }
        },
        "230639981f6e4cdebb54c2aca6282ade": {
          "model_module": "@jupyter-widgets/base",
          "model_name": "LayoutModel",
          "model_module_version": "1.2.0",
          "state": {
            "_model_module": "@jupyter-widgets/base",
            "_model_module_version": "1.2.0",
            "_model_name": "LayoutModel",
            "_view_count": null,
            "_view_module": "@jupyter-widgets/base",
            "_view_module_version": "1.2.0",
            "_view_name": "LayoutView",
            "align_content": null,
            "align_items": null,
            "align_self": null,
            "border": null,
            "bottom": null,
            "display": null,
            "flex": null,
            "flex_flow": null,
            "grid_area": null,
            "grid_auto_columns": null,
            "grid_auto_flow": null,
            "grid_auto_rows": null,
            "grid_column": null,
            "grid_gap": null,
            "grid_row": null,
            "grid_template_areas": null,
            "grid_template_columns": null,
            "grid_template_rows": null,
            "height": null,
            "justify_content": null,
            "justify_items": null,
            "left": null,
            "margin": null,
            "max_height": null,
            "max_width": null,
            "min_height": null,
            "min_width": null,
            "object_fit": null,
            "object_position": null,
            "order": null,
            "overflow": null,
            "overflow_x": null,
            "overflow_y": null,
            "padding": null,
            "right": null,
            "top": null,
            "visibility": null,
            "width": null
          }
        },
        "912a3dd4f53745d892fe7843a31c81a1": {
          "model_module": "@jupyter-widgets/base",
          "model_name": "LayoutModel",
          "model_module_version": "1.2.0",
          "state": {
            "_model_module": "@jupyter-widgets/base",
            "_model_module_version": "1.2.0",
            "_model_name": "LayoutModel",
            "_view_count": null,
            "_view_module": "@jupyter-widgets/base",
            "_view_module_version": "1.2.0",
            "_view_name": "LayoutView",
            "align_content": null,
            "align_items": null,
            "align_self": null,
            "border": null,
            "bottom": null,
            "display": null,
            "flex": null,
            "flex_flow": null,
            "grid_area": null,
            "grid_auto_columns": null,
            "grid_auto_flow": null,
            "grid_auto_rows": null,
            "grid_column": null,
            "grid_gap": null,
            "grid_row": null,
            "grid_template_areas": null,
            "grid_template_columns": null,
            "grid_template_rows": null,
            "height": null,
            "justify_content": null,
            "justify_items": null,
            "left": null,
            "margin": null,
            "max_height": null,
            "max_width": null,
            "min_height": null,
            "min_width": null,
            "object_fit": null,
            "object_position": null,
            "order": null,
            "overflow": null,
            "overflow_x": null,
            "overflow_y": null,
            "padding": null,
            "right": null,
            "top": null,
            "visibility": null,
            "width": null
          }
        },
        "a76b96f3235f49f6baa3e4fc58b4beda": {
          "model_module": "@jupyter-widgets/controls",
          "model_name": "DescriptionStyleModel",
          "model_module_version": "1.5.0",
          "state": {
            "_model_module": "@jupyter-widgets/controls",
            "_model_module_version": "1.5.0",
            "_model_name": "DescriptionStyleModel",
            "_view_count": null,
            "_view_module": "@jupyter-widgets/base",
            "_view_module_version": "1.2.0",
            "_view_name": "StyleView",
            "description_width": ""
          }
        },
        "002eb6faa7234ff88be25a7fcb5ea162": {
          "model_module": "@jupyter-widgets/base",
          "model_name": "LayoutModel",
          "model_module_version": "1.2.0",
          "state": {
            "_model_module": "@jupyter-widgets/base",
            "_model_module_version": "1.2.0",
            "_model_name": "LayoutModel",
            "_view_count": null,
            "_view_module": "@jupyter-widgets/base",
            "_view_module_version": "1.2.0",
            "_view_name": "LayoutView",
            "align_content": null,
            "align_items": null,
            "align_self": null,
            "border": null,
            "bottom": null,
            "display": null,
            "flex": null,
            "flex_flow": null,
            "grid_area": null,
            "grid_auto_columns": null,
            "grid_auto_flow": null,
            "grid_auto_rows": null,
            "grid_column": null,
            "grid_gap": null,
            "grid_row": null,
            "grid_template_areas": null,
            "grid_template_columns": null,
            "grid_template_rows": null,
            "height": null,
            "justify_content": null,
            "justify_items": null,
            "left": null,
            "margin": null,
            "max_height": null,
            "max_width": null,
            "min_height": null,
            "min_width": null,
            "object_fit": null,
            "object_position": null,
            "order": null,
            "overflow": null,
            "overflow_x": null,
            "overflow_y": null,
            "padding": null,
            "right": null,
            "top": null,
            "visibility": null,
            "width": null
          }
        },
        "b24ee3504ae74b14a9eb0222922c7779": {
          "model_module": "@jupyter-widgets/controls",
          "model_name": "ProgressStyleModel",
          "model_module_version": "1.5.0",
          "state": {
            "_model_module": "@jupyter-widgets/controls",
            "_model_module_version": "1.5.0",
            "_model_name": "ProgressStyleModel",
            "_view_count": null,
            "_view_module": "@jupyter-widgets/base",
            "_view_module_version": "1.2.0",
            "_view_name": "StyleView",
            "bar_color": null,
            "description_width": ""
          }
        },
        "d5cc0b1b60d047e39041ed8678f6fbb8": {
          "model_module": "@jupyter-widgets/base",
          "model_name": "LayoutModel",
          "model_module_version": "1.2.0",
          "state": {
            "_model_module": "@jupyter-widgets/base",
            "_model_module_version": "1.2.0",
            "_model_name": "LayoutModel",
            "_view_count": null,
            "_view_module": "@jupyter-widgets/base",
            "_view_module_version": "1.2.0",
            "_view_name": "LayoutView",
            "align_content": null,
            "align_items": null,
            "align_self": null,
            "border": null,
            "bottom": null,
            "display": null,
            "flex": null,
            "flex_flow": null,
            "grid_area": null,
            "grid_auto_columns": null,
            "grid_auto_flow": null,
            "grid_auto_rows": null,
            "grid_column": null,
            "grid_gap": null,
            "grid_row": null,
            "grid_template_areas": null,
            "grid_template_columns": null,
            "grid_template_rows": null,
            "height": null,
            "justify_content": null,
            "justify_items": null,
            "left": null,
            "margin": null,
            "max_height": null,
            "max_width": null,
            "min_height": null,
            "min_width": null,
            "object_fit": null,
            "object_position": null,
            "order": null,
            "overflow": null,
            "overflow_x": null,
            "overflow_y": null,
            "padding": null,
            "right": null,
            "top": null,
            "visibility": null,
            "width": null
          }
        },
        "2437ee83c8404ca58542fbc6ed0f2874": {
          "model_module": "@jupyter-widgets/controls",
          "model_name": "DescriptionStyleModel",
          "model_module_version": "1.5.0",
          "state": {
            "_model_module": "@jupyter-widgets/controls",
            "_model_module_version": "1.5.0",
            "_model_name": "DescriptionStyleModel",
            "_view_count": null,
            "_view_module": "@jupyter-widgets/base",
            "_view_module_version": "1.2.0",
            "_view_name": "StyleView",
            "description_width": ""
          }
        }
      }
    }
  },
  "nbformat": 4,
  "nbformat_minor": 0
}